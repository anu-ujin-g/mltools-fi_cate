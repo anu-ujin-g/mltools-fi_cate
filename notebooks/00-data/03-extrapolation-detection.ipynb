{
 "cells": [
  {
   "cell_type": "markdown",
   "metadata": {},
   "source": [
    "# Extrapolation Detection (4.3)\n",
    "Ant Ngo"
   ]
  },
  {
   "cell_type": "code",
   "execution_count": 9,
   "metadata": {},
   "outputs": [],
   "source": [
    "from matplotlib import pyplot as plt\n",
    "import numpy as np\n",
    "import pandas as pd\n",
    "import os"
   ]
  },
  {
   "cell_type": "code",
   "execution_count": 10,
   "metadata": {},
   "outputs": [],
   "source": [
    "exec(open(\"../../header.py\").read())"
   ]
  },
  {
   "cell_type": "markdown",
   "metadata": {},
   "source": [
    "**Model distribution:**\n",
    "\n",
    "$Y = 10X^{2}_{1} + \\mathbb{1}_{X_{2} \\geq 0} + \\varepsilon$,\n",
    "\n",
    "$\\varepsilon \\overset{\\text{iid}}{\\sim} \\mathcal{N}(0, .1^{2}), \\begin{bmatrix}\n",
    "X_1\\\\\n",
    "X_2\n",
    "\\end{bmatrix}\n",
    "\\sim \\begin{cases}\n",
    "U(-1,0), U(-1,0) &\\text{w.p. $\\frac{1}{3}$}\\\\\n",
    "U(0,1), U(-1,0) &\\text{w.p. $\\frac{1}{3}$}\\\\\n",
    "U(-1,0), U(0,1) &\\text{w.p. $\\frac{1}{3}$}\\\\\n",
    "U(0,1), U(0,1) &\\text{w.p. $0$}\\\\\n",
    "\\end{cases}$"
   ]
  },
  {
   "cell_type": "code",
   "execution_count": 11,
   "metadata": {},
   "outputs": [],
   "source": [
    "def extrap_ex_sim(N, seed = None):\n",
    "    '''\n",
    "    #' Generates simulated data in \n",
    "    #' Section 4.3 Extrapolation Detection\n",
    "    #' @param N Number of samples to generate.\n",
    "    #' @param seednum Random seed for reproducibility.\n",
    "    #' @return Simulated data (dataframe) with N observations.\n",
    "    #' @examples\n",
    "    #' extrap_ex_sim(1000,1)\n",
    "    #' extrap_ex_sim(3000,420)\n",
    "    '''\n",
    "    # force seed if not defined\n",
    "    if seed is None:\n",
    "        np.random.seed(seed)\n",
    "    \n",
    "    def simulate():\n",
    "        '''\n",
    "        #' Helper to simulate one observation\n",
    "        #' @return Single randomly generated observation\n",
    "        #' based on 4.3 distribution.\n",
    "        '''\n",
    "\n",
    "        # generate random probability (0-1)\n",
    "        s = np.random.uniform(low = 0, high = 1)\n",
    "\n",
    "        # get distribution for x1, x2\n",
    "        if s < (1/3):\n",
    "            x1 = np.random.uniform(low = -1, high = 0, size = 1)\n",
    "            x2 = np.random.uniform(low = -1, high = 0, size = 1)\n",
    "        else:\n",
    "            if s < (2/3):\n",
    "                x1 = np.random.uniform(low = -1, high = 0, size = 1)\n",
    "                x2 = np.random.uniform(low = 0, high = 1, size = 1)\n",
    "            else:\n",
    "                x1 = np.random.uniform(low = 0, high = 1, size = 1)\n",
    "                x2 = np.random.uniform(low = -1, high = 0, size = 1)\n",
    "\n",
    "        # generate single observation\n",
    "        single_obs = np.concatenate((x1,x2), axis = 0)\n",
    "\n",
    "        return single_obs\n",
    " \n",
    "    \n",
    "    # set distribution params\n",
    "    b1, b2, sd = 10, 1, 0.1\n",
    "    \n",
    "    # matrix initialization\n",
    "    X = np.full([N, 2], None)\n",
    "    \n",
    "    # simulate feature matrix\n",
    "    for i in range(0,N):\n",
    "        X[i,] = simulate()\n",
    "        \n",
    "    # create epsilon (noise)\n",
    "    noise = sp.stats.norm.rvs(size=N)\n",
    "    \n",
    "    # generate Y\n",
    "    y = b1 * (X[:,0]**2) + b2 *(X[:,1]>0) + noise\n",
    "    y = y.reshape(-1,1)\n",
    "    \n",
    "    # concat feature matrix and target vector\n",
    "    df = np.concatenate([X,y], axis = 1)\n",
    "    \n",
    "    # convert to df\n",
    "    df = pd.DataFrame(df, columns = ['x1','x2','y'])\n",
    "    \n",
    "    return df"
   ]
  },
  {
   "cell_type": "code",
   "execution_count": 12,
   "metadata": {},
   "outputs": [
    {
     "data": {
      "text/html": [
       "<div>\n",
       "<style scoped>\n",
       "    .dataframe tbody tr th:only-of-type {\n",
       "        vertical-align: middle;\n",
       "    }\n",
       "\n",
       "    .dataframe tbody tr th {\n",
       "        vertical-align: top;\n",
       "    }\n",
       "\n",
       "    .dataframe thead th {\n",
       "        text-align: right;\n",
       "    }\n",
       "</style>\n",
       "<table border=\"1\" class=\"dataframe\">\n",
       "  <thead>\n",
       "    <tr style=\"text-align: right;\">\n",
       "      <th></th>\n",
       "      <th>x1</th>\n",
       "      <th>x2</th>\n",
       "      <th>y</th>\n",
       "    </tr>\n",
       "  </thead>\n",
       "  <tbody>\n",
       "    <tr>\n",
       "      <th>0</th>\n",
       "      <td>0.610726</td>\n",
       "      <td>-0.54074</td>\n",
       "      <td>5.24315</td>\n",
       "    </tr>\n",
       "    <tr>\n",
       "      <th>1</th>\n",
       "      <td>-0.110693</td>\n",
       "      <td>-0.830327</td>\n",
       "      <td>-0.864087</td>\n",
       "    </tr>\n",
       "    <tr>\n",
       "      <th>2</th>\n",
       "      <td>0.655724</td>\n",
       "      <td>-0.0714597</td>\n",
       "      <td>5.31649</td>\n",
       "    </tr>\n",
       "    <tr>\n",
       "      <th>3</th>\n",
       "      <td>-0.0854465</td>\n",
       "      <td>-0.50566</td>\n",
       "      <td>0.0166089</td>\n",
       "    </tr>\n",
       "    <tr>\n",
       "      <th>4</th>\n",
       "      <td>-0.466717</td>\n",
       "      <td>-0.764031</td>\n",
       "      <td>3.17603</td>\n",
       "    </tr>\n",
       "  </tbody>\n",
       "</table>\n",
       "</div>"
      ],
      "text/plain": [
       "          x1         x2          y\n",
       "0   0.610726   -0.54074    5.24315\n",
       "1  -0.110693  -0.830327  -0.864087\n",
       "2   0.655724 -0.0714597    5.31649\n",
       "3 -0.0854465   -0.50566  0.0166089\n",
       "4  -0.466717  -0.764031    3.17603"
      ]
     },
     "execution_count": 12,
     "metadata": {},
     "output_type": "execute_result"
    }
   ],
   "source": [
    "df = extrap_ex_sim(1000)\n",
    "df.head()"
   ]
  },
  {
   "cell_type": "code",
   "execution_count": 13,
   "metadata": {},
   "outputs": [],
   "source": [
    "X = df[['x1','x2']]\n",
    "b1, b2, sd = 10, 1, 0.1\n",
    "noise = sp.stats.norm.rvs(size=1000)\n",
    "y = b1 * (df.x1**2) + b2 * (df.x2 > 0) + noise"
   ]
  },
  {
   "cell_type": "markdown",
   "metadata": {},
   "source": [
    "# Save"
   ]
  },
  {
   "cell_type": "code",
   "execution_count": 14,
   "metadata": {},
   "outputs": [],
   "source": [
    "folder_name = 'extrapolation_detection'"
   ]
  },
  {
   "cell_type": "code",
   "execution_count": 15,
   "metadata": {},
   "outputs": [],
   "source": [
    "try:\n",
    "    os.mkdir(processed_root(folder_name))\n",
    "except FileExistsError:\n",
    "    print(\"Folder already exists\")"
   ]
  },
  {
   "cell_type": "code",
   "execution_count": 16,
   "metadata": {},
   "outputs": [],
   "source": [
    "X.to_csv(processed_root(f\"{folder_name}/X.csv\"), index = False)\n",
    "y.to_csv(processed_root(f\"{folder_name}/y.csv\"), index = False)"
   ]
  }
 ],
 "metadata": {
  "kernelspec": {
   "display_name": "Python 3",
   "language": "python",
   "name": "python3"
  },
  "language_info": {
   "codemirror_mode": {
    "name": "ipython",
    "version": 3
   },
   "file_extension": ".py",
   "mimetype": "text/x-python",
   "name": "python",
   "nbconvert_exporter": "python",
   "pygments_lexer": "ipython3",
   "version": "3.8.5"
  },
  "toc": {
   "base_numbering": 1,
   "nav_menu": {},
   "number_sections": true,
   "sideBar": true,
   "skip_h1_title": false,
   "title_cell": "Table of Contents",
   "title_sidebar": "Contents",
   "toc_cell": false,
   "toc_position": {},
   "toc_section_display": true,
   "toc_window_display": true
  }
 },
 "nbformat": 4,
 "nbformat_minor": 4
}
