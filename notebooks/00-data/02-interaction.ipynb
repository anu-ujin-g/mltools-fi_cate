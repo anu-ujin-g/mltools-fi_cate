{
 "cells": [
  {
   "cell_type": "markdown",
   "metadata": {},
   "source": [
    "# Interaction model\n",
    "\n",
    "From (4.2 Finding interactions and regions of interactions) in ICE paper\n",
    "\n",
    "$Y = 0.2X_{1} - 5X_{2} + 10X_2\\mathbb{1}_{X_{3} \\geq 0} + \\varepsilon$,\n",
    "\n",
    "$\\varepsilon \\overset{\\text{iid}}{\\sim} \\mathcal{N}(0,1),\\quad X_{1},X_{2},X_{3}\\overset{\\text{iid}}{\\sim}U(-1,1) $"
   ]
  },
  {
   "cell_type": "code",
   "execution_count": 33,
   "metadata": {},
   "outputs": [],
   "source": [
    "import numpy as np\n",
    "import pandas as pd\n",
    "import os\n",
    "from matplotlib import pyplot as plt"
   ]
  },
  {
   "cell_type": "code",
   "execution_count": 31,
   "metadata": {},
   "outputs": [],
   "source": [
    "exec(open(\"../../header.py\").read())"
   ]
  },
  {
   "cell_type": "code",
   "execution_count": 22,
   "metadata": {},
   "outputs": [],
   "source": [
    "rng = np.random.default_rng(0)\n",
    "N = 10000"
   ]
  },
  {
   "cell_type": "markdown",
   "metadata": {},
   "source": [
    "# Generate data"
   ]
  },
  {
   "cell_type": "code",
   "execution_count": 28,
   "metadata": {},
   "outputs": [],
   "source": [
    "X = pd.DataFrame({\n",
    "    'X1':rng.uniform(-1, 1, size = N),\n",
    "    'X2':rng.uniform(-1, 1, size = N),\n",
    "    'X3':rng.uniform(-1, 1, size = N)\n",
    "})\n",
    "eps = rng.normal(0, 1, size = N)\n",
    "\n",
    "y = 0.2 * X['X1'] - 5 * X['X2'] + 10 * X['X2'] * (X['X3']>0) + eps\n",
    "y = pd.DataFrame(y, columns = ['y'])"
   ]
  },
  {
   "cell_type": "markdown",
   "metadata": {},
   "source": [
    "# Save data"
   ]
  },
  {
   "cell_type": "code",
   "execution_count": 34,
   "metadata": {},
   "outputs": [],
   "source": [
    "try:\n",
    "    os.mkdir(processed_root(\"interactions\"))\n",
    "except FileExistsError:\n",
    "    print(\"Folder already exists\")"
   ]
  },
  {
   "cell_type": "code",
   "execution_count": 35,
   "metadata": {},
   "outputs": [],
   "source": [
    "X.to_csv(processed_root(\"interactions/X.csv\"), index = False)\n",
    "y.to_csv(processed_root(\"interactions/y.csv\"), index = False)"
   ]
  }
 ],
 "metadata": {
  "kernelspec": {
   "display_name": "Python 3",
   "language": "python",
   "name": "python3"
  },
  "language_info": {
   "codemirror_mode": {
    "name": "ipython",
    "version": 3
   },
   "file_extension": ".py",
   "mimetype": "text/x-python",
   "name": "python",
   "nbconvert_exporter": "python",
   "pygments_lexer": "ipython3",
   "version": "3.8.5"
  },
  "toc": {
   "base_numbering": 1,
   "nav_menu": {},
   "number_sections": true,
   "sideBar": true,
   "skip_h1_title": false,
   "title_cell": "Table of Contents",
   "title_sidebar": "Contents",
   "toc_cell": false,
   "toc_position": {},
   "toc_section_display": true,
   "toc_window_display": true
  }
 },
 "nbformat": 4,
 "nbformat_minor": 4
}
