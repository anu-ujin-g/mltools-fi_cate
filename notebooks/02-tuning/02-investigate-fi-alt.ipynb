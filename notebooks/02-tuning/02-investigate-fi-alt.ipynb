{
 "cells": [
  {
   "cell_type": "code",
   "execution_count": 71,
   "metadata": {
    "id": "BqkGR-LB_-Bf"
   },
   "outputs": [],
   "source": [
    "import pandas as pd\n",
    "import numpy as np\n",
    "import matplotlib.pyplot as plt\n",
    "%matplotlib inline\n",
    "import seaborn as sns\n",
    "sns.set_theme(style=\"darkgrid\")\n",
    "import scipy as sp\n",
    "from sklearn.ensemble import RandomForestClassifier\n",
    "from sklearn.impute import SimpleImputer\n",
    "from datetime import datetime"
   ]
  },
  {
   "cell_type": "code",
   "execution_count": 72,
   "metadata": {},
   "outputs": [],
   "source": [
    "exec(open(\"../../header.py\").read())"
   ]
  },
  {
   "cell_type": "markdown",
   "metadata": {},
   "source": [
    "# Import data"
   ]
  },
  {
   "cell_type": "code",
   "execution_count": 73,
   "metadata": {
    "id": "vXpomyt6FMz2"
   },
   "outputs": [],
   "source": [
    "X = pd.read_csv(processed_root('cervical_cancer_risks/X.csv'))\n",
    "y = pd.read_csv(processed_root('cervical_cancer_risks/y.csv'))"
   ]
  },
  {
   "cell_type": "markdown",
   "metadata": {},
   "source": [
    "# Fit model"
   ]
  },
  {
   "cell_type": "code",
   "execution_count": 74,
   "metadata": {
    "colab": {
     "base_uri": "https://localhost:8080/"
    },
    "id": "xB4klszcFiEB",
    "outputId": "2985105a-80fe-44cd-9235-a7c09a7d7b0d"
   },
   "outputs": [
    {
     "data": {
      "text/plain": [
       "RandomForestClassifier(n_estimators=500)"
      ]
     },
     "execution_count": 74,
     "metadata": {},
     "output_type": "execute_result"
    }
   ],
   "source": [
    "# fit RF\n",
    "rf = RandomForestClassifier(n_estimators = 500)\n",
    "rf.fit(X, y['Biopsy'])"
   ]
  },
  {
   "cell_type": "markdown",
   "metadata": {},
   "source": [
    "# Use class"
   ]
  },
  {
   "cell_type": "code",
   "execution_count": 75,
   "metadata": {},
   "outputs": [],
   "source": [
    "exec(open(\"../../header.py\").read())"
   ]
  },
  {
   "cell_type": "code",
   "execution_count": 76,
   "metadata": {},
   "outputs": [],
   "source": [
    "ice = ICE(\"binary\", time = False)"
   ]
  },
  {
   "cell_type": "code",
   "execution_count": 77,
   "metadata": {},
   "outputs": [],
   "source": [
    "ice.fit(X, rf)"
   ]
  },
  {
   "cell_type": "code",
   "execution_count": 78,
   "metadata": {},
   "outputs": [],
   "source": [
    "b = pd.DataFrame({'Feature':X.columns, \n",
    "              'RF FI':rf.feature_importances_*100})\\\n",
    "    .round(3)"
   ]
  },
  {
   "cell_type": "code",
   "execution_count": 79,
   "metadata": {},
   "outputs": [
    {
     "ename": "KeyError",
     "evalue": "\"['Normalized Mean'] not found in axis\"",
     "output_type": "error",
     "traceback": [
      "\u001b[1;31m---------------------------------------------------------------------------\u001b[0m",
      "\u001b[1;31mKeyError\u001b[0m                                  Traceback (most recent call last)",
      "\u001b[1;32m<ipython-input-79-b8b4e29d2fa6>\u001b[0m in \u001b[0;36m<module>\u001b[1;34m\u001b[0m\n\u001b[1;32m----> 1\u001b[1;33m \u001b[0ma\u001b[0m \u001b[1;33m=\u001b[0m \u001b[0mice\u001b[0m\u001b[1;33m.\u001b[0m\u001b[0mfeature_impact_table\u001b[0m\u001b[1;33m(\u001b[0m\u001b[1;33m)\u001b[0m\u001b[0;31m\\\u001b[0m\u001b[1;33m\u001b[0m\u001b[1;33m\u001b[0m\u001b[0m\n\u001b[0m\u001b[0;32m      2\u001b[0m     \u001b[1;33m.\u001b[0m\u001b[0mdrop\u001b[0m\u001b[1;33m(\u001b[0m\u001b[1;33m[\u001b[0m\u001b[1;34m'Normalized Mean'\u001b[0m\u001b[1;33m]\u001b[0m\u001b[1;33m,\u001b[0m \u001b[0maxis\u001b[0m \u001b[1;33m=\u001b[0m \u001b[1;36m1\u001b[0m\u001b[1;33m)\u001b[0m\u001b[0;31m\\\u001b[0m\u001b[1;33m\u001b[0m\u001b[1;33m\u001b[0m\u001b[0m\n\u001b[0;32m      3\u001b[0m     .rename({'Normalized Absolute Mean':'Norm Mean Abs',\n\u001b[0;32m      4\u001b[0m              'Feature Impact':'FI'}, axis = 1)\\\n\u001b[0;32m      5\u001b[0m     \u001b[1;33m.\u001b[0m\u001b[0mround\u001b[0m\u001b[1;33m(\u001b[0m\u001b[1;36m3\u001b[0m\u001b[1;33m)\u001b[0m\u001b[0;31m\\\u001b[0m\u001b[1;33m\u001b[0m\u001b[1;33m\u001b[0m\u001b[0m\n",
      "\u001b[1;32m~\\anaconda3\\lib\\site-packages\\pandas\\core\\frame.py\u001b[0m in \u001b[0;36mdrop\u001b[1;34m(self, labels, axis, index, columns, level, inplace, errors)\u001b[0m\n\u001b[0;32m   4161\u001b[0m                 \u001b[0mweight\u001b[0m  \u001b[1;36m1.0\u001b[0m     \u001b[1;36m0.8\u001b[0m\u001b[1;33m\u001b[0m\u001b[1;33m\u001b[0m\u001b[0m\n\u001b[0;32m   4162\u001b[0m         \"\"\"\n\u001b[1;32m-> 4163\u001b[1;33m         return super().drop(\n\u001b[0m\u001b[0;32m   4164\u001b[0m             \u001b[0mlabels\u001b[0m\u001b[1;33m=\u001b[0m\u001b[0mlabels\u001b[0m\u001b[1;33m,\u001b[0m\u001b[1;33m\u001b[0m\u001b[1;33m\u001b[0m\u001b[0m\n\u001b[0;32m   4165\u001b[0m             \u001b[0maxis\u001b[0m\u001b[1;33m=\u001b[0m\u001b[0maxis\u001b[0m\u001b[1;33m,\u001b[0m\u001b[1;33m\u001b[0m\u001b[1;33m\u001b[0m\u001b[0m\n",
      "\u001b[1;32m~\\anaconda3\\lib\\site-packages\\pandas\\core\\generic.py\u001b[0m in \u001b[0;36mdrop\u001b[1;34m(self, labels, axis, index, columns, level, inplace, errors)\u001b[0m\n\u001b[0;32m   3885\u001b[0m         \u001b[1;32mfor\u001b[0m \u001b[0maxis\u001b[0m\u001b[1;33m,\u001b[0m \u001b[0mlabels\u001b[0m \u001b[1;32min\u001b[0m \u001b[0maxes\u001b[0m\u001b[1;33m.\u001b[0m\u001b[0mitems\u001b[0m\u001b[1;33m(\u001b[0m\u001b[1;33m)\u001b[0m\u001b[1;33m:\u001b[0m\u001b[1;33m\u001b[0m\u001b[1;33m\u001b[0m\u001b[0m\n\u001b[0;32m   3886\u001b[0m             \u001b[1;32mif\u001b[0m \u001b[0mlabels\u001b[0m \u001b[1;32mis\u001b[0m \u001b[1;32mnot\u001b[0m \u001b[1;32mNone\u001b[0m\u001b[1;33m:\u001b[0m\u001b[1;33m\u001b[0m\u001b[1;33m\u001b[0m\u001b[0m\n\u001b[1;32m-> 3887\u001b[1;33m                 \u001b[0mobj\u001b[0m \u001b[1;33m=\u001b[0m \u001b[0mobj\u001b[0m\u001b[1;33m.\u001b[0m\u001b[0m_drop_axis\u001b[0m\u001b[1;33m(\u001b[0m\u001b[0mlabels\u001b[0m\u001b[1;33m,\u001b[0m \u001b[0maxis\u001b[0m\u001b[1;33m,\u001b[0m \u001b[0mlevel\u001b[0m\u001b[1;33m=\u001b[0m\u001b[0mlevel\u001b[0m\u001b[1;33m,\u001b[0m \u001b[0merrors\u001b[0m\u001b[1;33m=\u001b[0m\u001b[0merrors\u001b[0m\u001b[1;33m)\u001b[0m\u001b[1;33m\u001b[0m\u001b[1;33m\u001b[0m\u001b[0m\n\u001b[0m\u001b[0;32m   3888\u001b[0m \u001b[1;33m\u001b[0m\u001b[0m\n\u001b[0;32m   3889\u001b[0m         \u001b[1;32mif\u001b[0m \u001b[0minplace\u001b[0m\u001b[1;33m:\u001b[0m\u001b[1;33m\u001b[0m\u001b[1;33m\u001b[0m\u001b[0m\n",
      "\u001b[1;32m~\\anaconda3\\lib\\site-packages\\pandas\\core\\generic.py\u001b[0m in \u001b[0;36m_drop_axis\u001b[1;34m(self, labels, axis, level, errors)\u001b[0m\n\u001b[0;32m   3919\u001b[0m                 \u001b[0mnew_axis\u001b[0m \u001b[1;33m=\u001b[0m \u001b[0maxis\u001b[0m\u001b[1;33m.\u001b[0m\u001b[0mdrop\u001b[0m\u001b[1;33m(\u001b[0m\u001b[0mlabels\u001b[0m\u001b[1;33m,\u001b[0m \u001b[0mlevel\u001b[0m\u001b[1;33m=\u001b[0m\u001b[0mlevel\u001b[0m\u001b[1;33m,\u001b[0m \u001b[0merrors\u001b[0m\u001b[1;33m=\u001b[0m\u001b[0merrors\u001b[0m\u001b[1;33m)\u001b[0m\u001b[1;33m\u001b[0m\u001b[1;33m\u001b[0m\u001b[0m\n\u001b[0;32m   3920\u001b[0m             \u001b[1;32melse\u001b[0m\u001b[1;33m:\u001b[0m\u001b[1;33m\u001b[0m\u001b[1;33m\u001b[0m\u001b[0m\n\u001b[1;32m-> 3921\u001b[1;33m                 \u001b[0mnew_axis\u001b[0m \u001b[1;33m=\u001b[0m \u001b[0maxis\u001b[0m\u001b[1;33m.\u001b[0m\u001b[0mdrop\u001b[0m\u001b[1;33m(\u001b[0m\u001b[0mlabels\u001b[0m\u001b[1;33m,\u001b[0m \u001b[0merrors\u001b[0m\u001b[1;33m=\u001b[0m\u001b[0merrors\u001b[0m\u001b[1;33m)\u001b[0m\u001b[1;33m\u001b[0m\u001b[1;33m\u001b[0m\u001b[0m\n\u001b[0m\u001b[0;32m   3922\u001b[0m             \u001b[0mresult\u001b[0m \u001b[1;33m=\u001b[0m \u001b[0mself\u001b[0m\u001b[1;33m.\u001b[0m\u001b[0mreindex\u001b[0m\u001b[1;33m(\u001b[0m\u001b[1;33m**\u001b[0m\u001b[1;33m{\u001b[0m\u001b[0maxis_name\u001b[0m\u001b[1;33m:\u001b[0m \u001b[0mnew_axis\u001b[0m\u001b[1;33m}\u001b[0m\u001b[1;33m)\u001b[0m\u001b[1;33m\u001b[0m\u001b[1;33m\u001b[0m\u001b[0m\n\u001b[0;32m   3923\u001b[0m \u001b[1;33m\u001b[0m\u001b[0m\n",
      "\u001b[1;32m~\\anaconda3\\lib\\site-packages\\pandas\\core\\indexes\\base.py\u001b[0m in \u001b[0;36mdrop\u001b[1;34m(self, labels, errors)\u001b[0m\n\u001b[0;32m   5280\u001b[0m         \u001b[1;32mif\u001b[0m \u001b[0mmask\u001b[0m\u001b[1;33m.\u001b[0m\u001b[0many\u001b[0m\u001b[1;33m(\u001b[0m\u001b[1;33m)\u001b[0m\u001b[1;33m:\u001b[0m\u001b[1;33m\u001b[0m\u001b[1;33m\u001b[0m\u001b[0m\n\u001b[0;32m   5281\u001b[0m             \u001b[1;32mif\u001b[0m \u001b[0merrors\u001b[0m \u001b[1;33m!=\u001b[0m \u001b[1;34m\"ignore\"\u001b[0m\u001b[1;33m:\u001b[0m\u001b[1;33m\u001b[0m\u001b[1;33m\u001b[0m\u001b[0m\n\u001b[1;32m-> 5282\u001b[1;33m                 \u001b[1;32mraise\u001b[0m \u001b[0mKeyError\u001b[0m\u001b[1;33m(\u001b[0m\u001b[1;34mf\"{labels[mask]} not found in axis\"\u001b[0m\u001b[1;33m)\u001b[0m\u001b[1;33m\u001b[0m\u001b[1;33m\u001b[0m\u001b[0m\n\u001b[0m\u001b[0;32m   5283\u001b[0m             \u001b[0mindexer\u001b[0m \u001b[1;33m=\u001b[0m \u001b[0mindexer\u001b[0m\u001b[1;33m[\u001b[0m\u001b[1;33m~\u001b[0m\u001b[0mmask\u001b[0m\u001b[1;33m]\u001b[0m\u001b[1;33m\u001b[0m\u001b[1;33m\u001b[0m\u001b[0m\n\u001b[0;32m   5284\u001b[0m         \u001b[1;32mreturn\u001b[0m \u001b[0mself\u001b[0m\u001b[1;33m.\u001b[0m\u001b[0mdelete\u001b[0m\u001b[1;33m(\u001b[0m\u001b[0mindexer\u001b[0m\u001b[1;33m)\u001b[0m\u001b[1;33m\u001b[0m\u001b[1;33m\u001b[0m\u001b[0m\n",
      "\u001b[1;31mKeyError\u001b[0m: \"['Normalized Mean'] not found in axis\""
     ]
    }
   ],
   "source": [
    "a = ice.feature_impact_table()\\\n",
    "    .drop(['Normalized Mean'], axis = 1)\\\n",
    "    .rename({'Normalized Absolute Mean':'Norm Mean Abs',\n",
    "             'Feature Impact':'FI'}, axis = 1)\\\n",
    "    .round(3)\\\n",
    "    .merge(b, how = \"inner\", on = \"Feature\")\\\n",
    "    .sort_values('FI', ascending = False)"
   ]
  },
  {
   "cell_type": "code",
   "execution_count": 13,
   "metadata": {},
   "outputs": [
    {
     "data": {
      "text/html": [
       "<div>\n",
       "<style scoped>\n",
       "    .dataframe tbody tr th:only-of-type {\n",
       "        vertical-align: middle;\n",
       "    }\n",
       "\n",
       "    .dataframe tbody tr th {\n",
       "        vertical-align: top;\n",
       "    }\n",
       "\n",
       "    .dataframe thead th {\n",
       "        text-align: right;\n",
       "    }\n",
       "</style>\n",
       "<table border=\"1\" class=\"dataframe\">\n",
       "  <thead>\n",
       "    <tr style=\"text-align: right;\">\n",
       "      <th></th>\n",
       "      <th>Feature</th>\n",
       "      <th>Mean</th>\n",
       "      <th>Mean Abs</th>\n",
       "      <th>St. Dev.</th>\n",
       "      <th>Norm Mean Abs</th>\n",
       "      <th>FI</th>\n",
       "      <th>RF FI</th>\n",
       "    </tr>\n",
       "  </thead>\n",
       "  <tbody>\n",
       "    <tr>\n",
       "      <th>23</th>\n",
       "      <td>STDs:genital herpes</td>\n",
       "      <td>4.262</td>\n",
       "      <td>5.180</td>\n",
       "      <td>8.393</td>\n",
       "      <td>2.440</td>\n",
       "      <td>19.096</td>\n",
       "      <td>1.031</td>\n",
       "    </tr>\n",
       "    <tr>\n",
       "      <th>24</th>\n",
       "      <td>STDs:molluscum contagiosum</td>\n",
       "      <td>3.106</td>\n",
       "      <td>4.568</td>\n",
       "      <td>8.478</td>\n",
       "      <td>2.152</td>\n",
       "      <td>16.840</td>\n",
       "      <td>0.173</td>\n",
       "    </tr>\n",
       "    <tr>\n",
       "      <th>20</th>\n",
       "      <td>STDs:Hepatitis B</td>\n",
       "      <td>2.650</td>\n",
       "      <td>4.479</td>\n",
       "      <td>7.973</td>\n",
       "      <td>2.110</td>\n",
       "      <td>16.513</td>\n",
       "      <td>0.134</td>\n",
       "    </tr>\n",
       "    <tr>\n",
       "      <th>25</th>\n",
       "      <td>STDs:pelvic inflammatory disease</td>\n",
       "      <td>1.803</td>\n",
       "      <td>2.817</td>\n",
       "      <td>5.221</td>\n",
       "      <td>1.327</td>\n",
       "      <td>10.384</td>\n",
       "      <td>0.119</td>\n",
       "    </tr>\n",
       "    <tr>\n",
       "      <th>5</th>\n",
       "      <td>First sexual intercourse</td>\n",
       "      <td>0.132</td>\n",
       "      <td>0.157</td>\n",
       "      <td>1.174</td>\n",
       "      <td>0.957</td>\n",
       "      <td>7.492</td>\n",
       "      <td>12.444</td>\n",
       "    </tr>\n",
       "    <tr>\n",
       "      <th>19</th>\n",
       "      <td>STDs:HPV</td>\n",
       "      <td>1.112</td>\n",
       "      <td>1.968</td>\n",
       "      <td>3.564</td>\n",
       "      <td>0.926</td>\n",
       "      <td>7.249</td>\n",
       "      <td>0.198</td>\n",
       "    </tr>\n",
       "    <tr>\n",
       "      <th>30</th>\n",
       "      <td>Smokes (packs/year)</td>\n",
       "      <td>0.015</td>\n",
       "      <td>0.085</td>\n",
       "      <td>0.482</td>\n",
       "      <td>0.513</td>\n",
       "      <td>4.015</td>\n",
       "      <td>3.430</td>\n",
       "    </tr>\n",
       "    <tr>\n",
       "      <th>7</th>\n",
       "      <td>Hormonal Contraceptives (years)</td>\n",
       "      <td>-0.009</td>\n",
       "      <td>0.058</td>\n",
       "      <td>0.171</td>\n",
       "      <td>0.424</td>\n",
       "      <td>3.319</td>\n",
       "      <td>15.192</td>\n",
       "    </tr>\n",
       "    <tr>\n",
       "      <th>27</th>\n",
       "      <td>STDs:vaginal condylomatosis</td>\n",
       "      <td>0.504</td>\n",
       "      <td>0.892</td>\n",
       "      <td>1.685</td>\n",
       "      <td>0.419</td>\n",
       "      <td>3.281</td>\n",
       "      <td>0.198</td>\n",
       "    </tr>\n",
       "    <tr>\n",
       "      <th>9</th>\n",
       "      <td>IUD (years)</td>\n",
       "      <td>0.031</td>\n",
       "      <td>0.052</td>\n",
       "      <td>0.251</td>\n",
       "      <td>0.263</td>\n",
       "      <td>2.060</td>\n",
       "      <td>3.826</td>\n",
       "    </tr>\n",
       "    <tr>\n",
       "      <th>0</th>\n",
       "      <td>Age</td>\n",
       "      <td>0.002</td>\n",
       "      <td>0.010</td>\n",
       "      <td>0.025</td>\n",
       "      <td>0.151</td>\n",
       "      <td>1.183</td>\n",
       "      <td>18.258</td>\n",
       "    </tr>\n",
       "    <tr>\n",
       "      <th>31</th>\n",
       "      <td>Smokes (years)</td>\n",
       "      <td>-0.000</td>\n",
       "      <td>0.011</td>\n",
       "      <td>0.044</td>\n",
       "      <td>0.116</td>\n",
       "      <td>0.910</td>\n",
       "      <td>3.922</td>\n",
       "    </tr>\n",
       "    <tr>\n",
       "      <th>18</th>\n",
       "      <td>STDs:HIV</td>\n",
       "      <td>0.177</td>\n",
       "      <td>0.239</td>\n",
       "      <td>0.362</td>\n",
       "      <td>0.111</td>\n",
       "      <td>0.873</td>\n",
       "      <td>1.151</td>\n",
       "    </tr>\n",
       "    <tr>\n",
       "      <th>11</th>\n",
       "      <td>Number of sexual partners</td>\n",
       "      <td>0.000</td>\n",
       "      <td>0.015</td>\n",
       "      <td>0.043</td>\n",
       "      <td>0.107</td>\n",
       "      <td>0.839</td>\n",
       "      <td>9.690</td>\n",
       "    </tr>\n",
       "    <tr>\n",
       "      <th>26</th>\n",
       "      <td>STDs:syphilis</td>\n",
       "      <td>0.003</td>\n",
       "      <td>0.179</td>\n",
       "      <td>0.437</td>\n",
       "      <td>0.084</td>\n",
       "      <td>0.654</td>\n",
       "      <td>0.381</td>\n",
       "    </tr>\n",
       "    <tr>\n",
       "      <th>2</th>\n",
       "      <td>Dx:CIN</td>\n",
       "      <td>0.160</td>\n",
       "      <td>0.164</td>\n",
       "      <td>0.097</td>\n",
       "      <td>0.082</td>\n",
       "      <td>0.643</td>\n",
       "      <td>1.257</td>\n",
       "    </tr>\n",
       "    <tr>\n",
       "      <th>3</th>\n",
       "      <td>Dx:Cancer</td>\n",
       "      <td>0.156</td>\n",
       "      <td>0.162</td>\n",
       "      <td>0.079</td>\n",
       "      <td>0.081</td>\n",
       "      <td>0.635</td>\n",
       "      <td>1.796</td>\n",
       "    </tr>\n",
       "    <tr>\n",
       "      <th>10</th>\n",
       "      <td>Num of pregnancies</td>\n",
       "      <td>0.008</td>\n",
       "      <td>0.022</td>\n",
       "      <td>0.076</td>\n",
       "      <td>0.076</td>\n",
       "      <td>0.593</td>\n",
       "      <td>9.936</td>\n",
       "    </tr>\n",
       "    <tr>\n",
       "      <th>1</th>\n",
       "      <td>Dx</td>\n",
       "      <td>0.133</td>\n",
       "      <td>0.143</td>\n",
       "      <td>0.098</td>\n",
       "      <td>0.072</td>\n",
       "      <td>0.560</td>\n",
       "      <td>1.700</td>\n",
       "    </tr>\n",
       "    <tr>\n",
       "      <th>8</th>\n",
       "      <td>IUD</td>\n",
       "      <td>0.048</td>\n",
       "      <td>0.144</td>\n",
       "      <td>0.229</td>\n",
       "      <td>0.064</td>\n",
       "      <td>0.504</td>\n",
       "      <td>2.139</td>\n",
       "    </tr>\n",
       "    <tr>\n",
       "      <th>4</th>\n",
       "      <td>Dx:HPV</td>\n",
       "      <td>0.113</td>\n",
       "      <td>0.121</td>\n",
       "      <td>0.070</td>\n",
       "      <td>0.060</td>\n",
       "      <td>0.473</td>\n",
       "      <td>1.604</td>\n",
       "    </tr>\n",
       "    <tr>\n",
       "      <th>28</th>\n",
       "      <td>STDs:vulvo-perineal condylomatosis</td>\n",
       "      <td>0.075</td>\n",
       "      <td>0.095</td>\n",
       "      <td>0.110</td>\n",
       "      <td>0.043</td>\n",
       "      <td>0.339</td>\n",
       "      <td>0.606</td>\n",
       "    </tr>\n",
       "    <tr>\n",
       "      <th>22</th>\n",
       "      <td>STDs:condylomatosis</td>\n",
       "      <td>0.059</td>\n",
       "      <td>0.090</td>\n",
       "      <td>0.120</td>\n",
       "      <td>0.041</td>\n",
       "      <td>0.322</td>\n",
       "      <td>0.556</td>\n",
       "    </tr>\n",
       "    <tr>\n",
       "      <th>15</th>\n",
       "      <td>STDs: Time since first diagnosis</td>\n",
       "      <td>-0.002</td>\n",
       "      <td>0.005</td>\n",
       "      <td>0.011</td>\n",
       "      <td>0.031</td>\n",
       "      <td>0.239</td>\n",
       "      <td>1.810</td>\n",
       "    </tr>\n",
       "    <tr>\n",
       "      <th>13</th>\n",
       "      <td>STDs (number)</td>\n",
       "      <td>0.009</td>\n",
       "      <td>0.019</td>\n",
       "      <td>0.034</td>\n",
       "      <td>0.028</td>\n",
       "      <td>0.216</td>\n",
       "      <td>1.176</td>\n",
       "    </tr>\n",
       "    <tr>\n",
       "      <th>16</th>\n",
       "      <td>STDs: Time since last diagnosis</td>\n",
       "      <td>-0.001</td>\n",
       "      <td>0.004</td>\n",
       "      <td>0.010</td>\n",
       "      <td>0.027</td>\n",
       "      <td>0.215</td>\n",
       "      <td>1.920</td>\n",
       "    </tr>\n",
       "    <tr>\n",
       "      <th>29</th>\n",
       "      <td>Smokes</td>\n",
       "      <td>0.026</td>\n",
       "      <td>0.058</td>\n",
       "      <td>0.110</td>\n",
       "      <td>0.026</td>\n",
       "      <td>0.200</td>\n",
       "      <td>1.420</td>\n",
       "    </tr>\n",
       "    <tr>\n",
       "      <th>12</th>\n",
       "      <td>STDs</td>\n",
       "      <td>0.014</td>\n",
       "      <td>0.045</td>\n",
       "      <td>0.074</td>\n",
       "      <td>0.020</td>\n",
       "      <td>0.158</td>\n",
       "      <td>0.509</td>\n",
       "    </tr>\n",
       "    <tr>\n",
       "      <th>6</th>\n",
       "      <td>Hormonal Contraceptives</td>\n",
       "      <td>0.021</td>\n",
       "      <td>0.044</td>\n",
       "      <td>0.087</td>\n",
       "      <td>0.018</td>\n",
       "      <td>0.141</td>\n",
       "      <td>2.791</td>\n",
       "    </tr>\n",
       "    <tr>\n",
       "      <th>14</th>\n",
       "      <td>STDs: Number of diagnosis</td>\n",
       "      <td>0.001</td>\n",
       "      <td>0.006</td>\n",
       "      <td>0.016</td>\n",
       "      <td>0.007</td>\n",
       "      <td>0.052</td>\n",
       "      <td>0.632</td>\n",
       "    </tr>\n",
       "    <tr>\n",
       "      <th>21</th>\n",
       "      <td>STDs:cervical condylomatosis</td>\n",
       "      <td>0.000</td>\n",
       "      <td>0.000</td>\n",
       "      <td>0.000</td>\n",
       "      <td>0.000</td>\n",
       "      <td>0.000</td>\n",
       "      <td>0.000</td>\n",
       "    </tr>\n",
       "    <tr>\n",
       "      <th>17</th>\n",
       "      <td>STDs:AIDS</td>\n",
       "      <td>0.000</td>\n",
       "      <td>0.000</td>\n",
       "      <td>0.000</td>\n",
       "      <td>0.000</td>\n",
       "      <td>0.000</td>\n",
       "      <td>0.000</td>\n",
       "    </tr>\n",
       "  </tbody>\n",
       "</table>\n",
       "</div>"
      ],
      "text/plain": [
       "                               Feature   Mean  Mean Abs  St. Dev.  \\\n",
       "23                 STDs:genital herpes  4.262     5.180     8.393   \n",
       "24          STDs:molluscum contagiosum  3.106     4.568     8.478   \n",
       "20                    STDs:Hepatitis B  2.650     4.479     7.973   \n",
       "25    STDs:pelvic inflammatory disease  1.803     2.817     5.221   \n",
       "5             First sexual intercourse  0.132     0.157     1.174   \n",
       "19                            STDs:HPV  1.112     1.968     3.564   \n",
       "30                 Smokes (packs/year)  0.015     0.085     0.482   \n",
       "7      Hormonal Contraceptives (years) -0.009     0.058     0.171   \n",
       "27         STDs:vaginal condylomatosis  0.504     0.892     1.685   \n",
       "9                          IUD (years)  0.031     0.052     0.251   \n",
       "0                                  Age  0.002     0.010     0.025   \n",
       "31                      Smokes (years) -0.000     0.011     0.044   \n",
       "18                            STDs:HIV  0.177     0.239     0.362   \n",
       "11           Number of sexual partners  0.000     0.015     0.043   \n",
       "26                       STDs:syphilis  0.003     0.179     0.437   \n",
       "2                               Dx:CIN  0.160     0.164     0.097   \n",
       "3                            Dx:Cancer  0.156     0.162     0.079   \n",
       "10                  Num of pregnancies  0.008     0.022     0.076   \n",
       "1                                   Dx  0.133     0.143     0.098   \n",
       "8                                  IUD  0.048     0.144     0.229   \n",
       "4                               Dx:HPV  0.113     0.121     0.070   \n",
       "28  STDs:vulvo-perineal condylomatosis  0.075     0.095     0.110   \n",
       "22                 STDs:condylomatosis  0.059     0.090     0.120   \n",
       "15    STDs: Time since first diagnosis -0.002     0.005     0.011   \n",
       "13                       STDs (number)  0.009     0.019     0.034   \n",
       "16     STDs: Time since last diagnosis -0.001     0.004     0.010   \n",
       "29                              Smokes  0.026     0.058     0.110   \n",
       "12                                STDs  0.014     0.045     0.074   \n",
       "6              Hormonal Contraceptives  0.021     0.044     0.087   \n",
       "14           STDs: Number of diagnosis  0.001     0.006     0.016   \n",
       "21        STDs:cervical condylomatosis  0.000     0.000     0.000   \n",
       "17                           STDs:AIDS  0.000     0.000     0.000   \n",
       "\n",
       "    Norm Mean Abs      FI   RF FI  \n",
       "23          2.440  19.096   1.031  \n",
       "24          2.152  16.840   0.173  \n",
       "20          2.110  16.513   0.134  \n",
       "25          1.327  10.384   0.119  \n",
       "5           0.957   7.492  12.444  \n",
       "19          0.926   7.249   0.198  \n",
       "30          0.513   4.015   3.430  \n",
       "7           0.424   3.319  15.192  \n",
       "27          0.419   3.281   0.198  \n",
       "9           0.263   2.060   3.826  \n",
       "0           0.151   1.183  18.258  \n",
       "31          0.116   0.910   3.922  \n",
       "18          0.111   0.873   1.151  \n",
       "11          0.107   0.839   9.690  \n",
       "26          0.084   0.654   0.381  \n",
       "2           0.082   0.643   1.257  \n",
       "3           0.081   0.635   1.796  \n",
       "10          0.076   0.593   9.936  \n",
       "1           0.072   0.560   1.700  \n",
       "8           0.064   0.504   2.139  \n",
       "4           0.060   0.473   1.604  \n",
       "28          0.043   0.339   0.606  \n",
       "22          0.041   0.322   0.556  \n",
       "15          0.031   0.239   1.810  \n",
       "13          0.028   0.216   1.176  \n",
       "16          0.027   0.215   1.920  \n",
       "29          0.026   0.200   1.420  \n",
       "12          0.020   0.158   0.509  \n",
       "6           0.018   0.141   2.791  \n",
       "14          0.007   0.052   0.632  \n",
       "21          0.000   0.000   0.000  \n",
       "17          0.000   0.000   0.000  "
      ]
     },
     "execution_count": 13,
     "metadata": {},
     "output_type": "execute_result"
    }
   ],
   "source": [
    "a"
   ]
  },
  {
   "cell_type": "markdown",
   "metadata": {},
   "source": [
    "# Investigate `STDs:genital herpes`"
   ]
  },
  {
   "cell_type": "code",
   "execution_count": 14,
   "metadata": {},
   "outputs": [
    {
     "data": {
      "text/plain": [
       "0.000000    752\n",
       "0.001328    105\n",
       "1.000000      1\n",
       "Name: STDs:genital herpes, dtype: int64"
      ]
     },
     "execution_count": 14,
     "metadata": {},
     "output_type": "execute_result"
    }
   ],
   "source": [
    "X['STDs:genital herpes'].value_counts()"
   ]
  },
  {
   "cell_type": "code",
   "execution_count": 22,
   "metadata": {},
   "outputs": [
    {
     "name": "stdout",
     "output_type": "stream",
     "text": [
      "The mean change in prediction is: 0.18\n"
     ]
    }
   ],
   "source": [
    "X_subset = X.loc[lambda x:x['STDs:genital herpes'] == 0]\n",
    "y_pred_original = rf.predict_proba(X_subset)[:,1]\n",
    "\n",
    "X_subset_mod = X_subset.copy()\n",
    "X_subset_mod['STDs:genital herpes'] = 1\n",
    "y_pred_mod = rf.predict_proba(X_subset_mod)[:,1]\n",
    "\n",
    "print(f\"The mean change in prediction is: {np.mean(y_pred_mod - y_pred_original):.2f}\")"
   ]
  },
  {
   "cell_type": "markdown",
   "metadata": {},
   "source": [
    "**Comment**: Is it reasonable for the model to predict that genital herpes will increase cancer by 18% based on a single observation?\n",
    "\n",
    "Probably not. But we wouldn't have noticed this weakness in the model with just the random forest feature importance.\n",
    "\n",
    "As a result, we change min samples per leaf to 20."
   ]
  },
  {
   "cell_type": "markdown",
   "metadata": {},
   "source": [
    "# Now tune"
   ]
  },
  {
   "cell_type": "code",
   "execution_count": 23,
   "metadata": {},
   "outputs": [
    {
     "data": {
      "text/plain": [
       "RandomForestClassifier(min_samples_leaf=20, n_estimators=500)"
      ]
     },
     "execution_count": 23,
     "metadata": {},
     "output_type": "execute_result"
    }
   ],
   "source": [
    "rf2 = RandomForestClassifier(n_estimators = 500, min_samples_leaf = 20)\n",
    "rf2.fit(X, y['Biopsy'])"
   ]
  },
  {
   "cell_type": "code",
   "execution_count": 24,
   "metadata": {},
   "outputs": [],
   "source": [
    "ice.fit(X, rf2)"
   ]
  },
  {
   "cell_type": "code",
   "execution_count": 25,
   "metadata": {},
   "outputs": [],
   "source": [
    "b = pd.DataFrame({'Feature':X.columns, \n",
    "              'RF FI':rf2.feature_importances_*100})\\\n",
    "    .round(3)"
   ]
  },
  {
   "cell_type": "code",
   "execution_count": 31,
   "metadata": {},
   "outputs": [],
   "source": [
    "a = ice.feature_impact_table()\\\n",
    "    .drop(['Normalized Mean'], axis = 1)\\\n",
    "    .rename({'Normalized Absolute Mean':'Norm Mean Abs',\n",
    "             'Feature Impact':'FI'}, axis = 1)\\\n",
    "    .round(3)\\\n",
    "    .merge(b, how = \"inner\", on = \"Feature\")\\\n",
    "    .assign(difference = lambda x:np.abs(x['FI'] - x['RF FI']))\\\n",
    "    .sort_values('difference', ascending = False)"
   ]
  },
  {
   "cell_type": "code",
   "execution_count": 32,
   "metadata": {},
   "outputs": [
    {
     "data": {
      "text/html": [
       "<div>\n",
       "<style scoped>\n",
       "    .dataframe tbody tr th:only-of-type {\n",
       "        vertical-align: middle;\n",
       "    }\n",
       "\n",
       "    .dataframe tbody tr th {\n",
       "        vertical-align: top;\n",
       "    }\n",
       "\n",
       "    .dataframe thead th {\n",
       "        text-align: right;\n",
       "    }\n",
       "</style>\n",
       "<table border=\"1\" class=\"dataframe\">\n",
       "  <thead>\n",
       "    <tr style=\"text-align: right;\">\n",
       "      <th></th>\n",
       "      <th>Feature</th>\n",
       "      <th>Mean</th>\n",
       "      <th>Mean Abs</th>\n",
       "      <th>St. Dev.</th>\n",
       "      <th>Norm Mean Abs</th>\n",
       "      <th>FI</th>\n",
       "      <th>RF FI</th>\n",
       "      <th>difference</th>\n",
       "    </tr>\n",
       "  </thead>\n",
       "  <tbody>\n",
       "    <tr>\n",
       "      <th>7</th>\n",
       "      <td>Hormonal Contraceptives (years)</td>\n",
       "      <td>-0.001</td>\n",
       "      <td>0.006</td>\n",
       "      <td>0.013</td>\n",
       "      <td>0.043</td>\n",
       "      <td>1.647</td>\n",
       "      <td>22.028</td>\n",
       "      <td>20.381</td>\n",
       "    </tr>\n",
       "    <tr>\n",
       "      <th>20</th>\n",
       "      <td>STDs:Hepatitis B</td>\n",
       "      <td>-0.902</td>\n",
       "      <td>0.902</td>\n",
       "      <td>1.066</td>\n",
       "      <td>0.425</td>\n",
       "      <td>16.140</td>\n",
       "      <td>0.594</td>\n",
       "      <td>15.546</td>\n",
       "    </tr>\n",
       "    <tr>\n",
       "      <th>5</th>\n",
       "      <td>First sexual intercourse</td>\n",
       "      <td>0.092</td>\n",
       "      <td>0.094</td>\n",
       "      <td>0.466</td>\n",
       "      <td>0.576</td>\n",
       "      <td>21.886</td>\n",
       "      <td>6.938</td>\n",
       "      <td>14.948</td>\n",
       "    </tr>\n",
       "    <tr>\n",
       "      <th>25</th>\n",
       "      <td>STDs:pelvic inflammatory disease</td>\n",
       "      <td>-0.836</td>\n",
       "      <td>0.836</td>\n",
       "      <td>0.959</td>\n",
       "      <td>0.394</td>\n",
       "      <td>14.948</td>\n",
       "      <td>0.361</td>\n",
       "      <td>14.587</td>\n",
       "    </tr>\n",
       "    <tr>\n",
       "      <th>24</th>\n",
       "      <td>STDs:molluscum contagiosum</td>\n",
       "      <td>-0.647</td>\n",
       "      <td>0.647</td>\n",
       "      <td>0.763</td>\n",
       "      <td>0.305</td>\n",
       "      <td>11.576</td>\n",
       "      <td>0.316</td>\n",
       "      <td>11.260</td>\n",
       "    </tr>\n",
       "    <tr>\n",
       "      <th>0</th>\n",
       "      <td>Age</td>\n",
       "      <td>0.000</td>\n",
       "      <td>0.001</td>\n",
       "      <td>0.002</td>\n",
       "      <td>0.015</td>\n",
       "      <td>0.555</td>\n",
       "      <td>10.182</td>\n",
       "      <td>9.627</td>\n",
       "    </tr>\n",
       "    <tr>\n",
       "      <th>19</th>\n",
       "      <td>STDs:HPV</td>\n",
       "      <td>-0.499</td>\n",
       "      <td>0.499</td>\n",
       "      <td>0.583</td>\n",
       "      <td>0.235</td>\n",
       "      <td>8.919</td>\n",
       "      <td>0.522</td>\n",
       "      <td>8.397</td>\n",
       "    </tr>\n",
       "    <tr>\n",
       "      <th>10</th>\n",
       "      <td>Num of pregnancies</td>\n",
       "      <td>0.005</td>\n",
       "      <td>0.006</td>\n",
       "      <td>0.016</td>\n",
       "      <td>0.019</td>\n",
       "      <td>0.719</td>\n",
       "      <td>8.156</td>\n",
       "      <td>7.437</td>\n",
       "    </tr>\n",
       "    <tr>\n",
       "      <th>23</th>\n",
       "      <td>STDs:genital herpes</td>\n",
       "      <td>-0.405</td>\n",
       "      <td>0.409</td>\n",
       "      <td>0.503</td>\n",
       "      <td>0.193</td>\n",
       "      <td>7.319</td>\n",
       "      <td>0.210</td>\n",
       "      <td>7.109</td>\n",
       "    </tr>\n",
       "    <tr>\n",
       "      <th>11</th>\n",
       "      <td>Number of sexual partners</td>\n",
       "      <td>0.001</td>\n",
       "      <td>0.002</td>\n",
       "      <td>0.004</td>\n",
       "      <td>0.013</td>\n",
       "      <td>0.480</td>\n",
       "      <td>6.223</td>\n",
       "      <td>5.743</td>\n",
       "    </tr>\n",
       "    <tr>\n",
       "      <th>13</th>\n",
       "      <td>STDs (number)</td>\n",
       "      <td>0.004</td>\n",
       "      <td>0.006</td>\n",
       "      <td>0.008</td>\n",
       "      <td>0.008</td>\n",
       "      <td>0.307</td>\n",
       "      <td>5.202</td>\n",
       "      <td>4.895</td>\n",
       "    </tr>\n",
       "    <tr>\n",
       "      <th>27</th>\n",
       "      <td>STDs:vaginal condylomatosis</td>\n",
       "      <td>-0.318</td>\n",
       "      <td>0.318</td>\n",
       "      <td>0.368</td>\n",
       "      <td>0.150</td>\n",
       "      <td>5.677</td>\n",
       "      <td>0.890</td>\n",
       "      <td>4.787</td>\n",
       "    </tr>\n",
       "    <tr>\n",
       "      <th>15</th>\n",
       "      <td>STDs: Time since first diagnosis</td>\n",
       "      <td>-0.001</td>\n",
       "      <td>0.001</td>\n",
       "      <td>0.004</td>\n",
       "      <td>0.009</td>\n",
       "      <td>0.357</td>\n",
       "      <td>3.964</td>\n",
       "      <td>3.607</td>\n",
       "    </tr>\n",
       "    <tr>\n",
       "      <th>14</th>\n",
       "      <td>STDs: Number of diagnosis</td>\n",
       "      <td>0.005</td>\n",
       "      <td>0.005</td>\n",
       "      <td>0.008</td>\n",
       "      <td>0.006</td>\n",
       "      <td>0.219</td>\n",
       "      <td>3.768</td>\n",
       "      <td>3.549</td>\n",
       "    </tr>\n",
       "    <tr>\n",
       "      <th>16</th>\n",
       "      <td>STDs: Time since last diagnosis</td>\n",
       "      <td>-0.001</td>\n",
       "      <td>0.001</td>\n",
       "      <td>0.004</td>\n",
       "      <td>0.006</td>\n",
       "      <td>0.224</td>\n",
       "      <td>3.362</td>\n",
       "      <td>3.138</td>\n",
       "    </tr>\n",
       "    <tr>\n",
       "      <th>12</th>\n",
       "      <td>STDs</td>\n",
       "      <td>0.006</td>\n",
       "      <td>0.010</td>\n",
       "      <td>0.010</td>\n",
       "      <td>0.005</td>\n",
       "      <td>0.173</td>\n",
       "      <td>3.098</td>\n",
       "      <td>2.925</td>\n",
       "    </tr>\n",
       "    <tr>\n",
       "      <th>9</th>\n",
       "      <td>IUD (years)</td>\n",
       "      <td>0.008</td>\n",
       "      <td>0.010</td>\n",
       "      <td>0.042</td>\n",
       "      <td>0.057</td>\n",
       "      <td>2.181</td>\n",
       "      <td>4.959</td>\n",
       "      <td>2.778</td>\n",
       "    </tr>\n",
       "    <tr>\n",
       "      <th>31</th>\n",
       "      <td>Smokes (years)</td>\n",
       "      <td>0.000</td>\n",
       "      <td>0.001</td>\n",
       "      <td>0.002</td>\n",
       "      <td>0.010</td>\n",
       "      <td>0.390</td>\n",
       "      <td>3.140</td>\n",
       "      <td>2.750</td>\n",
       "    </tr>\n",
       "    <tr>\n",
       "      <th>8</th>\n",
       "      <td>IUD</td>\n",
       "      <td>0.010</td>\n",
       "      <td>0.013</td>\n",
       "      <td>0.012</td>\n",
       "      <td>0.006</td>\n",
       "      <td>0.213</td>\n",
       "      <td>2.561</td>\n",
       "      <td>2.348</td>\n",
       "    </tr>\n",
       "    <tr>\n",
       "      <th>28</th>\n",
       "      <td>STDs:vulvo-perineal condylomatosis</td>\n",
       "      <td>-0.005</td>\n",
       "      <td>0.017</td>\n",
       "      <td>0.022</td>\n",
       "      <td>0.008</td>\n",
       "      <td>0.298</td>\n",
       "      <td>2.422</td>\n",
       "      <td>2.124</td>\n",
       "    </tr>\n",
       "    <tr>\n",
       "      <th>6</th>\n",
       "      <td>Hormonal Contraceptives</td>\n",
       "      <td>0.003</td>\n",
       "      <td>0.007</td>\n",
       "      <td>0.009</td>\n",
       "      <td>0.003</td>\n",
       "      <td>0.118</td>\n",
       "      <td>2.240</td>\n",
       "      <td>2.122</td>\n",
       "    </tr>\n",
       "    <tr>\n",
       "      <th>22</th>\n",
       "      <td>STDs:condylomatosis</td>\n",
       "      <td>-0.001</td>\n",
       "      <td>0.012</td>\n",
       "      <td>0.016</td>\n",
       "      <td>0.006</td>\n",
       "      <td>0.217</td>\n",
       "      <td>2.277</td>\n",
       "      <td>2.060</td>\n",
       "    </tr>\n",
       "    <tr>\n",
       "      <th>30</th>\n",
       "      <td>Smokes (packs/year)</td>\n",
       "      <td>-0.000</td>\n",
       "      <td>0.013</td>\n",
       "      <td>0.052</td>\n",
       "      <td>0.078</td>\n",
       "      <td>2.960</td>\n",
       "      <td>3.980</td>\n",
       "      <td>1.020</td>\n",
       "    </tr>\n",
       "    <tr>\n",
       "      <th>26</th>\n",
       "      <td>STDs:syphilis</td>\n",
       "      <td>-0.122</td>\n",
       "      <td>0.122</td>\n",
       "      <td>0.140</td>\n",
       "      <td>0.057</td>\n",
       "      <td>2.160</td>\n",
       "      <td>1.265</td>\n",
       "      <td>0.895</td>\n",
       "    </tr>\n",
       "    <tr>\n",
       "      <th>29</th>\n",
       "      <td>Smokes</td>\n",
       "      <td>0.002</td>\n",
       "      <td>0.003</td>\n",
       "      <td>0.004</td>\n",
       "      <td>0.001</td>\n",
       "      <td>0.056</td>\n",
       "      <td>0.793</td>\n",
       "      <td>0.737</td>\n",
       "    </tr>\n",
       "    <tr>\n",
       "      <th>1</th>\n",
       "      <td>Dx</td>\n",
       "      <td>0.002</td>\n",
       "      <td>0.002</td>\n",
       "      <td>0.000</td>\n",
       "      <td>0.001</td>\n",
       "      <td>0.031</td>\n",
       "      <td>0.290</td>\n",
       "      <td>0.259</td>\n",
       "    </tr>\n",
       "    <tr>\n",
       "      <th>18</th>\n",
       "      <td>STDs:HIV</td>\n",
       "      <td>-0.012</td>\n",
       "      <td>0.013</td>\n",
       "      <td>0.019</td>\n",
       "      <td>0.006</td>\n",
       "      <td>0.233</td>\n",
       "      <td>0.259</td>\n",
       "      <td>0.026</td>\n",
       "    </tr>\n",
       "    <tr>\n",
       "      <th>17</th>\n",
       "      <td>STDs:AIDS</td>\n",
       "      <td>0.000</td>\n",
       "      <td>0.000</td>\n",
       "      <td>0.000</td>\n",
       "      <td>0.000</td>\n",
       "      <td>0.000</td>\n",
       "      <td>0.000</td>\n",
       "      <td>0.000</td>\n",
       "    </tr>\n",
       "    <tr>\n",
       "      <th>21</th>\n",
       "      <td>STDs:cervical condylomatosis</td>\n",
       "      <td>0.000</td>\n",
       "      <td>0.000</td>\n",
       "      <td>0.000</td>\n",
       "      <td>0.000</td>\n",
       "      <td>0.000</td>\n",
       "      <td>0.000</td>\n",
       "      <td>0.000</td>\n",
       "    </tr>\n",
       "    <tr>\n",
       "      <th>4</th>\n",
       "      <td>Dx:HPV</td>\n",
       "      <td>0.000</td>\n",
       "      <td>0.000</td>\n",
       "      <td>0.000</td>\n",
       "      <td>0.000</td>\n",
       "      <td>0.000</td>\n",
       "      <td>0.000</td>\n",
       "      <td>0.000</td>\n",
       "    </tr>\n",
       "    <tr>\n",
       "      <th>3</th>\n",
       "      <td>Dx:Cancer</td>\n",
       "      <td>0.000</td>\n",
       "      <td>0.000</td>\n",
       "      <td>0.000</td>\n",
       "      <td>0.000</td>\n",
       "      <td>0.000</td>\n",
       "      <td>0.000</td>\n",
       "      <td>0.000</td>\n",
       "    </tr>\n",
       "    <tr>\n",
       "      <th>2</th>\n",
       "      <td>Dx:CIN</td>\n",
       "      <td>0.000</td>\n",
       "      <td>0.000</td>\n",
       "      <td>0.000</td>\n",
       "      <td>0.000</td>\n",
       "      <td>0.000</td>\n",
       "      <td>0.000</td>\n",
       "      <td>0.000</td>\n",
       "    </tr>\n",
       "  </tbody>\n",
       "</table>\n",
       "</div>"
      ],
      "text/plain": [
       "                               Feature   Mean  Mean Abs  St. Dev.  \\\n",
       "7      Hormonal Contraceptives (years) -0.001     0.006     0.013   \n",
       "20                    STDs:Hepatitis B -0.902     0.902     1.066   \n",
       "5             First sexual intercourse  0.092     0.094     0.466   \n",
       "25    STDs:pelvic inflammatory disease -0.836     0.836     0.959   \n",
       "24          STDs:molluscum contagiosum -0.647     0.647     0.763   \n",
       "0                                  Age  0.000     0.001     0.002   \n",
       "19                            STDs:HPV -0.499     0.499     0.583   \n",
       "10                  Num of pregnancies  0.005     0.006     0.016   \n",
       "23                 STDs:genital herpes -0.405     0.409     0.503   \n",
       "11           Number of sexual partners  0.001     0.002     0.004   \n",
       "13                       STDs (number)  0.004     0.006     0.008   \n",
       "27         STDs:vaginal condylomatosis -0.318     0.318     0.368   \n",
       "15    STDs: Time since first diagnosis -0.001     0.001     0.004   \n",
       "14           STDs: Number of diagnosis  0.005     0.005     0.008   \n",
       "16     STDs: Time since last diagnosis -0.001     0.001     0.004   \n",
       "12                                STDs  0.006     0.010     0.010   \n",
       "9                          IUD (years)  0.008     0.010     0.042   \n",
       "31                      Smokes (years)  0.000     0.001     0.002   \n",
       "8                                  IUD  0.010     0.013     0.012   \n",
       "28  STDs:vulvo-perineal condylomatosis -0.005     0.017     0.022   \n",
       "6              Hormonal Contraceptives  0.003     0.007     0.009   \n",
       "22                 STDs:condylomatosis -0.001     0.012     0.016   \n",
       "30                 Smokes (packs/year) -0.000     0.013     0.052   \n",
       "26                       STDs:syphilis -0.122     0.122     0.140   \n",
       "29                              Smokes  0.002     0.003     0.004   \n",
       "1                                   Dx  0.002     0.002     0.000   \n",
       "18                            STDs:HIV -0.012     0.013     0.019   \n",
       "17                           STDs:AIDS  0.000     0.000     0.000   \n",
       "21        STDs:cervical condylomatosis  0.000     0.000     0.000   \n",
       "4                               Dx:HPV  0.000     0.000     0.000   \n",
       "3                            Dx:Cancer  0.000     0.000     0.000   \n",
       "2                               Dx:CIN  0.000     0.000     0.000   \n",
       "\n",
       "    Norm Mean Abs      FI   RF FI  difference  \n",
       "7           0.043   1.647  22.028      20.381  \n",
       "20          0.425  16.140   0.594      15.546  \n",
       "5           0.576  21.886   6.938      14.948  \n",
       "25          0.394  14.948   0.361      14.587  \n",
       "24          0.305  11.576   0.316      11.260  \n",
       "0           0.015   0.555  10.182       9.627  \n",
       "19          0.235   8.919   0.522       8.397  \n",
       "10          0.019   0.719   8.156       7.437  \n",
       "23          0.193   7.319   0.210       7.109  \n",
       "11          0.013   0.480   6.223       5.743  \n",
       "13          0.008   0.307   5.202       4.895  \n",
       "27          0.150   5.677   0.890       4.787  \n",
       "15          0.009   0.357   3.964       3.607  \n",
       "14          0.006   0.219   3.768       3.549  \n",
       "16          0.006   0.224   3.362       3.138  \n",
       "12          0.005   0.173   3.098       2.925  \n",
       "9           0.057   2.181   4.959       2.778  \n",
       "31          0.010   0.390   3.140       2.750  \n",
       "8           0.006   0.213   2.561       2.348  \n",
       "28          0.008   0.298   2.422       2.124  \n",
       "6           0.003   0.118   2.240       2.122  \n",
       "22          0.006   0.217   2.277       2.060  \n",
       "30          0.078   2.960   3.980       1.020  \n",
       "26          0.057   2.160   1.265       0.895  \n",
       "29          0.001   0.056   0.793       0.737  \n",
       "1           0.001   0.031   0.290       0.259  \n",
       "18          0.006   0.233   0.259       0.026  \n",
       "17          0.000   0.000   0.000       0.000  \n",
       "21          0.000   0.000   0.000       0.000  \n",
       "4           0.000   0.000   0.000       0.000  \n",
       "3           0.000   0.000   0.000       0.000  \n",
       "2           0.000   0.000   0.000       0.000  "
      ]
     },
     "execution_count": 32,
     "metadata": {},
     "output_type": "execute_result"
    }
   ],
   "source": [
    "a"
   ]
  },
  {
   "cell_type": "code",
   "execution_count": 34,
   "metadata": {},
   "outputs": [
    {
     "data": {
      "text/plain": [
       "0.000000    752\n",
       "0.001328    105\n",
       "1.000000      1\n",
       "Name: STDs:Hepatitis B, dtype: int64"
      ]
     },
     "execution_count": 34,
     "metadata": {},
     "output_type": "execute_result"
    }
   ],
   "source": [
    "X['STDs:Hepatitis B'].value_counts()"
   ]
  },
  {
   "cell_type": "markdown",
   "metadata": {},
   "source": [
    "# Investigate \"direct method\" for estimating propensity"
   ]
  },
  {
   "cell_type": "code",
   "execution_count": 37,
   "metadata": {},
   "outputs": [],
   "source": [
    "from sklearn.linear_model import LogisticRegression"
   ]
  },
  {
   "cell_type": "code",
   "execution_count": 91,
   "metadata": {},
   "outputs": [],
   "source": [
    "lr = LogisticRegression()"
   ]
  },
  {
   "cell_type": "code",
   "execution_count": 92,
   "metadata": {},
   "outputs": [
    {
     "data": {
      "text/plain": [
       "Index(['Age', 'Number of sexual partners', 'First sexual intercourse',\n",
       "       'Num of pregnancies', 'Smokes', 'Smokes (years)', 'Smokes (packs/year)',\n",
       "       'Hormonal Contraceptives', 'Hormonal Contraceptives (years)', 'IUD',\n",
       "       'IUD (years)', 'STDs', 'STDs (number)', 'STDs:condylomatosis',\n",
       "       'STDs:cervical condylomatosis', 'STDs:vaginal condylomatosis',\n",
       "       'STDs:vulvo-perineal condylomatosis', 'STDs:syphilis',\n",
       "       'STDs:pelvic inflammatory disease', 'STDs:genital herpes',\n",
       "       'STDs:molluscum contagiosum', 'STDs:AIDS', 'STDs:HIV',\n",
       "       'STDs:Hepatitis B', 'STDs:HPV', 'STDs: Number of diagnosis',\n",
       "       'STDs: Time since first diagnosis', 'STDs: Time since last diagnosis',\n",
       "       'Dx:Cancer', 'Dx:CIN', 'Dx:HPV', 'Dx', 'orig_Age', 'obs', 'y_pred',\n",
       "       'y_pred_centered', 'feature_distance', 'dy', 'dx', 'dydx', 'dydx_abs'],\n",
       "      dtype='object')"
      ]
     },
     "execution_count": 92,
     "metadata": {},
     "output_type": "execute_result"
    }
   ],
   "source": [
    "df = ice.ice_dfs['Age'].copy()\n",
    "df.columns"
   ]
  },
  {
   "cell_type": "code",
   "execution_count": 113,
   "metadata": {},
   "outputs": [],
   "source": [
    "X_df = df[['Age']]\n",
    "X2_df = df[['Age', 'feature_distance']]\n",
    "X3_df = df[['Age', 'y_pred']]\n",
    "y1_df = df['feature_distance']\n",
    "y2_df = (df['feature_distance'] == 0)*1"
   ]
  },
  {
   "cell_type": "code",
   "execution_count": 117,
   "metadata": {},
   "outputs": [
    {
     "data": {
      "text/plain": [
       "LogisticRegression()"
      ]
     },
     "execution_count": 117,
     "metadata": {},
     "output_type": "execute_result"
    }
   ],
   "source": [
    "lr.fit(X_df, y2_df)"
   ]
  },
  {
   "cell_type": "code",
   "execution_count": 95,
   "metadata": {},
   "outputs": [
    {
     "name": "stdout",
     "output_type": "stream",
     "text": [
      "Accuracy of logistic reg in distinguishing original observation from phantom observations: 0.98\n"
     ]
    }
   ],
   "source": [
    "accuracy = np.mean(lr.predict(X_df) == y2_df)\n",
    "\n",
    "print(f\"Accuracy of logistic reg in distinguishing original observation from phantom observations: {accuracy:.2f}\")"
   ]
  },
  {
   "cell_type": "code",
   "execution_count": 96,
   "metadata": {},
   "outputs": [
    {
     "name": "stdout",
     "output_type": "stream",
     "text": [
      "Brier: 0.02208\n"
     ]
    }
   ],
   "source": [
    "brier = np.mean((lr.predict_proba(X_df)[:,1] - y2_df)**2)\n",
    "print(f\"Brier: {brier:.5f}\")"
   ]
  },
  {
   "cell_type": "code",
   "execution_count": 118,
   "metadata": {},
   "outputs": [
    {
     "data": {
      "text/html": [
       "<div>\n",
       "<style scoped>\n",
       "    .dataframe tbody tr th:only-of-type {\n",
       "        vertical-align: middle;\n",
       "    }\n",
       "\n",
       "    .dataframe tbody tr th {\n",
       "        vertical-align: top;\n",
       "    }\n",
       "\n",
       "    .dataframe thead th {\n",
       "        text-align: right;\n",
       "    }\n",
       "</style>\n",
       "<table border=\"1\" class=\"dataframe\">\n",
       "  <thead>\n",
       "    <tr style=\"text-align: right;\">\n",
       "      <th></th>\n",
       "      <th>true</th>\n",
       "      <th>pred_prob_mean</th>\n",
       "      <th>pred_prob_max</th>\n",
       "      <th>pred_prob_min</th>\n",
       "    </tr>\n",
       "  </thead>\n",
       "  <tbody>\n",
       "    <tr>\n",
       "      <th>0</th>\n",
       "      <td>0</td>\n",
       "      <td>0.022555</td>\n",
       "      <td>0.054876</td>\n",
       "      <td>0.00159</td>\n",
       "    </tr>\n",
       "    <tr>\n",
       "      <th>1</th>\n",
       "      <td>1</td>\n",
       "      <td>0.030134</td>\n",
       "      <td>0.054876</td>\n",
       "      <td>0.00159</td>\n",
       "    </tr>\n",
       "  </tbody>\n",
       "</table>\n",
       "</div>"
      ],
      "text/plain": [
       "   true  pred_prob_mean  pred_prob_max  pred_prob_min\n",
       "0     0        0.022555       0.054876        0.00159\n",
       "1     1        0.030134       0.054876        0.00159"
      ]
     },
     "execution_count": 118,
     "metadata": {},
     "output_type": "execute_result"
    }
   ],
   "source": [
    "pd.DataFrame({'true':y2_df, 'pred_prob':lr.predict_proba(X_df)[:,1]})\\\n",
    "    .groupby('true')\\\n",
    "    .agg(pred_prob_mean = ('pred_prob', 'mean'),\n",
    "         pred_prob_max = ('pred_prob', 'max'),\n",
    "         pred_prob_min = ('pred_prob', 'min'))\\\n",
    "    .reset_index()"
   ]
  },
  {
   "cell_type": "code",
   "execution_count": 119,
   "metadata": {},
   "outputs": [
    {
     "data": {
      "text/plain": [
       "array([[ 1.        , -0.53078369],\n",
       "       [-0.53078369,  1.        ]])"
      ]
     },
     "execution_count": 119,
     "metadata": {},
     "output_type": "execute_result"
    }
   ],
   "source": [
    "np.corrcoef(lr.predict_proba(X_df)[:,1], y1_df)"
   ]
  },
  {
   "cell_type": "code",
   "execution_count": 56,
   "metadata": {},
   "outputs": [],
   "source": [
    "from sklearn.linear_model import LinearRegression\n",
    "lr2 = LinearRegression()"
   ]
  },
  {
   "cell_type": "code",
   "execution_count": 67,
   "metadata": {},
   "outputs": [
    {
     "data": {
      "text/plain": [
       "LinearRegression()"
      ]
     },
     "execution_count": 67,
     "metadata": {},
     "output_type": "execute_result"
    }
   ],
   "source": [
    "lr2.fit(X_df, y1_df)"
   ]
  },
  {
   "cell_type": "code",
   "execution_count": 70,
   "metadata": {},
   "outputs": [
    {
     "name": "stdout",
     "output_type": "stream",
     "text": [
      "Brier: 75.10\n",
      "R^2: 0.5868\n"
     ]
    }
   ],
   "source": [
    "print(f\"Brier: {np.mean((lr2.predict(X_df) - y1_df)**2):.2f}\")\n",
    "print(f\"R^2: {lr2.score(X_df, y1_df):.4f}\")"
   ]
  },
  {
   "cell_type": "code",
   "execution_count": 122,
   "metadata": {},
   "outputs": [],
   "source": [
    "lr2 = LogisticRegression(class_weight = 'balanced')"
   ]
  },
  {
   "cell_type": "code",
   "execution_count": 123,
   "metadata": {},
   "outputs": [
    {
     "data": {
      "text/plain": [
       "LogisticRegression(class_weight='balanced')"
      ]
     },
     "execution_count": 123,
     "metadata": {},
     "output_type": "execute_result"
    }
   ],
   "source": [
    "lr2.fit(X_df, y2_df)"
   ]
  },
  {
   "cell_type": "code",
   "execution_count": 124,
   "metadata": {},
   "outputs": [
    {
     "data": {
      "text/html": [
       "<div>\n",
       "<style scoped>\n",
       "    .dataframe tbody tr th:only-of-type {\n",
       "        vertical-align: middle;\n",
       "    }\n",
       "\n",
       "    .dataframe tbody tr th {\n",
       "        vertical-align: top;\n",
       "    }\n",
       "\n",
       "    .dataframe thead th {\n",
       "        text-align: right;\n",
       "    }\n",
       "</style>\n",
       "<table border=\"1\" class=\"dataframe\">\n",
       "  <thead>\n",
       "    <tr style=\"text-align: right;\">\n",
       "      <th></th>\n",
       "      <th>true</th>\n",
       "      <th>pred_prob_mean</th>\n",
       "      <th>pred_prob_max</th>\n",
       "      <th>pred_prob_min</th>\n",
       "    </tr>\n",
       "  </thead>\n",
       "  <tbody>\n",
       "    <tr>\n",
       "      <th>0</th>\n",
       "      <td>0</td>\n",
       "      <td>0.438251</td>\n",
       "      <td>0.753507</td>\n",
       "      <td>0.034843</td>\n",
       "    </tr>\n",
       "    <tr>\n",
       "      <th>1</th>\n",
       "      <td>1</td>\n",
       "      <td>0.561749</td>\n",
       "      <td>0.753507</td>\n",
       "      <td>0.034843</td>\n",
       "    </tr>\n",
       "  </tbody>\n",
       "</table>\n",
       "</div>"
      ],
      "text/plain": [
       "   true  pred_prob_mean  pred_prob_max  pred_prob_min\n",
       "0     0        0.438251       0.753507       0.034843\n",
       "1     1        0.561749       0.753507       0.034843"
      ]
     },
     "execution_count": 124,
     "metadata": {},
     "output_type": "execute_result"
    }
   ],
   "source": [
    "pd.DataFrame({'true':y2_df, 'pred_prob':lr2.predict_proba(X_df)[:,1]})\\\n",
    "    .groupby('true')\\\n",
    "    .agg(pred_prob_mean = ('pred_prob', 'mean'),\n",
    "         pred_prob_max = ('pred_prob', 'max'),\n",
    "         pred_prob_min = ('pred_prob', 'min'))\\\n",
    "    .reset_index()"
   ]
  },
  {
   "cell_type": "code",
   "execution_count": 130,
   "metadata": {},
   "outputs": [
    {
     "data": {
      "text/plain": [
       "[<matplotlib.lines.Line2D at 0x27c066083d0>]"
      ]
     },
     "execution_count": 130,
     "metadata": {},
     "output_type": "execute_result"
    },
    {
     "data": {
      "image/png": "[encoded data removed]",
      "text/plain": [
       "<Figure size 432x288 with 1 Axes>"
      ]
     },
     "metadata": {},
     "output_type": "display_data"
    }
   ],
   "source": [
    "a = pd.DataFrame({'feature_distance':df['feature_distance'], 'pred_prob':lr2.predict_proba(X_df)[:,1]})\\\n",
    "    .groupby('feature_distance')\\\n",
    "    .agg(pred_prob_mean = ('pred_prob', 'mean'))\\\n",
    "    .reset_index()\n",
    "\n",
    "fig, ax = plt.subplots()\n",
    "ax.plot('feature_distance', 'pred_prob_mean', data = a)"
   ]
  },
  {
   "cell_type": "code",
   "execution_count": 132,
   "metadata": {},
   "outputs": [
    {
     "data": {
      "text/plain": [
       "array([[ 1.        , -0.91763638],\n",
       "       [-0.91763638,  1.        ]])"
      ]
     },
     "execution_count": 132,
     "metadata": {},
     "output_type": "execute_result"
    }
   ],
   "source": [
    "np.corrcoef(a, rowvar = False)"
   ]
  }
 ],
 "metadata": {
  "colab": {
   "name": "ice_plot.ipynb",
   "provenance": [],
   "toc_visible": true
  },
  "kernelspec": {
   "display_name": "Python 3",
   "language": "python",
   "name": "python3"
  },
  "language_info": {
   "codemirror_mode": {
    "name": "ipython",
    "version": 3
   },
   "file_extension": ".py",
   "mimetype": "text/x-python",
   "name": "python",
   "nbconvert_exporter": "python",
   "pygments_lexer": "ipython3",
   "version": "3.8.5"
  },
  "toc": {
   "base_numbering": 1,
   "nav_menu": {},
   "number_sections": true,
   "sideBar": true,
   "skip_h1_title": false,
   "title_cell": "Table of Contents",
   "title_sidebar": "Contents",
   "toc_cell": false,
   "toc_position": {
    "height": "calc(100% - 180px)",
    "left": "10px",
    "top": "150px",
    "width": "230.4px"
   },
   "toc_section_display": true,
   "toc_window_display": true
  }
 },
 "nbformat": 4,
 "nbformat_minor": 1
}
