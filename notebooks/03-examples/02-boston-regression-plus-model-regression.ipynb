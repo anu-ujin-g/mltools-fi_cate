{
 "cells": [
  {
   "cell_type": "code",
   "execution_count": 83,
   "metadata": {
    "id": "BqkGR-LB_-Bf"
   },
   "outputs": [],
   "source": [
    "import pandas as pd\n",
    "import numpy as np\n",
    "import matplotlib.pyplot as plt\n",
    "%matplotlib inline\n",
    "from sklearn.ensemble import GradientBoostingRegressor\n",
    "from sklearn.ensemble import RandomForestRegressor\n",
    "from sklearn.linear_model import Ridge\n",
    "from datetime import datetime\n",
    "import shap"
   ]
  },
  {
   "cell_type": "code",
   "execution_count": 84,
   "metadata": {},
   "outputs": [],
   "source": [
    "exec(open(\"../../header.py\").read())"
   ]
  },
  {
   "cell_type": "markdown",
   "metadata": {},
   "source": [
    "# Import data"
   ]
  },
  {
   "cell_type": "code",
   "execution_count": 85,
   "metadata": {},
   "outputs": [],
   "source": [
    "folder = 'boston'"
   ]
  },
  {
   "cell_type": "code",
   "execution_count": 86,
   "metadata": {
    "id": "vXpomyt6FMz2"
   },
   "outputs": [],
   "source": [
    "X = pd.read_csv(processed_root(f'{folder}/X.csv'))\n",
    "y = pd.read_csv(processed_root(f'{folder}/y.csv'))"
   ]
  },
  {
   "cell_type": "code",
   "execution_count": 87,
   "metadata": {},
   "outputs": [],
   "source": [
    "mean = np.mean(X, axis = 0)\n",
    "std = np.std(X, axis = 0)\n",
    "\n",
    "X = (X - mean)/std"
   ]
  },
  {
   "cell_type": "markdown",
   "metadata": {},
   "source": [
    "# Fit linear regression model"
   ]
  },
  {
   "cell_type": "code",
   "execution_count": 88,
   "metadata": {
    "colab": {
     "base_uri": "https://localhost:8080/"
    },
    "id": "xB4klszcFiEB",
    "outputId": "2985105a-80fe-44cd-9235-a7c09a7d7b0d"
   },
   "outputs": [
    {
     "data": {
      "text/plain": [
       "Ridge()"
      ]
     },
     "execution_count": 88,
     "metadata": {},
     "output_type": "execute_result"
    }
   ],
   "source": [
    "model = Ridge()\n",
    "model.fit(X, y.iloc[:,0])"
   ]
  },
  {
   "cell_type": "code",
   "execution_count": 89,
   "metadata": {},
   "outputs": [
    {
     "data": {
      "text/plain": [
       "0.7406304514762485"
      ]
     },
     "execution_count": 89,
     "metadata": {},
     "output_type": "execute_result"
    }
   ],
   "source": [
    "model.score(X, y)"
   ]
  },
  {
   "cell_type": "markdown",
   "metadata": {},
   "source": [
    "# Fit random forest to linear regression model"
   ]
  },
  {
   "cell_type": "code",
   "execution_count": 90,
   "metadata": {},
   "outputs": [],
   "source": [
    "y_new = model.predict(X)"
   ]
  },
  {
   "cell_type": "code",
   "execution_count": 91,
   "metadata": {},
   "outputs": [
    {
     "data": {
      "text/plain": [
       "GradientBoostingRegressor()"
      ]
     },
     "execution_count": 91,
     "metadata": {},
     "output_type": "execute_result"
    }
   ],
   "source": [
    "model2 = GradientBoostingRegressor()\n",
    "model2.fit(X, y_new)"
   ]
  },
  {
   "cell_type": "code",
   "execution_count": 92,
   "metadata": {},
   "outputs": [
    {
     "data": {
      "text/plain": [
       "0.9929704574408218"
      ]
     },
     "execution_count": 92,
     "metadata": {},
     "output_type": "execute_result"
    }
   ],
   "source": [
    "model2.score(X, y_new)"
   ]
  },
  {
   "cell_type": "code",
   "execution_count": 93,
   "metadata": {},
   "outputs": [
    {
     "data": {
      "text/plain": [
       "0.7466092347329779"
      ]
     },
     "execution_count": 93,
     "metadata": {},
     "output_type": "execute_result"
    }
   ],
   "source": [
    "model2.score(X, y)"
   ]
  },
  {
   "cell_type": "markdown",
   "metadata": {},
   "source": [
    "# Compare feature importance/impact metrics"
   ]
  },
  {
   "cell_type": "code",
   "execution_count": 94,
   "metadata": {},
   "outputs": [],
   "source": [
    "shapley = SHAP_FI(\"linear\")\n",
    "ice = ICE(\"continuous\")\n",
    "native = Native_FI()\n",
    "pfi = PFI_FI(y)\n",
    "fi_metrics = [ice, shapley, native, pfi]\n",
    "# fi_metrics = [ice, native]"
   ]
  },
  {
   "cell_type": "code",
   "execution_count": 95,
   "metadata": {},
   "outputs": [],
   "source": [
    "comparator = Comparator()"
   ]
  },
  {
   "cell_type": "code",
   "execution_count": 96,
   "metadata": {},
   "outputs": [
    {
     "name": "stdout",
     "output_type": "stream",
     "text": [
      "PFI fits in 0.30 seconds\n"
     ]
    }
   ],
   "source": [
    "comparator.fit(X, model, fi_metrics)"
   ]
  },
  {
   "cell_type": "code",
   "execution_count": 97,
   "metadata": {},
   "outputs": [],
   "source": [
    "shapley = SHAP_FI(\"tree\")\n",
    "ice = ICE(\"continuous\")\n",
    "native = Native_FI()\n",
    "pfi = PFI_FI(y)\n",
    "fi_metrics2 = [ice, shapley, native, pfi]"
   ]
  },
  {
   "cell_type": "code",
   "execution_count": 98,
   "metadata": {},
   "outputs": [
    {
     "name": "stdout",
     "output_type": "stream",
     "text": [
      "PFI fits in 0.70 seconds\n"
     ]
    }
   ],
   "source": [
    "comparator2 = Comparator()\n",
    "comparator2.fit(X, model2, fi_metrics2)"
   ]
  },
  {
   "cell_type": "markdown",
   "metadata": {},
   "source": [
    "# Results"
   ]
  },
  {
   "cell_type": "code",
   "execution_count": 99,
   "metadata": {},
   "outputs": [
    {
     "data": {
      "text/html": [
       "<div>\n",
       "<style scoped>\n",
       "    .dataframe tbody tr th:only-of-type {\n",
       "        vertical-align: middle;\n",
       "    }\n",
       "\n",
       "    .dataframe tbody tr th {\n",
       "        vertical-align: top;\n",
       "    }\n",
       "\n",
       "    .dataframe thead th {\n",
       "        text-align: right;\n",
       "    }\n",
       "</style>\n",
       "<table border=\"1\" class=\"dataframe\">\n",
       "  <thead>\n",
       "    <tr style=\"text-align: right;\">\n",
       "      <th></th>\n",
       "      <th>Feature</th>\n",
       "      <th>Feature Impact</th>\n",
       "      <th>In-Dist Feature Impact</th>\n",
       "      <th>Shapley Value</th>\n",
       "      <th>Native Feature Importance</th>\n",
       "      <th>PFI</th>\n",
       "    </tr>\n",
       "  </thead>\n",
       "  <tbody>\n",
       "    <tr>\n",
       "      <th>0</th>\n",
       "      <td>CRIM</td>\n",
       "      <td>0.919871</td>\n",
       "      <td>0.919871</td>\n",
       "      <td>-0.012890</td>\n",
       "      <td>-0.919871</td>\n",
       "      <td>0.019542</td>\n",
       "    </tr>\n",
       "    <tr>\n",
       "      <th>1</th>\n",
       "      <td>ZN</td>\n",
       "      <td>1.066461</td>\n",
       "      <td>1.066461</td>\n",
       "      <td>-0.049954</td>\n",
       "      <td>1.066461</td>\n",
       "      <td>0.024741</td>\n",
       "    </tr>\n",
       "    <tr>\n",
       "      <th>2</th>\n",
       "      <td>INDUS</td>\n",
       "      <td>0.117385</td>\n",
       "      <td>0.117385</td>\n",
       "      <td>0.010511</td>\n",
       "      <td>0.117385</td>\n",
       "      <td>0.000266</td>\n",
       "    </tr>\n",
       "    <tr>\n",
       "      <th>3</th>\n",
       "      <td>CHAS</td>\n",
       "      <td>0.685127</td>\n",
       "      <td>0.685127</td>\n",
       "      <td>0.024760</td>\n",
       "      <td>0.685127</td>\n",
       "      <td>0.010797</td>\n",
       "    </tr>\n",
       "    <tr>\n",
       "      <th>4</th>\n",
       "      <td>NOX</td>\n",
       "      <td>2.029010</td>\n",
       "      <td>2.029010</td>\n",
       "      <td>-0.061434</td>\n",
       "      <td>-2.029010</td>\n",
       "      <td>0.096731</td>\n",
       "    </tr>\n",
       "    <tr>\n",
       "      <th>5</th>\n",
       "      <td>RM</td>\n",
       "      <td>2.682754</td>\n",
       "      <td>2.682754</td>\n",
       "      <td>0.064265</td>\n",
       "      <td>2.682754</td>\n",
       "      <td>0.165699</td>\n",
       "    </tr>\n",
       "    <tr>\n",
       "      <th>6</th>\n",
       "      <td>AGE</td>\n",
       "      <td>0.013158</td>\n",
       "      <td>0.013158</td>\n",
       "      <td>0.000589</td>\n",
       "      <td>0.013158</td>\n",
       "      <td>0.000016</td>\n",
       "    </tr>\n",
       "    <tr>\n",
       "      <th>7</th>\n",
       "      <td>DIS</td>\n",
       "      <td>3.077340</td>\n",
       "      <td>3.077340</td>\n",
       "      <td>0.010363</td>\n",
       "      <td>-3.077340</td>\n",
       "      <td>0.229446</td>\n",
       "    </tr>\n",
       "    <tr>\n",
       "      <th>8</th>\n",
       "      <td>RAD</td>\n",
       "      <td>2.591538</td>\n",
       "      <td>2.591538</td>\n",
       "      <td>-0.006135</td>\n",
       "      <td>2.591538</td>\n",
       "      <td>0.166827</td>\n",
       "    </tr>\n",
       "    <tr>\n",
       "      <th>9</th>\n",
       "      <td>TAX</td>\n",
       "      <td>2.010558</td>\n",
       "      <td>2.010558</td>\n",
       "      <td>-0.084749</td>\n",
       "      <td>-2.010558</td>\n",
       "      <td>0.094412</td>\n",
       "    </tr>\n",
       "    <tr>\n",
       "      <th>10</th>\n",
       "      <td>PTRATIO</td>\n",
       "      <td>2.052385</td>\n",
       "      <td>2.052385</td>\n",
       "      <td>-0.034668</td>\n",
       "      <td>-2.052385</td>\n",
       "      <td>0.094680</td>\n",
       "    </tr>\n",
       "    <tr>\n",
       "      <th>11</th>\n",
       "      <td>B</td>\n",
       "      <td>0.848848</td>\n",
       "      <td>0.848848</td>\n",
       "      <td>-0.078195</td>\n",
       "      <td>0.848848</td>\n",
       "      <td>0.018351</td>\n",
       "    </tr>\n",
       "    <tr>\n",
       "      <th>12</th>\n",
       "      <td>LSTAT</td>\n",
       "      <td>3.730666</td>\n",
       "      <td>3.730666</td>\n",
       "      <td>-0.088096</td>\n",
       "      <td>-3.730666</td>\n",
       "      <td>0.335936</td>\n",
       "    </tr>\n",
       "  </tbody>\n",
       "</table>\n",
       "</div>"
      ],
      "text/plain": [
       "    Feature  Feature Impact  In-Dist Feature Impact  Shapley Value  \\\n",
       "0      CRIM        0.919871                0.919871      -0.012890   \n",
       "1        ZN        1.066461                1.066461      -0.049954   \n",
       "2     INDUS        0.117385                0.117385       0.010511   \n",
       "3      CHAS        0.685127                0.685127       0.024760   \n",
       "4       NOX        2.029010                2.029010      -0.061434   \n",
       "5        RM        2.682754                2.682754       0.064265   \n",
       "6       AGE        0.013158                0.013158       0.000589   \n",
       "7       DIS        3.077340                3.077340       0.010363   \n",
       "8       RAD        2.591538                2.591538      -0.006135   \n",
       "9       TAX        2.010558                2.010558      -0.084749   \n",
       "10  PTRATIO        2.052385                2.052385      -0.034668   \n",
       "11        B        0.848848                0.848848      -0.078195   \n",
       "12    LSTAT        3.730666                3.730666      -0.088096   \n",
       "\n",
       "    Native Feature Importance       PFI  \n",
       "0                   -0.919871  0.019542  \n",
       "1                    1.066461  0.024741  \n",
       "2                    0.117385  0.000266  \n",
       "3                    0.685127  0.010797  \n",
       "4                   -2.029010  0.096731  \n",
       "5                    2.682754  0.165699  \n",
       "6                    0.013158  0.000016  \n",
       "7                   -3.077340  0.229446  \n",
       "8                    2.591538  0.166827  \n",
       "9                   -2.010558  0.094412  \n",
       "10                  -2.052385  0.094680  \n",
       "11                   0.848848  0.018351  \n",
       "12                  -3.730666  0.335936  "
      ]
     },
     "execution_count": 99,
     "metadata": {},
     "output_type": "execute_result"
    }
   ],
   "source": [
    "comparator.build_raw_table()"
   ]
  },
  {
   "cell_type": "code",
   "execution_count": 100,
   "metadata": {},
   "outputs": [
    {
     "data": {
      "text/html": [
       "<div>\n",
       "<style scoped>\n",
       "    .dataframe tbody tr th:only-of-type {\n",
       "        vertical-align: middle;\n",
       "    }\n",
       "\n",
       "    .dataframe tbody tr th {\n",
       "        vertical-align: top;\n",
       "    }\n",
       "\n",
       "    .dataframe thead th {\n",
       "        text-align: right;\n",
       "    }\n",
       "</style>\n",
       "<table border=\"1\" class=\"dataframe\">\n",
       "  <thead>\n",
       "    <tr style=\"text-align: right;\">\n",
       "      <th></th>\n",
       "      <th>Feature</th>\n",
       "      <th>Feature Impact</th>\n",
       "      <th>In-Dist Feature Impact</th>\n",
       "      <th>Shapley Value</th>\n",
       "      <th>Native Feature Importance</th>\n",
       "      <th>PFI</th>\n",
       "    </tr>\n",
       "  </thead>\n",
       "  <tbody>\n",
       "    <tr>\n",
       "      <th>0</th>\n",
       "      <td>CRIM</td>\n",
       "      <td>4.214740</td>\n",
       "      <td>4.214740</td>\n",
       "      <td>2.447827</td>\n",
       "      <td>4.214740</td>\n",
       "      <td>1.554143</td>\n",
       "    </tr>\n",
       "    <tr>\n",
       "      <th>1</th>\n",
       "      <td>ZN</td>\n",
       "      <td>4.886397</td>\n",
       "      <td>4.886397</td>\n",
       "      <td>9.485952</td>\n",
       "      <td>4.886397</td>\n",
       "      <td>1.967591</td>\n",
       "    </tr>\n",
       "    <tr>\n",
       "      <th>2</th>\n",
       "      <td>INDUS</td>\n",
       "      <td>0.537843</td>\n",
       "      <td>0.537843</td>\n",
       "      <td>1.995939</td>\n",
       "      <td>0.537843</td>\n",
       "      <td>0.021165</td>\n",
       "    </tr>\n",
       "    <tr>\n",
       "      <th>3</th>\n",
       "      <td>CHAS</td>\n",
       "      <td>3.139170</td>\n",
       "      <td>3.139170</td>\n",
       "      <td>4.701708</td>\n",
       "      <td>3.139170</td>\n",
       "      <td>0.858665</td>\n",
       "    </tr>\n",
       "    <tr>\n",
       "      <th>4</th>\n",
       "      <td>NOX</td>\n",
       "      <td>9.296681</td>\n",
       "      <td>9.296681</td>\n",
       "      <td>11.665960</td>\n",
       "      <td>9.296681</td>\n",
       "      <td>7.692666</td>\n",
       "    </tr>\n",
       "    <tr>\n",
       "      <th>5</th>\n",
       "      <td>RM</td>\n",
       "      <td>12.292056</td>\n",
       "      <td>12.292056</td>\n",
       "      <td>12.203483</td>\n",
       "      <td>12.292056</td>\n",
       "      <td>13.177459</td>\n",
       "    </tr>\n",
       "    <tr>\n",
       "      <th>6</th>\n",
       "      <td>AGE</td>\n",
       "      <td>0.060291</td>\n",
       "      <td>0.060291</td>\n",
       "      <td>0.111772</td>\n",
       "      <td>0.060291</td>\n",
       "      <td>0.001237</td>\n",
       "    </tr>\n",
       "    <tr>\n",
       "      <th>7</th>\n",
       "      <td>DIS</td>\n",
       "      <td>14.100002</td>\n",
       "      <td>14.100002</td>\n",
       "      <td>1.967955</td>\n",
       "      <td>14.100002</td>\n",
       "      <td>18.247020</td>\n",
       "    </tr>\n",
       "    <tr>\n",
       "      <th>8</th>\n",
       "      <td>RAD</td>\n",
       "      <td>11.874115</td>\n",
       "      <td>11.874115</td>\n",
       "      <td>1.165021</td>\n",
       "      <td>11.874115</td>\n",
       "      <td>13.267117</td>\n",
       "    </tr>\n",
       "    <tr>\n",
       "      <th>9</th>\n",
       "      <td>TAX</td>\n",
       "      <td>9.212136</td>\n",
       "      <td>9.212136</td>\n",
       "      <td>16.093331</td>\n",
       "      <td>9.212136</td>\n",
       "      <td>7.508231</td>\n",
       "    </tr>\n",
       "    <tr>\n",
       "      <th>10</th>\n",
       "      <td>PTRATIO</td>\n",
       "      <td>9.403780</td>\n",
       "      <td>9.403780</td>\n",
       "      <td>6.583319</td>\n",
       "      <td>9.403780</td>\n",
       "      <td>7.529596</td>\n",
       "    </tr>\n",
       "    <tr>\n",
       "      <th>11</th>\n",
       "      <td>B</td>\n",
       "      <td>3.889322</td>\n",
       "      <td>3.889322</td>\n",
       "      <td>14.848753</td>\n",
       "      <td>3.889322</td>\n",
       "      <td>1.459370</td>\n",
       "    </tr>\n",
       "    <tr>\n",
       "      <th>12</th>\n",
       "      <td>LSTAT</td>\n",
       "      <td>17.093467</td>\n",
       "      <td>17.093467</td>\n",
       "      <td>16.728980</td>\n",
       "      <td>17.093467</td>\n",
       "      <td>26.715739</td>\n",
       "    </tr>\n",
       "  </tbody>\n",
       "</table>\n",
       "</div>"
      ],
      "text/plain": [
       "    Feature  Feature Impact  In-Dist Feature Impact  Shapley Value  \\\n",
       "0      CRIM        4.214740                4.214740       2.447827   \n",
       "1        ZN        4.886397                4.886397       9.485952   \n",
       "2     INDUS        0.537843                0.537843       1.995939   \n",
       "3      CHAS        3.139170                3.139170       4.701708   \n",
       "4       NOX        9.296681                9.296681      11.665960   \n",
       "5        RM       12.292056               12.292056      12.203483   \n",
       "6       AGE        0.060291                0.060291       0.111772   \n",
       "7       DIS       14.100002               14.100002       1.967955   \n",
       "8       RAD       11.874115               11.874115       1.165021   \n",
       "9       TAX        9.212136                9.212136      16.093331   \n",
       "10  PTRATIO        9.403780                9.403780       6.583319   \n",
       "11        B        3.889322                3.889322      14.848753   \n",
       "12    LSTAT       17.093467               17.093467      16.728980   \n",
       "\n",
       "    Native Feature Importance        PFI  \n",
       "0                    4.214740   1.554143  \n",
       "1                    4.886397   1.967591  \n",
       "2                    0.537843   0.021165  \n",
       "3                    3.139170   0.858665  \n",
       "4                    9.296681   7.692666  \n",
       "5                   12.292056  13.177459  \n",
       "6                    0.060291   0.001237  \n",
       "7                   14.100002  18.247020  \n",
       "8                   11.874115  13.267117  \n",
       "9                    9.212136   7.508231  \n",
       "10                   9.403780   7.529596  \n",
       "11                   3.889322   1.459370  \n",
       "12                  17.093467  26.715739  "
      ]
     },
     "execution_count": 100,
     "metadata": {},
     "output_type": "execute_result"
    }
   ],
   "source": [
    "comparator.build_normalized_table()"
   ]
  },
  {
   "cell_type": "markdown",
   "metadata": {},
   "source": [
    "# Gradient Boosting replicating linear regression"
   ]
  },
  {
   "cell_type": "code",
   "execution_count": 101,
   "metadata": {},
   "outputs": [
    {
     "data": {
      "text/html": [
       "<div>\n",
       "<style scoped>\n",
       "    .dataframe tbody tr th:only-of-type {\n",
       "        vertical-align: middle;\n",
       "    }\n",
       "\n",
       "    .dataframe tbody tr th {\n",
       "        vertical-align: top;\n",
       "    }\n",
       "\n",
       "    .dataframe thead th {\n",
       "        text-align: right;\n",
       "    }\n",
       "</style>\n",
       "<table border=\"1\" class=\"dataframe\">\n",
       "  <thead>\n",
       "    <tr style=\"text-align: right;\">\n",
       "      <th></th>\n",
       "      <th>Feature</th>\n",
       "      <th>Feature Impact</th>\n",
       "      <th>In-Dist Feature Impact</th>\n",
       "      <th>Shapley Value</th>\n",
       "      <th>Native Feature Importance</th>\n",
       "      <th>PFI</th>\n",
       "    </tr>\n",
       "  </thead>\n",
       "  <tbody>\n",
       "    <tr>\n",
       "      <th>0</th>\n",
       "      <td>CRIM</td>\n",
       "      <td>4.196695</td>\n",
       "      <td>4.443070</td>\n",
       "      <td>0.031622</td>\n",
       "      <td>0.008100</td>\n",
       "      <td>0.001372</td>\n",
       "    </tr>\n",
       "    <tr>\n",
       "      <th>1</th>\n",
       "      <td>ZN</td>\n",
       "      <td>0.343318</td>\n",
       "      <td>0.362917</td>\n",
       "      <td>-0.013340</td>\n",
       "      <td>0.004103</td>\n",
       "      <td>0.005740</td>\n",
       "    </tr>\n",
       "    <tr>\n",
       "      <th>2</th>\n",
       "      <td>INDUS</td>\n",
       "      <td>0.161459</td>\n",
       "      <td>0.143700</td>\n",
       "      <td>-0.005325</td>\n",
       "      <td>0.000714</td>\n",
       "      <td>0.000174</td>\n",
       "    </tr>\n",
       "    <tr>\n",
       "      <th>3</th>\n",
       "      <td>CHAS</td>\n",
       "      <td>0.542222</td>\n",
       "      <td>0.542222</td>\n",
       "      <td>-0.009177</td>\n",
       "      <td>0.007770</td>\n",
       "      <td>0.010314</td>\n",
       "    </tr>\n",
       "    <tr>\n",
       "      <th>4</th>\n",
       "      <td>NOX</td>\n",
       "      <td>0.266591</td>\n",
       "      <td>0.271534</td>\n",
       "      <td>0.021724</td>\n",
       "      <td>0.003466</td>\n",
       "      <td>0.005735</td>\n",
       "    </tr>\n",
       "    <tr>\n",
       "      <th>5</th>\n",
       "      <td>RM</td>\n",
       "      <td>6.899275</td>\n",
       "      <td>7.154241</td>\n",
       "      <td>-0.288638</td>\n",
       "      <td>0.257768</td>\n",
       "      <td>0.224554</td>\n",
       "    </tr>\n",
       "    <tr>\n",
       "      <th>6</th>\n",
       "      <td>AGE</td>\n",
       "      <td>0.018639</td>\n",
       "      <td>0.022085</td>\n",
       "      <td>-0.003927</td>\n",
       "      <td>0.000209</td>\n",
       "      <td>0.000335</td>\n",
       "    </tr>\n",
       "    <tr>\n",
       "      <th>7</th>\n",
       "      <td>DIS</td>\n",
       "      <td>1.418048</td>\n",
       "      <td>1.375753</td>\n",
       "      <td>0.058333</td>\n",
       "      <td>0.020977</td>\n",
       "      <td>0.027201</td>\n",
       "    </tr>\n",
       "    <tr>\n",
       "      <th>8</th>\n",
       "      <td>RAD</td>\n",
       "      <td>0.572643</td>\n",
       "      <td>0.567321</td>\n",
       "      <td>-0.002552</td>\n",
       "      <td>0.002050</td>\n",
       "      <td>0.004031</td>\n",
       "    </tr>\n",
       "    <tr>\n",
       "      <th>9</th>\n",
       "      <td>TAX</td>\n",
       "      <td>1.453474</td>\n",
       "      <td>1.473310</td>\n",
       "      <td>-0.044535</td>\n",
       "      <td>0.008741</td>\n",
       "      <td>0.008513</td>\n",
       "    </tr>\n",
       "    <tr>\n",
       "      <th>10</th>\n",
       "      <td>PTRATIO</td>\n",
       "      <td>1.770902</td>\n",
       "      <td>1.918309</td>\n",
       "      <td>-0.052818</td>\n",
       "      <td>0.071362</td>\n",
       "      <td>0.047676</td>\n",
       "    </tr>\n",
       "    <tr>\n",
       "      <th>11</th>\n",
       "      <td>B</td>\n",
       "      <td>1.840496</td>\n",
       "      <td>1.902794</td>\n",
       "      <td>0.020114</td>\n",
       "      <td>0.011946</td>\n",
       "      <td>0.009750</td>\n",
       "    </tr>\n",
       "    <tr>\n",
       "      <th>12</th>\n",
       "      <td>LSTAT</td>\n",
       "      <td>5.825326</td>\n",
       "      <td>5.754912</td>\n",
       "      <td>0.288519</td>\n",
       "      <td>0.602795</td>\n",
       "      <td>0.426552</td>\n",
       "    </tr>\n",
       "  </tbody>\n",
       "</table>\n",
       "</div>"
      ],
      "text/plain": [
       "    Feature  Feature Impact  In-Dist Feature Impact  Shapley Value  \\\n",
       "0      CRIM        4.196695                4.443070       0.031622   \n",
       "1        ZN        0.343318                0.362917      -0.013340   \n",
       "2     INDUS        0.161459                0.143700      -0.005325   \n",
       "3      CHAS        0.542222                0.542222      -0.009177   \n",
       "4       NOX        0.266591                0.271534       0.021724   \n",
       "5        RM        6.899275                7.154241      -0.288638   \n",
       "6       AGE        0.018639                0.022085      -0.003927   \n",
       "7       DIS        1.418048                1.375753       0.058333   \n",
       "8       RAD        0.572643                0.567321      -0.002552   \n",
       "9       TAX        1.453474                1.473310      -0.044535   \n",
       "10  PTRATIO        1.770902                1.918309      -0.052818   \n",
       "11        B        1.840496                1.902794       0.020114   \n",
       "12    LSTAT        5.825326                5.754912       0.288519   \n",
       "\n",
       "    Native Feature Importance       PFI  \n",
       "0                    0.008100  0.001372  \n",
       "1                    0.004103  0.005740  \n",
       "2                    0.000714  0.000174  \n",
       "3                    0.007770  0.010314  \n",
       "4                    0.003466  0.005735  \n",
       "5                    0.257768  0.224554  \n",
       "6                    0.000209  0.000335  \n",
       "7                    0.020977  0.027201  \n",
       "8                    0.002050  0.004031  \n",
       "9                    0.008741  0.008513  \n",
       "10                   0.071362  0.047676  \n",
       "11                   0.011946  0.009750  \n",
       "12                   0.602795  0.426552  "
      ]
     },
     "execution_count": 101,
     "metadata": {},
     "output_type": "execute_result"
    }
   ],
   "source": [
    "comparator2.build_raw_table()"
   ]
  }
 ],
 "metadata": {
  "colab": {
   "name": "ice_plot.ipynb",
   "provenance": [],
   "toc_visible": true
  },
  "kernelspec": {
   "display_name": "Python 3",
   "language": "python",
   "name": "python3"
  },
  "language_info": {
   "codemirror_mode": {
    "name": "ipython",
    "version": 3
   },
   "file_extension": ".py",
   "mimetype": "text/x-python",
   "name": "python",
   "nbconvert_exporter": "python",
   "pygments_lexer": "ipython3",
   "version": "3.8.5"
  },
  "toc": {
   "base_numbering": 1,
   "nav_menu": {},
   "number_sections": true,
   "sideBar": true,
   "skip_h1_title": false,
   "title_cell": "Table of Contents",
   "title_sidebar": "Contents",
   "toc_cell": false,
   "toc_position": {
    "height": "calc(100% - 180px)",
    "left": "10px",
    "top": "150px",
    "width": "230.4px"
   },
   "toc_section_display": true,
   "toc_window_display": true
  }
 },
 "nbformat": 4,
 "nbformat_minor": 1
}
