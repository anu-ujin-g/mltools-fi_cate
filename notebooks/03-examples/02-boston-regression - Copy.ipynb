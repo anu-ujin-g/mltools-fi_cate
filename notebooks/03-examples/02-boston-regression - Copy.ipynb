{
 "cells": [
  {
   "cell_type": "code",
   "execution_count": 1,
   "metadata": {
    "id": "BqkGR-LB_-Bf"
   },
   "outputs": [],
   "source": [
    "import pandas as pd\n",
    "import numpy as np\n",
    "import matplotlib.pyplot as plt\n",
    "%matplotlib inline\n",
    "from sklearn.ensemble import GradientBoostingRegressor\n",
    "from sklearn.linear_model import Ridge\n",
    "from datetime import datetime\n",
    "import shap"
   ]
  },
  {
   "cell_type": "code",
   "execution_count": 2,
   "metadata": {},
   "outputs": [],
   "source": [
    "exec(open(\"../../header.py\").read())"
   ]
  },
  {
   "cell_type": "markdown",
   "metadata": {},
   "source": [
    "# Import data"
   ]
  },
  {
   "cell_type": "code",
   "execution_count": 3,
   "metadata": {},
   "outputs": [],
   "source": [
    "folder = 'boston'"
   ]
  },
  {
   "cell_type": "code",
   "execution_count": 4,
   "metadata": {
    "id": "vXpomyt6FMz2"
   },
   "outputs": [],
   "source": [
    "X = pd.read_csv(processed_root(f'{folder}/X.csv'))\n",
    "y = pd.read_csv(processed_root(f'{folder}/y.csv'))"
   ]
  },
  {
   "cell_type": "code",
   "execution_count": 5,
   "metadata": {},
   "outputs": [],
   "source": [
    "mean = np.mean(X, axis = 0)\n",
    "std = np.std(X, axis = 0)\n",
    "\n",
    "X = (X - mean)/std"
   ]
  },
  {
   "cell_type": "markdown",
   "metadata": {},
   "source": [
    "# Linear Regression Case"
   ]
  },
  {
   "cell_type": "code",
   "execution_count": 14,
   "metadata": {
    "colab": {
     "base_uri": "https://localhost:8080/"
    },
    "id": "xB4klszcFiEB",
    "outputId": "2985105a-80fe-44cd-9235-a7c09a7d7b0d"
   },
   "outputs": [
    {
     "data": {
      "text/plain": [
       "0.7406304514762485"
      ]
     },
     "execution_count": 14,
     "metadata": {},
     "output_type": "execute_result"
    }
   ],
   "source": [
    "model = Ridge()\n",
    "model.fit(X, y.iloc[:,0])\n",
    "model.score(X, y)"
   ]
  },
  {
   "cell_type": "code",
   "execution_count": 9,
   "metadata": {},
   "outputs": [],
   "source": [
    "shapley = SHAP_FI(\"linear\")\n",
    "ice = ICE(\"continuous\")\n",
    "native = Native_FI()\n",
    "pfi = PFI_FI(y)\n",
    "fi_metrics = [ice, shapley, native, pfi]\n",
    "# fi_metrics = [ice, native]"
   ]
  },
  {
   "cell_type": "code",
   "execution_count": 10,
   "metadata": {},
   "outputs": [],
   "source": [
    "comparator = Comparator()"
   ]
  },
  {
   "cell_type": "code",
   "execution_count": 12,
   "metadata": {},
   "outputs": [
    {
     "name": "stdout",
     "output_type": "stream",
     "text": [
      "PFI fits in 0.29 seconds\n"
     ]
    }
   ],
   "source": [
    "comparator.fit(X, model, fi_metrics)"
   ]
  },
  {
   "cell_type": "code",
   "execution_count": 15,
   "metadata": {},
   "outputs": [
    {
     "data": {
      "text/html": [
       "<div>\n",
       "<style scoped>\n",
       "    .dataframe tbody tr th:only-of-type {\n",
       "        vertical-align: middle;\n",
       "    }\n",
       "\n",
       "    .dataframe tbody tr th {\n",
       "        vertical-align: top;\n",
       "    }\n",
       "\n",
       "    .dataframe thead th {\n",
       "        text-align: right;\n",
       "    }\n",
       "</style>\n",
       "<table border=\"1\" class=\"dataframe\">\n",
       "  <thead>\n",
       "    <tr style=\"text-align: right;\">\n",
       "      <th></th>\n",
       "      <th>Feature</th>\n",
       "      <th>ICE FI</th>\n",
       "      <th>ICE In-Dist FI</th>\n",
       "      <th>Shapley Value</th>\n",
       "      <th>Native Feature Importance</th>\n",
       "      <th>PFI</th>\n",
       "    </tr>\n",
       "  </thead>\n",
       "  <tbody>\n",
       "    <tr>\n",
       "      <th>0</th>\n",
       "      <td>CRIM</td>\n",
       "      <td>0.919871</td>\n",
       "      <td>0.919871</td>\n",
       "      <td>-0.012890</td>\n",
       "      <td>-0.919871</td>\n",
       "      <td>0.019542</td>\n",
       "    </tr>\n",
       "    <tr>\n",
       "      <th>1</th>\n",
       "      <td>ZN</td>\n",
       "      <td>1.066461</td>\n",
       "      <td>1.066461</td>\n",
       "      <td>-0.049954</td>\n",
       "      <td>1.066461</td>\n",
       "      <td>0.024741</td>\n",
       "    </tr>\n",
       "    <tr>\n",
       "      <th>2</th>\n",
       "      <td>INDUS</td>\n",
       "      <td>0.117385</td>\n",
       "      <td>0.117385</td>\n",
       "      <td>0.010511</td>\n",
       "      <td>0.117385</td>\n",
       "      <td>0.000266</td>\n",
       "    </tr>\n",
       "  </tbody>\n",
       "</table>\n",
       "</div>"
      ],
      "text/plain": [
       "  Feature    ICE FI  ICE In-Dist FI  Shapley Value  Native Feature Importance  \\\n",
       "0    CRIM  0.919871        0.919871      -0.012890                  -0.919871   \n",
       "1      ZN  1.066461        1.066461      -0.049954                   1.066461   \n",
       "2   INDUS  0.117385        0.117385       0.010511                   0.117385   \n",
       "\n",
       "        PFI  \n",
       "0  0.019542  \n",
       "1  0.024741  \n",
       "2  0.000266  "
      ]
     },
     "execution_count": 15,
     "metadata": {},
     "output_type": "execute_result"
    }
   ],
   "source": [
    "comparator.build_raw_table().head(3)"
   ]
  },
  {
   "cell_type": "markdown",
   "metadata": {},
   "source": [
    "# Gradient Boosting Case"
   ]
  },
  {
   "cell_type": "code",
   "execution_count": 43,
   "metadata": {
    "colab": {
     "base_uri": "https://localhost:8080/"
    },
    "id": "xB4klszcFiEB",
    "outputId": "2985105a-80fe-44cd-9235-a7c09a7d7b0d"
   },
   "outputs": [
    {
     "name": "stderr",
     "output_type": "stream",
     "text": [
      "Stochastic Optimizer: Maximum iterations (200) reached and the optimization hasn't converged yet.\n"
     ]
    },
    {
     "data": {
      "text/plain": [
       "-0.9598110160756395"
      ]
     },
     "execution_count": 43,
     "metadata": {},
     "output_type": "execute_result"
    }
   ],
   "source": [
    "model = GradientBoostingRegressor()\n",
    "model.fit(X.iloc[:400,], y.iloc[:400,0])\n",
    "model.score(X.iloc[401:], y.iloc[401:])"
   ]
  },
  {
   "cell_type": "code",
   "execution_count": 20,
   "metadata": {},
   "outputs": [],
   "source": [
    "shapley = SHAP_FI(\"tree\")\n",
    "ice = ICE(\"continuous\")\n",
    "native = Native_FI()\n",
    "pfi = PFI_FI(y)\n",
    "fi_metrics = [ice, shapley, native, pfi]\n",
    "# fi_metrics = [ice, native]"
   ]
  },
  {
   "cell_type": "code",
   "execution_count": 21,
   "metadata": {},
   "outputs": [],
   "source": [
    "comparator = Comparator()"
   ]
  },
  {
   "cell_type": "code",
   "execution_count": 22,
   "metadata": {},
   "outputs": [
    {
     "name": "stdout",
     "output_type": "stream",
     "text": [
      "PFI fits in 0.46 seconds\n"
     ]
    }
   ],
   "source": [
    "comparator.fit(X, model, fi_metrics)"
   ]
  },
  {
   "cell_type": "code",
   "execution_count": 23,
   "metadata": {},
   "outputs": [
    {
     "data": {
      "text/html": [
       "<div>\n",
       "<style scoped>\n",
       "    .dataframe tbody tr th:only-of-type {\n",
       "        vertical-align: middle;\n",
       "    }\n",
       "\n",
       "    .dataframe tbody tr th {\n",
       "        vertical-align: top;\n",
       "    }\n",
       "\n",
       "    .dataframe thead th {\n",
       "        text-align: right;\n",
       "    }\n",
       "</style>\n",
       "<table border=\"1\" class=\"dataframe\">\n",
       "  <thead>\n",
       "    <tr style=\"text-align: right;\">\n",
       "      <th></th>\n",
       "      <th>Feature</th>\n",
       "      <th>ICE FI</th>\n",
       "      <th>ICE In-Dist FI</th>\n",
       "      <th>Shapley Value</th>\n",
       "      <th>Native Feature Importance</th>\n",
       "      <th>PFI</th>\n",
       "    </tr>\n",
       "  </thead>\n",
       "  <tbody>\n",
       "    <tr>\n",
       "      <th>0</th>\n",
       "      <td>CRIM</td>\n",
       "      <td>65.410401</td>\n",
       "      <td>67.120877</td>\n",
       "      <td>0.028294</td>\n",
       "      <td>0.027640</td>\n",
       "      <td>0.020046</td>\n",
       "    </tr>\n",
       "    <tr>\n",
       "      <th>1</th>\n",
       "      <td>ZN</td>\n",
       "      <td>0.086378</td>\n",
       "      <td>0.061908</td>\n",
       "      <td>-0.000318</td>\n",
       "      <td>0.000339</td>\n",
       "      <td>0.000378</td>\n",
       "    </tr>\n",
       "    <tr>\n",
       "      <th>2</th>\n",
       "      <td>INDUS</td>\n",
       "      <td>0.986345</td>\n",
       "      <td>0.927406</td>\n",
       "      <td>0.015207</td>\n",
       "      <td>0.002266</td>\n",
       "      <td>0.002491</td>\n",
       "    </tr>\n",
       "  </tbody>\n",
       "</table>\n",
       "</div>"
      ],
      "text/plain": [
       "  Feature     ICE FI  ICE In-Dist FI  Shapley Value  \\\n",
       "0    CRIM  65.410401       67.120877       0.028294   \n",
       "1      ZN   0.086378        0.061908      -0.000318   \n",
       "2   INDUS   0.986345        0.927406       0.015207   \n",
       "\n",
       "   Native Feature Importance       PFI  \n",
       "0                   0.027640  0.020046  \n",
       "1                   0.000339  0.000378  \n",
       "2                   0.002266  0.002491  "
      ]
     },
     "execution_count": 23,
     "metadata": {},
     "output_type": "execute_result"
    }
   ],
   "source": [
    "comparator.build_raw_table().head(3)"
   ]
  }
 ],
 "metadata": {
  "colab": {
   "name": "ice_plot.ipynb",
   "provenance": [],
   "toc_visible": true
  },
  "kernelspec": {
   "display_name": "Python 3",
   "language": "python",
   "name": "python3"
  },
  "language_info": {
   "codemirror_mode": {
    "name": "ipython",
    "version": 3
   },
   "file_extension": ".py",
   "mimetype": "text/x-python",
   "name": "python",
   "nbconvert_exporter": "python",
   "pygments_lexer": "ipython3",
   "version": "3.8.5"
  },
  "toc": {
   "base_numbering": 1,
   "nav_menu": {},
   "number_sections": true,
   "sideBar": true,
   "skip_h1_title": false,
   "title_cell": "Table of Contents",
   "title_sidebar": "Contents",
   "toc_cell": false,
   "toc_position": {
    "height": "calc(100% - 180px)",
    "left": "10px",
    "top": "150px",
    "width": "230.4px"
   },
   "toc_section_display": true,
   "toc_window_display": true
  }
 },
 "nbformat": 4,
 "nbformat_minor": 1
}
