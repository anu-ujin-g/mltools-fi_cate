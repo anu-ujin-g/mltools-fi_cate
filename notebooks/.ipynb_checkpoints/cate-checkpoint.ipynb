{
 "cells": [
  {
   "cell_type": "code",
   "execution_count": 1,
   "metadata": {},
   "outputs": [
    {
     "ename": "ModuleNotFoundError",
     "evalue": "No module named 'pycebox'",
     "output_type": "error",
     "traceback": [
      "\u001b[1;31m---------------------------------------------------------------------------\u001b[0m",
      "\u001b[1;31mModuleNotFoundError\u001b[0m                       Traceback (most recent call last)",
      "\u001b[1;32m<ipython-input-1-b93050613f92>\u001b[0m in \u001b[0;36m<module>\u001b[1;34m\u001b[0m\n\u001b[0;32m     21\u001b[0m \u001b[1;33m\u001b[0m\u001b[0m\n\u001b[0;32m     22\u001b[0m \u001b[1;32mimport\u001b[0m \u001b[0mseaborn\u001b[0m \u001b[1;32mas\u001b[0m \u001b[0msns\u001b[0m\u001b[1;33m\u001b[0m\u001b[1;33m\u001b[0m\u001b[0m\n\u001b[1;32m---> 23\u001b[1;33m \u001b[1;32mfrom\u001b[0m \u001b[0mpycebox\u001b[0m\u001b[1;33m.\u001b[0m\u001b[0mice\u001b[0m \u001b[1;32mimport\u001b[0m \u001b[0mice\u001b[0m\u001b[1;33m,\u001b[0m \u001b[0mice_plot\u001b[0m\u001b[1;33m\u001b[0m\u001b[1;33m\u001b[0m\u001b[0m\n\u001b[0m\u001b[0;32m     24\u001b[0m \u001b[1;32mfrom\u001b[0m \u001b[0mmatplotlib\u001b[0m\u001b[1;33m.\u001b[0m\u001b[0mcm\u001b[0m \u001b[1;32mimport\u001b[0m \u001b[0mseismic\u001b[0m\u001b[1;33m\u001b[0m\u001b[1;33m\u001b[0m\u001b[0m\n\u001b[0;32m     25\u001b[0m \u001b[1;33m\u001b[0m\u001b[0m\n",
      "\u001b[1;31mModuleNotFoundError\u001b[0m: No module named 'pycebox'"
     ]
    }
   ],
   "source": [
    "import numpy as np\n",
    "import pandas as pd\n",
    "pd.options.mode.chained_assignment = None\n",
    "from matplotlib import pyplot as plt\n",
    "%matplotlib inline\n",
    "import random\n",
    "\n",
    "from sklearn.model_selection import train_test_split\n",
    "from sklearn.metrics import mean_squared_error\n",
    "from sklearn.preprocessing import StandardScaler, PolynomialFeatures\n",
    "from sklearn.linear_model import LinearRegression, LogisticRegression\n",
    "from sklearn.tree import DecisionTreeRegressor\n",
    "from sklearn.ensemble import RandomForestClassifier, RandomForestRegressor\n",
    "from scipy.stats import norm, sem\n",
    "from scipy.interpolate import UnivariateSpline\n",
    "from sklearn.calibration import calibration_curve\n",
    "import matplotlib.pyplot as plt\n",
    "import seaborn as sns\n",
    "from scipy.stats.stats import pearsonr\n",
    "from numpy.random import default_rng\n",
    "\n",
    "import seaborn as sns\n",
    "from pycebox.ice import ice, ice_plot\n",
    "from matplotlib.cm import seismic\n",
    "\n",
    "from sympy import *"
   ]
  },
  {
   "cell_type": "code",
   "execution_count": null,
   "metadata": {},
   "outputs": [],
   "source": [
    "x1,x2,x3,y = [],[],[],[]\n",
    "N = 1000\n",
    "\n",
    "for i in range(0,N):\n",
    "    X1 = np.random.uniform(-1, 1, size = 1)\n",
    "    X2 = np.random.uniform(-1, 1, size = 1)\n",
    "    X3 = np.random.uniform(-1, 1, size = 1)\n",
    "    Y = 0.2*X1 - 5*X2 + 10*X3\n",
    "\n",
    "    x1.append(X1)\n",
    "    x2.append(X2)\n",
    "    x3.append(X3)    \n",
    "    y.append(Y)"
   ]
  },
  {
   "cell_type": "code",
   "execution_count": null,
   "metadata": {},
   "outputs": [],
   "source": [
    "data = np.concatenate([x1,x2,x3,y], axis = 1)\n",
    "df = pd.DataFrame(data, columns=['X1','X2','X3','Y'])"
   ]
  },
  {
   "cell_type": "code",
   "execution_count": null,
   "metadata": {},
   "outputs": [],
   "source": [
    "df"
   ]
  },
  {
   "cell_type": "code",
   "execution_count": null,
   "metadata": {},
   "outputs": [],
   "source": [
    "X = df[['X1','X2','X3']]\n",
    "X1, X2, X3 = df.X1, df.X2, df.X3\n",
    "y = df.Y\n",
    "\n",
    "std = {}"
   ]
  },
  {
   "cell_type": "code",
   "execution_count": null,
   "metadata": {},
   "outputs": [],
   "source": [
    "minus_X, plus_X, minus_y, plus_y = train_test_split(X, y, test_size=.5, random_state=42)\n",
    "minus_df = minus_X.join(minus_y)\n",
    "plus_df = plus_X.join(plus_y)"
   ]
  },
  {
   "cell_type": "code",
   "execution_count": null,
   "metadata": {},
   "outputs": [],
   "source": [
    "def change_features(X_og,X,i,alpha,group):\n",
    "    X_list = []\n",
    "    y_list = []\n",
    "\n",
    "    for j in range(len(X)):\n",
    "        new_values = {}\n",
    "        std[i] = np.std(X[i])\n",
    "        og_value = X[i].iloc[j]\n",
    "        if group == 'plus':\n",
    "            new_value = og_value + alpha*std[i]\n",
    "        if group == 'minus':\n",
    "            new_value = og_value - alpha*std[i]\n",
    "        new_values[i] = new_value\n",
    "        X_list.append(new_values)\n",
    "    X_new = pd.DataFrame(X_list)\n",
    "    X_new = X_new.join(X.reset_index().drop(columns=[i,'index']))\n",
    "    for x in range(len(X_new)):\n",
    "        y_list.append(0.2*X_new.X1[x] - 5*X_new.X2[x] + 10*X_new.X3[x]) \n",
    "    y_new = pd.DataFrame(y_list, columns=['Y'])\n",
    "    df_new = X_new.join(y_new).append(X_og).reset_index().drop(columns=['index'])\n",
    "    return(df_new)"
   ]
  },
  {
   "cell_type": "code",
   "execution_count": null,
   "metadata": {},
   "outputs": [],
   "source": [
    "plus_df_X1 = change_features(minus_df, plus_X, 'X1', 0.05, 'plus')\n",
    "minus_df_X1 = change_features(plus_df, minus_X, 'X1', 0.05, 'minus')\n",
    "minus_df_X1"
   ]
  },
  {
   "cell_type": "code",
   "execution_count": null,
   "metadata": {},
   "outputs": [],
   "source": [
    "def cate(y, y_new):\n",
    "    mean0 = np.mean(y)\n",
    "    mean1 = np.mean(y_new)\n",
    "    tao = mean1 - mean0\n",
    "    return tao"
   ]
  },
  {
   "cell_type": "code",
   "execution_count": null,
   "metadata": {},
   "outputs": [],
   "source": [
    "minus_cate = {}\n",
    "for x in minus_X:\n",
    "    minus_df_new = change_features(minus_df, minus_X, x, 0.05, 'minus')\n",
    "    c = cate(minus_y, minus_df_new.Y)\n",
    "    minus_cate[x] = c\n",
    "pd.DataFrame([minus_cate])"
   ]
  },
  {
   "cell_type": "code",
   "execution_count": null,
   "metadata": {},
   "outputs": [],
   "source": [
    "plus_cate = {}\n",
    "for x in plus_X:\n",
    "    plus_df_new = change_features(minus_df, plus_X, x, 0.05, 'plus')\n",
    "    c = cate(plus_y, plus_df_new.Y)\n",
    "    plus_cate[x] = c\n",
    "pd.DataFrame([plus_cate])"
   ]
  },
  {
   "cell_type": "markdown",
   "metadata": {},
   "source": [
    "### Cancer test data"
   ]
  },
  {
   "cell_type": "code",
   "execution_count": null,
   "metadata": {},
   "outputs": [],
   "source": [
    "X = pd.read_csv('cervical_cancer_risks/X.csv')\n",
    "y = pd.read_csv('cervical_cancer_risks/y.csv')\n",
    "df = X.join(y)"
   ]
  },
  {
   "cell_type": "code",
   "execution_count": null,
   "metadata": {},
   "outputs": [],
   "source": [
    "df"
   ]
  },
  {
   "cell_type": "code",
   "execution_count": null,
   "metadata": {},
   "outputs": [],
   "source": [
    "bin_col = []\n",
    "for i in X:\n",
    "    if  len(X[i].unique())<4:\n",
    "        bin_col.append(i)"
   ]
  },
  {
   "cell_type": "code",
   "execution_count": null,
   "metadata": {},
   "outputs": [],
   "source": [
    "bin_col"
   ]
  },
  {
   "cell_type": "code",
   "execution_count": null,
   "metadata": {},
   "outputs": [],
   "source": [
    "for i in range(len(bin_col)):\n",
    "    print(X[bin_col[i]].value_counts())"
   ]
  },
  {
   "cell_type": "code",
   "execution_count": null,
   "metadata": {},
   "outputs": [],
   "source": [
    "def change_binary(df, X_feat, alpha):\n",
    "    # alpha: percentage of values to change\n",
    "    # Only keep binary variables\n",
    "    binary = [0,1]\n",
    "    df = df[df[X_feat].isin(binary)].reset_index()\n",
    "    \n",
    "    df_X = df.iloc[:,:-1]\n",
    "    # Choose random indices to change values of\n",
    "    rand = []\n",
    "    m = int(np.floor(len(df_X)*alpha))\n",
    "    for i in range(m):\n",
    "        rand.append(random.randint(0,max(df_X.index)))\n",
    "    for d in rand:\n",
    "        df_X[X_feat].loc[d] = np.abs(df_X[X_feat].loc[d] - 1)\n",
    "    \n",
    "    rf = RandomForestClassifier()\n",
    "    rf.fit(df.iloc[:,:-1], df.Biopsy)\n",
    "    y_new = pd.DataFrame(rf.predict(df_X), columns=['pred_y'])\n",
    "    df_new = df_X.join(y_new).reset_index().drop(columns=['index'])\n",
    "    return(df_new)"
   ]
  },
  {
   "cell_type": "code",
   "execution_count": null,
   "metadata": {},
   "outputs": [],
   "source": [
    "def change_continuous(df, X_feat, alpha, sig):\n",
    "    # sig: value to change sigma by\n",
    "    df_X = df.iloc[:,:-1]\n",
    "    # Choose random indices to change values of\n",
    "    std = np.std(df_X[X_feat])\n",
    "    rand = []\n",
    "    m = int(np.floor(len(df_X)*alpha))\n",
    "    for i in range(m):\n",
    "        rand.append(random.randint(0,max(df_X.index)))\n",
    "    for d in rand:\n",
    "        df_X[X_feat].loc[d] = df_X[X_feat].loc[d] + sig * std\n",
    "    \n",
    "    rf = RandomForestClassifier()\n",
    "    rf.fit(df.iloc[:,:-1], df.Biopsy)\n",
    "    y_new = pd.DataFrame(rf.predict(df_X), columns=['pred_y'])\n",
    "    df_new = df_X.join(y_new).reset_index().drop(columns=['index'])\n",
    "    return(df_new)"
   ]
  },
  {
   "cell_type": "code",
   "execution_count": null,
   "metadata": {},
   "outputs": [],
   "source": [
    "def cate(y, y_new):\n",
    "    mean0 = np.mean(y)\n",
    "    mean1 = np.mean(y_new)\n",
    "    tao = mean1 - mean0\n",
    "    return tao"
   ]
  },
  {
   "cell_type": "code",
   "execution_count": null,
   "metadata": {},
   "outputs": [],
   "source": [
    "X = df.iloc[:,:-1]\n",
    "cate_values = {}\n",
    "for X_feat in X:\n",
    "    if X_feat in bin_col:\n",
    "        df_new = change_binary(df, X_feat, alpha=0.5)\n",
    "    else:\n",
    "        df_new = change_continuous(df, X_feat, alpha=0.5, sig=1)\n",
    "    c = cate(df.Biopsy, df_new.pred_y)\n",
    "    cate_values[X_feat] = c\n",
    "pd.DataFrame([cate_values])"
   ]
  },
  {
   "cell_type": "code",
   "execution_count": null,
   "metadata": {},
   "outputs": [],
   "source": []
  }
 ],
 "metadata": {
  "kernelspec": {
   "display_name": "Python 3",
   "language": "python",
   "name": "python3"
  },
  "language_info": {
   "codemirror_mode": {
    "name": "ipython",
    "version": 3
   },
   "file_extension": ".py",
   "mimetype": "text/x-python",
   "name": "python",
   "nbconvert_exporter": "python",
   "pygments_lexer": "ipython3",
   "version": "3.8.5"
  },
  "toc": {
   "base_numbering": 1,
   "nav_menu": {},
   "number_sections": true,
   "sideBar": true,
   "skip_h1_title": false,
   "title_cell": "Table of Contents",
   "title_sidebar": "Contents",
   "toc_cell": false,
   "toc_position": {},
   "toc_section_display": true,
   "toc_window_display": true
  }
 },
 "nbformat": 4,
 "nbformat_minor": 2
}
