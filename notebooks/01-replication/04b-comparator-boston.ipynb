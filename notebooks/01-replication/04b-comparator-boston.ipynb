{
 "cells": [
  {
   "cell_type": "code",
   "execution_count": 276,
   "metadata": {
    "id": "BqkGR-LB_-Bf"
   },
   "outputs": [],
   "source": [
    "import pandas as pd\n",
    "import numpy as np\n",
    "import matplotlib.pyplot as plt\n",
    "%matplotlib inline\n",
    "from sklearn.ensemble import GradientBoostingRegressor\n",
    "from sklearn.linear_model import Ridge\n",
    "from datetime import datetime\n",
    "import shap"
   ]
  },
  {
   "cell_type": "code",
   "execution_count": 277,
   "metadata": {},
   "outputs": [],
   "source": [
    "exec(open(\"../../header.py\").read())"
   ]
  },
  {
   "cell_type": "markdown",
   "metadata": {},
   "source": [
    "# Import data"
   ]
  },
  {
   "cell_type": "code",
   "execution_count": 278,
   "metadata": {},
   "outputs": [],
   "source": [
    "folder = 'boston'"
   ]
  },
  {
   "cell_type": "code",
   "execution_count": 279,
   "metadata": {
    "id": "vXpomyt6FMz2"
   },
   "outputs": [],
   "source": [
    "X = pd.read_csv(processed_root(f'{folder}/X.csv'))\n",
    "y = pd.read_csv(processed_root(f'{folder}/y.csv'))"
   ]
  },
  {
   "cell_type": "code",
   "execution_count": 280,
   "metadata": {},
   "outputs": [],
   "source": [
    "mean = np.mean(X, axis = 0)\n",
    "std = np.std(X, axis = 0)\n",
    "\n",
    "X_norm = (X - mean)/std"
   ]
  },
  {
   "cell_type": "markdown",
   "metadata": {},
   "source": [
    "# Fit model"
   ]
  },
  {
   "cell_type": "code",
   "execution_count": 281,
   "metadata": {
    "colab": {
     "base_uri": "https://localhost:8080/"
    },
    "id": "xB4klszcFiEB",
    "outputId": "2985105a-80fe-44cd-9235-a7c09a7d7b0d"
   },
   "outputs": [
    {
     "data": {
      "text/plain": [
       "Ridge()"
      ]
     },
     "execution_count": 281,
     "metadata": {},
     "output_type": "execute_result"
    }
   ],
   "source": [
    "model = Ridge()\n",
    "model.fit(X_norm, y.iloc[:,0])"
   ]
  },
  {
   "cell_type": "code",
   "execution_count": 282,
   "metadata": {},
   "outputs": [
    {
     "data": {
      "text/plain": [
       "0.7406304514762485"
      ]
     },
     "execution_count": 282,
     "metadata": {},
     "output_type": "execute_result"
    }
   ],
   "source": [
    "model.score(X_norm, y)"
   ]
  },
  {
   "cell_type": "markdown",
   "metadata": {},
   "source": [
    "# Compare feature importance/impact metrics"
   ]
  },
  {
   "cell_type": "code",
   "execution_count": 283,
   "metadata": {},
   "outputs": [],
   "source": [
    "shapley = SHAP_FI(\"linear\")\n",
    "ice = ICE(\"continuous\")\n",
    "native = Native_FI()\n",
    "fi_metrics = [ice, shapley, native]\n",
    "# fi_metrics = [ice, native]"
   ]
  },
  {
   "cell_type": "code",
   "execution_count": 284,
   "metadata": {},
   "outputs": [],
   "source": [
    "shap_values = shap.explainers.Linear(model, X).shap_values(X).mean(axis = 0)"
   ]
  },
  {
   "cell_type": "code",
   "execution_count": 285,
   "metadata": {},
   "outputs": [],
   "source": [
    "comparator = Comparator()"
   ]
  },
  {
   "cell_type": "code",
   "execution_count": 286,
   "metadata": {},
   "outputs": [],
   "source": [
    "comparator.fit(X_norm, model, fi_metrics)"
   ]
  },
  {
   "cell_type": "markdown",
   "metadata": {},
   "source": [
    "# Results"
   ]
  },
  {
   "cell_type": "code",
   "execution_count": 287,
   "metadata": {},
   "outputs": [
    {
     "data": {
      "text/html": [
       "<div>\n",
       "<style scoped>\n",
       "    .dataframe tbody tr th:only-of-type {\n",
       "        vertical-align: middle;\n",
       "    }\n",
       "\n",
       "    .dataframe tbody tr th {\n",
       "        vertical-align: top;\n",
       "    }\n",
       "\n",
       "    .dataframe thead th {\n",
       "        text-align: right;\n",
       "    }\n",
       "</style>\n",
       "<table border=\"1\" class=\"dataframe\">\n",
       "  <thead>\n",
       "    <tr style=\"text-align: right;\">\n",
       "      <th></th>\n",
       "      <th>Feature</th>\n",
       "      <th>Feature Impact</th>\n",
       "      <th>In-Dist Feature Impact</th>\n",
       "      <th>Shapley Value</th>\n",
       "      <th>Native Feature Importance</th>\n",
       "    </tr>\n",
       "  </thead>\n",
       "  <tbody>\n",
       "    <tr>\n",
       "      <th>0</th>\n",
       "      <td>CRIM</td>\n",
       "      <td>0.919871</td>\n",
       "      <td>0.919871</td>\n",
       "      <td>-0.012890</td>\n",
       "      <td>-0.919871</td>\n",
       "    </tr>\n",
       "    <tr>\n",
       "      <th>1</th>\n",
       "      <td>ZN</td>\n",
       "      <td>1.066461</td>\n",
       "      <td>1.066461</td>\n",
       "      <td>-0.049954</td>\n",
       "      <td>1.066461</td>\n",
       "    </tr>\n",
       "    <tr>\n",
       "      <th>2</th>\n",
       "      <td>INDUS</td>\n",
       "      <td>0.117385</td>\n",
       "      <td>0.117385</td>\n",
       "      <td>0.010511</td>\n",
       "      <td>0.117385</td>\n",
       "    </tr>\n",
       "    <tr>\n",
       "      <th>3</th>\n",
       "      <td>CHAS</td>\n",
       "      <td>0.685127</td>\n",
       "      <td>0.685127</td>\n",
       "      <td>0.024760</td>\n",
       "      <td>0.685127</td>\n",
       "    </tr>\n",
       "    <tr>\n",
       "      <th>4</th>\n",
       "      <td>NOX</td>\n",
       "      <td>2.029010</td>\n",
       "      <td>2.029010</td>\n",
       "      <td>-0.061434</td>\n",
       "      <td>-2.029010</td>\n",
       "    </tr>\n",
       "    <tr>\n",
       "      <th>5</th>\n",
       "      <td>RM</td>\n",
       "      <td>2.682754</td>\n",
       "      <td>2.682754</td>\n",
       "      <td>0.064265</td>\n",
       "      <td>2.682754</td>\n",
       "    </tr>\n",
       "    <tr>\n",
       "      <th>6</th>\n",
       "      <td>AGE</td>\n",
       "      <td>0.013158</td>\n",
       "      <td>0.013158</td>\n",
       "      <td>0.000589</td>\n",
       "      <td>0.013158</td>\n",
       "    </tr>\n",
       "    <tr>\n",
       "      <th>7</th>\n",
       "      <td>DIS</td>\n",
       "      <td>3.077340</td>\n",
       "      <td>3.077340</td>\n",
       "      <td>0.010363</td>\n",
       "      <td>-3.077340</td>\n",
       "    </tr>\n",
       "    <tr>\n",
       "      <th>8</th>\n",
       "      <td>RAD</td>\n",
       "      <td>2.591538</td>\n",
       "      <td>2.591538</td>\n",
       "      <td>-0.006135</td>\n",
       "      <td>2.591538</td>\n",
       "    </tr>\n",
       "    <tr>\n",
       "      <th>9</th>\n",
       "      <td>TAX</td>\n",
       "      <td>2.010558</td>\n",
       "      <td>2.010558</td>\n",
       "      <td>-0.084749</td>\n",
       "      <td>-2.010558</td>\n",
       "    </tr>\n",
       "    <tr>\n",
       "      <th>10</th>\n",
       "      <td>PTRATIO</td>\n",
       "      <td>2.052385</td>\n",
       "      <td>2.052385</td>\n",
       "      <td>-0.034668</td>\n",
       "      <td>-2.052385</td>\n",
       "    </tr>\n",
       "    <tr>\n",
       "      <th>11</th>\n",
       "      <td>B</td>\n",
       "      <td>0.848848</td>\n",
       "      <td>0.848848</td>\n",
       "      <td>-0.078195</td>\n",
       "      <td>0.848848</td>\n",
       "    </tr>\n",
       "    <tr>\n",
       "      <th>12</th>\n",
       "      <td>LSTAT</td>\n",
       "      <td>3.730666</td>\n",
       "      <td>3.730666</td>\n",
       "      <td>-0.088096</td>\n",
       "      <td>-3.730666</td>\n",
       "    </tr>\n",
       "  </tbody>\n",
       "</table>\n",
       "</div>"
      ],
      "text/plain": [
       "    Feature  Feature Impact  In-Dist Feature Impact  Shapley Value  \\\n",
       "0      CRIM        0.919871                0.919871      -0.012890   \n",
       "1        ZN        1.066461                1.066461      -0.049954   \n",
       "2     INDUS        0.117385                0.117385       0.010511   \n",
       "3      CHAS        0.685127                0.685127       0.024760   \n",
       "4       NOX        2.029010                2.029010      -0.061434   \n",
       "5        RM        2.682754                2.682754       0.064265   \n",
       "6       AGE        0.013158                0.013158       0.000589   \n",
       "7       DIS        3.077340                3.077340       0.010363   \n",
       "8       RAD        2.591538                2.591538      -0.006135   \n",
       "9       TAX        2.010558                2.010558      -0.084749   \n",
       "10  PTRATIO        2.052385                2.052385      -0.034668   \n",
       "11        B        0.848848                0.848848      -0.078195   \n",
       "12    LSTAT        3.730666                3.730666      -0.088096   \n",
       "\n",
       "    Native Feature Importance  \n",
       "0                   -0.919871  \n",
       "1                    1.066461  \n",
       "2                    0.117385  \n",
       "3                    0.685127  \n",
       "4                   -2.029010  \n",
       "5                    2.682754  \n",
       "6                    0.013158  \n",
       "7                   -3.077340  \n",
       "8                    2.591538  \n",
       "9                   -2.010558  \n",
       "10                  -2.052385  \n",
       "11                   0.848848  \n",
       "12                  -3.730666  "
      ]
     },
     "execution_count": 287,
     "metadata": {},
     "output_type": "execute_result"
    }
   ],
   "source": [
    "comparator.build_raw_table()"
   ]
  },
  {
   "cell_type": "code",
   "execution_count": 288,
   "metadata": {},
   "outputs": [
    {
     "data": {
      "text/html": [
       "<div>\n",
       "<style scoped>\n",
       "    .dataframe tbody tr th:only-of-type {\n",
       "        vertical-align: middle;\n",
       "    }\n",
       "\n",
       "    .dataframe tbody tr th {\n",
       "        vertical-align: top;\n",
       "    }\n",
       "\n",
       "    .dataframe thead th {\n",
       "        text-align: right;\n",
       "    }\n",
       "</style>\n",
       "<table border=\"1\" class=\"dataframe\">\n",
       "  <thead>\n",
       "    <tr style=\"text-align: right;\">\n",
       "      <th></th>\n",
       "      <th>Feature</th>\n",
       "      <th>Feature Impact</th>\n",
       "      <th>In-Dist Feature Impact</th>\n",
       "      <th>Shapley Value</th>\n",
       "      <th>Native Feature Importance</th>\n",
       "    </tr>\n",
       "  </thead>\n",
       "  <tbody>\n",
       "    <tr>\n",
       "      <th>0</th>\n",
       "      <td>CRIM</td>\n",
       "      <td>4.214740</td>\n",
       "      <td>4.214740</td>\n",
       "      <td>-2.447827</td>\n",
       "      <td>-4.214740</td>\n",
       "    </tr>\n",
       "    <tr>\n",
       "      <th>1</th>\n",
       "      <td>ZN</td>\n",
       "      <td>4.886397</td>\n",
       "      <td>4.886397</td>\n",
       "      <td>-9.485952</td>\n",
       "      <td>4.886397</td>\n",
       "    </tr>\n",
       "    <tr>\n",
       "      <th>2</th>\n",
       "      <td>INDUS</td>\n",
       "      <td>0.537843</td>\n",
       "      <td>0.537843</td>\n",
       "      <td>1.995939</td>\n",
       "      <td>0.537843</td>\n",
       "    </tr>\n",
       "    <tr>\n",
       "      <th>3</th>\n",
       "      <td>CHAS</td>\n",
       "      <td>3.139170</td>\n",
       "      <td>3.139170</td>\n",
       "      <td>4.701708</td>\n",
       "      <td>3.139170</td>\n",
       "    </tr>\n",
       "    <tr>\n",
       "      <th>4</th>\n",
       "      <td>NOX</td>\n",
       "      <td>9.296681</td>\n",
       "      <td>9.296681</td>\n",
       "      <td>-11.665960</td>\n",
       "      <td>-9.296681</td>\n",
       "    </tr>\n",
       "    <tr>\n",
       "      <th>5</th>\n",
       "      <td>RM</td>\n",
       "      <td>12.292056</td>\n",
       "      <td>12.292056</td>\n",
       "      <td>12.203483</td>\n",
       "      <td>12.292056</td>\n",
       "    </tr>\n",
       "    <tr>\n",
       "      <th>6</th>\n",
       "      <td>AGE</td>\n",
       "      <td>0.060291</td>\n",
       "      <td>0.060291</td>\n",
       "      <td>0.111772</td>\n",
       "      <td>0.060291</td>\n",
       "    </tr>\n",
       "    <tr>\n",
       "      <th>7</th>\n",
       "      <td>DIS</td>\n",
       "      <td>14.100002</td>\n",
       "      <td>14.100002</td>\n",
       "      <td>1.967955</td>\n",
       "      <td>-14.100002</td>\n",
       "    </tr>\n",
       "    <tr>\n",
       "      <th>8</th>\n",
       "      <td>RAD</td>\n",
       "      <td>11.874115</td>\n",
       "      <td>11.874115</td>\n",
       "      <td>-1.165021</td>\n",
       "      <td>11.874115</td>\n",
       "    </tr>\n",
       "    <tr>\n",
       "      <th>9</th>\n",
       "      <td>TAX</td>\n",
       "      <td>9.212136</td>\n",
       "      <td>9.212136</td>\n",
       "      <td>-16.093331</td>\n",
       "      <td>-9.212136</td>\n",
       "    </tr>\n",
       "    <tr>\n",
       "      <th>10</th>\n",
       "      <td>PTRATIO</td>\n",
       "      <td>9.403780</td>\n",
       "      <td>9.403780</td>\n",
       "      <td>-6.583319</td>\n",
       "      <td>-9.403780</td>\n",
       "    </tr>\n",
       "    <tr>\n",
       "      <th>11</th>\n",
       "      <td>B</td>\n",
       "      <td>3.889322</td>\n",
       "      <td>3.889322</td>\n",
       "      <td>-14.848753</td>\n",
       "      <td>3.889322</td>\n",
       "    </tr>\n",
       "    <tr>\n",
       "      <th>12</th>\n",
       "      <td>LSTAT</td>\n",
       "      <td>17.093467</td>\n",
       "      <td>17.093467</td>\n",
       "      <td>-16.728980</td>\n",
       "      <td>-17.093467</td>\n",
       "    </tr>\n",
       "  </tbody>\n",
       "</table>\n",
       "</div>"
      ],
      "text/plain": [
       "    Feature  Feature Impact  In-Dist Feature Impact  Shapley Value  \\\n",
       "0      CRIM        4.214740                4.214740      -2.447827   \n",
       "1        ZN        4.886397                4.886397      -9.485952   \n",
       "2     INDUS        0.537843                0.537843       1.995939   \n",
       "3      CHAS        3.139170                3.139170       4.701708   \n",
       "4       NOX        9.296681                9.296681     -11.665960   \n",
       "5        RM       12.292056               12.292056      12.203483   \n",
       "6       AGE        0.060291                0.060291       0.111772   \n",
       "7       DIS       14.100002               14.100002       1.967955   \n",
       "8       RAD       11.874115               11.874115      -1.165021   \n",
       "9       TAX        9.212136                9.212136     -16.093331   \n",
       "10  PTRATIO        9.403780                9.403780      -6.583319   \n",
       "11        B        3.889322                3.889322     -14.848753   \n",
       "12    LSTAT       17.093467               17.093467     -16.728980   \n",
       "\n",
       "    Native Feature Importance  \n",
       "0                   -4.214740  \n",
       "1                    4.886397  \n",
       "2                    0.537843  \n",
       "3                    3.139170  \n",
       "4                   -9.296681  \n",
       "5                   12.292056  \n",
       "6                    0.060291  \n",
       "7                  -14.100002  \n",
       "8                   11.874115  \n",
       "9                   -9.212136  \n",
       "10                  -9.403780  \n",
       "11                   3.889322  \n",
       "12                 -17.093467  "
      ]
     },
     "execution_count": 288,
     "metadata": {},
     "output_type": "execute_result"
    }
   ],
   "source": [
    "comparator.build_normalized_table()"
   ]
  }
 ],
 "metadata": {
  "colab": {
   "name": "ice_plot.ipynb",
   "provenance": [],
   "toc_visible": true
  },
  "kernelspec": {
   "display_name": "Python 3",
   "language": "python",
   "name": "python3"
  },
  "language_info": {
   "codemirror_mode": {
    "name": "ipython",
    "version": 3
   },
   "file_extension": ".py",
   "mimetype": "text/x-python",
   "name": "python",
   "nbconvert_exporter": "python",
   "pygments_lexer": "ipython3",
   "version": "3.8.5"
  },
  "toc": {
   "base_numbering": 1,
   "nav_menu": {},
   "number_sections": true,
   "sideBar": true,
   "skip_h1_title": false,
   "title_cell": "Table of Contents",
   "title_sidebar": "Contents",
   "toc_cell": false,
   "toc_position": {
    "height": "calc(100% - 180px)",
    "left": "10px",
    "top": "150px",
    "width": "230.4px"
   },
   "toc_section_display": true,
   "toc_window_display": true
  }
 },
 "nbformat": 4,
 "nbformat_minor": 1
}
