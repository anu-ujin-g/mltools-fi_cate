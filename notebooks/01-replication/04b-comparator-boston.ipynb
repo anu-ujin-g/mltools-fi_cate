{
 "cells": [
  {
   "cell_type": "code",
   "execution_count": 124,
   "metadata": {
    "id": "BqkGR-LB_-Bf"
   },
   "outputs": [],
   "source": [
    "import pandas as pd\n",
    "import numpy as np\n",
    "import matplotlib.pyplot as plt\n",
    "%matplotlib inline\n",
    "from sklearn.ensemble import GradientBoostingRegressor\n",
    "from sklearn.linear_model import Ridge\n",
    "from datetime import datetime\n",
    "import shap"
   ]
  },
  {
   "cell_type": "code",
   "execution_count": 125,
   "metadata": {},
   "outputs": [],
   "source": [
    "exec(open(\"../../header.py\").read())"
   ]
  },
  {
   "cell_type": "markdown",
   "metadata": {},
   "source": [
    "# Import data"
   ]
  },
  {
   "cell_type": "code",
   "execution_count": 126,
   "metadata": {},
   "outputs": [],
   "source": [
    "folder = 'boston'"
   ]
  },
  {
   "cell_type": "code",
   "execution_count": 127,
   "metadata": {
    "id": "vXpomyt6FMz2"
   },
   "outputs": [],
   "source": [
    "X = pd.read_csv(processed_root(f'{folder}/X.csv'))\n",
    "y = pd.read_csv(processed_root(f'{folder}/y.csv'))"
   ]
  },
  {
   "cell_type": "code",
   "execution_count": 128,
   "metadata": {},
   "outputs": [],
   "source": [
    "mean = np.mean(X, axis = 0)\n",
    "std = np.std(X, axis = 0)\n",
    "\n",
    "X_norm = (X - mean)/std"
   ]
  },
  {
   "cell_type": "markdown",
   "metadata": {},
   "source": [
    "# Fit model"
   ]
  },
  {
   "cell_type": "code",
   "execution_count": 129,
   "metadata": {
    "colab": {
     "base_uri": "https://localhost:8080/"
    },
    "id": "xB4klszcFiEB",
    "outputId": "2985105a-80fe-44cd-9235-a7c09a7d7b0d"
   },
   "outputs": [
    {
     "data": {
      "text/plain": [
       "Ridge()"
      ]
     },
     "execution_count": 129,
     "metadata": {},
     "output_type": "execute_result"
    }
   ],
   "source": [
    "model = Ridge()\n",
    "model.fit(X_norm, y.iloc[:,0])"
   ]
  },
  {
   "cell_type": "code",
   "execution_count": 130,
   "metadata": {},
   "outputs": [
    {
     "data": {
      "text/plain": [
       "0.7406304514762485"
      ]
     },
     "execution_count": 130,
     "metadata": {},
     "output_type": "execute_result"
    }
   ],
   "source": [
    "model.score(X_norm, y)"
   ]
  },
  {
   "cell_type": "markdown",
   "metadata": {},
   "source": [
    "# Compare feature importance/impact metrics"
   ]
  },
  {
   "cell_type": "code",
   "execution_count": 131,
   "metadata": {},
   "outputs": [],
   "source": [
    "shapley = SHAP_FI()\n",
    "ice = ICE(\"continuous\")\n",
    "native = Native_FI()\n",
    "# fi_metrics = [ice, shapley, native]\n",
    "fi_metrics = [ice, native]"
   ]
  },
  {
   "cell_type": "code",
   "execution_count": 132,
   "metadata": {},
   "outputs": [],
   "source": [
    "comparator = Comparator()"
   ]
  },
  {
   "cell_type": "code",
   "execution_count": 133,
   "metadata": {},
   "outputs": [],
   "source": [
    "comparator.fit(X_norm, model, fi_metrics)"
   ]
  },
  {
   "cell_type": "code",
   "execution_count": 134,
   "metadata": {},
   "outputs": [
    {
     "data": {
      "text/plain": [
       "1.0664610380845185"
      ]
     },
     "execution_count": 134,
     "metadata": {},
     "output_type": "execute_result"
    }
   ],
   "source": [
    "ice.ice_dfs['ZN'].dydx_abs.mean()"
   ]
  },
  {
   "cell_type": "code",
   "execution_count": 135,
   "metadata": {},
   "outputs": [
    {
     "data": {
      "text/plain": [
       "CRIM                1.015752e+00\n",
       "ZN                  1.224623e+00\n",
       "INDUS               1.006129e+00\n",
       "CHAS                9.617322e-01\n",
       "NOX                 1.005194e+00\n",
       "RM                  1.007453e+00\n",
       "AGE                 1.003412e+00\n",
       "DIS                 9.816507e-01\n",
       "RAD                 9.998238e-01\n",
       "TAX                 1.004309e+00\n",
       "PTRATIO             1.004935e+00\n",
       "B                   1.006902e+00\n",
       "LSTAT               1.017318e+00\n",
       "orig_ZN             9.983096e-01\n",
       "obs                 1.316355e+02\n",
       "y_pred              7.685778e+00\n",
       "y_pred_centered     1.306012e+00\n",
       "feature_distance    1.214162e+00\n",
       "original_point      1.923077e-01\n",
       "likelihood          2.121694e-01\n",
       "dy                  1.279982e-01\n",
       "dx                  1.200214e-01\n",
       "dydx                6.168679e-14\n",
       "dydx_abs            6.168679e-14\n",
       "dtype: float64"
      ]
     },
     "execution_count": 135,
     "metadata": {},
     "output_type": "execute_result"
    }
   ],
   "source": [
    "np.std(ice.ice_dfs['ZN'])"
   ]
  },
  {
   "cell_type": "code",
   "execution_count": 120,
   "metadata": {},
   "outputs": [
    {
     "data": {
      "text/html": [
       "<div>\n",
       "<style scoped>\n",
       "    .dataframe tbody tr th:only-of-type {\n",
       "        vertical-align: middle;\n",
       "    }\n",
       "\n",
       "    .dataframe tbody tr th {\n",
       "        vertical-align: top;\n",
       "    }\n",
       "\n",
       "    .dataframe thead th {\n",
       "        text-align: right;\n",
       "    }\n",
       "</style>\n",
       "<table border=\"1\" class=\"dataframe\">\n",
       "  <thead>\n",
       "    <tr style=\"text-align: right;\">\n",
       "      <th></th>\n",
       "      <th>Feature</th>\n",
       "      <th>Feature Impact</th>\n",
       "      <th>In-Dist Feature Impact</th>\n",
       "      <th>Native Feature Importance</th>\n",
       "    </tr>\n",
       "  </thead>\n",
       "  <tbody>\n",
       "    <tr>\n",
       "      <th>0</th>\n",
       "      <td>CRIM</td>\n",
       "      <td>0.956242</td>\n",
       "      <td>0.954093</td>\n",
       "      <td>-0.919871</td>\n",
       "    </tr>\n",
       "    <tr>\n",
       "      <th>1</th>\n",
       "      <td>ZN</td>\n",
       "      <td>1.306012</td>\n",
       "      <td>1.238302</td>\n",
       "      <td>1.066461</td>\n",
       "    </tr>\n",
       "    <tr>\n",
       "      <th>2</th>\n",
       "      <td>INDUS</td>\n",
       "      <td>0.095685</td>\n",
       "      <td>0.094529</td>\n",
       "      <td>0.117385</td>\n",
       "    </tr>\n",
       "    <tr>\n",
       "      <th>3</th>\n",
       "      <td>CHAS</td>\n",
       "      <td>1.350041</td>\n",
       "      <td>0.326852</td>\n",
       "      <td>0.685127</td>\n",
       "    </tr>\n",
       "    <tr>\n",
       "      <th>4</th>\n",
       "      <td>NOX</td>\n",
       "      <td>1.887318</td>\n",
       "      <td>1.865631</td>\n",
       "      <td>-2.029010</td>\n",
       "    </tr>\n",
       "    <tr>\n",
       "      <th>5</th>\n",
       "      <td>RM</td>\n",
       "      <td>2.770043</td>\n",
       "      <td>2.765396</td>\n",
       "      <td>2.682754</td>\n",
       "    </tr>\n",
       "    <tr>\n",
       "      <th>6</th>\n",
       "      <td>AGE</td>\n",
       "      <td>0.012687</td>\n",
       "      <td>0.012662</td>\n",
       "      <td>0.013158</td>\n",
       "    </tr>\n",
       "    <tr>\n",
       "      <th>7</th>\n",
       "      <td>DIS</td>\n",
       "      <td>2.932950</td>\n",
       "      <td>2.925486</td>\n",
       "      <td>-3.077340</td>\n",
       "    </tr>\n",
       "    <tr>\n",
       "      <th>8</th>\n",
       "      <td>RAD</td>\n",
       "      <td>1.935870</td>\n",
       "      <td>1.729207</td>\n",
       "      <td>2.591538</td>\n",
       "    </tr>\n",
       "    <tr>\n",
       "      <th>9</th>\n",
       "      <td>TAX</td>\n",
       "      <td>1.117059</td>\n",
       "      <td>1.101381</td>\n",
       "      <td>-2.010558</td>\n",
       "    </tr>\n",
       "    <tr>\n",
       "      <th>10</th>\n",
       "      <td>PTRATIO</td>\n",
       "      <td>2.148694</td>\n",
       "      <td>2.117136</td>\n",
       "      <td>-2.052385</td>\n",
       "    </tr>\n",
       "    <tr>\n",
       "      <th>11</th>\n",
       "      <td>B</td>\n",
       "      <td>0.964953</td>\n",
       "      <td>0.963825</td>\n",
       "      <td>0.848848</td>\n",
       "    </tr>\n",
       "    <tr>\n",
       "      <th>12</th>\n",
       "      <td>LSTAT</td>\n",
       "      <td>3.746829</td>\n",
       "      <td>3.738511</td>\n",
       "      <td>-3.730666</td>\n",
       "    </tr>\n",
       "  </tbody>\n",
       "</table>\n",
       "</div>"
      ],
      "text/plain": [
       "    Feature  Feature Impact  In-Dist Feature Impact  Native Feature Importance\n",
       "0      CRIM        0.956242                0.954093                  -0.919871\n",
       "1        ZN        1.306012                1.238302                   1.066461\n",
       "2     INDUS        0.095685                0.094529                   0.117385\n",
       "3      CHAS        1.350041                0.326852                   0.685127\n",
       "4       NOX        1.887318                1.865631                  -2.029010\n",
       "5        RM        2.770043                2.765396                   2.682754\n",
       "6       AGE        0.012687                0.012662                   0.013158\n",
       "7       DIS        2.932950                2.925486                  -3.077340\n",
       "8       RAD        1.935870                1.729207                   2.591538\n",
       "9       TAX        1.117059                1.101381                  -2.010558\n",
       "10  PTRATIO        2.148694                2.117136                  -2.052385\n",
       "11        B        0.964953                0.963825                   0.848848\n",
       "12    LSTAT        3.746829                3.738511                  -3.730666"
      ]
     },
     "execution_count": 120,
     "metadata": {},
     "output_type": "execute_result"
    }
   ],
   "source": [
    "comparator.build_raw_table()"
   ]
  },
  {
   "cell_type": "code",
   "execution_count": 121,
   "metadata": {},
   "outputs": [
    {
     "data": {
      "text/html": [
       "<div>\n",
       "<style scoped>\n",
       "    .dataframe tbody tr th:only-of-type {\n",
       "        vertical-align: middle;\n",
       "    }\n",
       "\n",
       "    .dataframe tbody tr th {\n",
       "        vertical-align: top;\n",
       "    }\n",
       "\n",
       "    .dataframe thead th {\n",
       "        text-align: right;\n",
       "    }\n",
       "</style>\n",
       "<table border=\"1\" class=\"dataframe\">\n",
       "  <thead>\n",
       "    <tr style=\"text-align: right;\">\n",
       "      <th></th>\n",
       "      <th>Feature</th>\n",
       "      <th>Feature Impact</th>\n",
       "      <th>In-Dist Feature Impact</th>\n",
       "      <th>Native Feature Importance</th>\n",
       "    </tr>\n",
       "  </thead>\n",
       "  <tbody>\n",
       "    <tr>\n",
       "      <th>0</th>\n",
       "      <td>CRIM</td>\n",
       "      <td>4.505392</td>\n",
       "      <td>4.810632</td>\n",
       "      <td>15.820139</td>\n",
       "    </tr>\n",
       "    <tr>\n",
       "      <th>1</th>\n",
       "      <td>ZN</td>\n",
       "      <td>6.153358</td>\n",
       "      <td>6.243642</td>\n",
       "      <td>-18.341220</td>\n",
       "    </tr>\n",
       "    <tr>\n",
       "      <th>2</th>\n",
       "      <td>INDUS</td>\n",
       "      <td>0.450827</td>\n",
       "      <td>0.476626</td>\n",
       "      <td>-2.018810</td>\n",
       "    </tr>\n",
       "    <tr>\n",
       "      <th>3</th>\n",
       "      <td>CHAS</td>\n",
       "      <td>6.360804</td>\n",
       "      <td>1.648021</td>\n",
       "      <td>-11.782956</td>\n",
       "    </tr>\n",
       "    <tr>\n",
       "      <th>4</th>\n",
       "      <td>NOX</td>\n",
       "      <td>8.892217</td>\n",
       "      <td>9.406693</td>\n",
       "      <td>34.895340</td>\n",
       "    </tr>\n",
       "    <tr>\n",
       "      <th>5</th>\n",
       "      <td>RM</td>\n",
       "      <td>13.051228</td>\n",
       "      <td>13.943400</td>\n",
       "      <td>-46.138560</td>\n",
       "    </tr>\n",
       "    <tr>\n",
       "      <th>6</th>\n",
       "      <td>AGE</td>\n",
       "      <td>0.059778</td>\n",
       "      <td>0.063845</td>\n",
       "      <td>-0.226302</td>\n",
       "    </tr>\n",
       "    <tr>\n",
       "      <th>7</th>\n",
       "      <td>DIS</td>\n",
       "      <td>13.818777</td>\n",
       "      <td>14.750589</td>\n",
       "      <td>52.924731</td>\n",
       "    </tr>\n",
       "    <tr>\n",
       "      <th>8</th>\n",
       "      <td>RAD</td>\n",
       "      <td>9.120971</td>\n",
       "      <td>8.718831</td>\n",
       "      <td>-44.569806</td>\n",
       "    </tr>\n",
       "    <tr>\n",
       "      <th>9</th>\n",
       "      <td>TAX</td>\n",
       "      <td>5.263094</td>\n",
       "      <td>5.553272</td>\n",
       "      <td>34.577995</td>\n",
       "    </tr>\n",
       "    <tr>\n",
       "      <th>10</th>\n",
       "      <td>PTRATIO</td>\n",
       "      <td>10.123705</td>\n",
       "      <td>10.674807</td>\n",
       "      <td>35.297339</td>\n",
       "    </tr>\n",
       "    <tr>\n",
       "      <th>11</th>\n",
       "      <td>B</td>\n",
       "      <td>4.546434</td>\n",
       "      <td>4.859701</td>\n",
       "      <td>-14.598672</td>\n",
       "    </tr>\n",
       "    <tr>\n",
       "      <th>12</th>\n",
       "      <td>LSTAT</td>\n",
       "      <td>17.653416</td>\n",
       "      <td>18.849940</td>\n",
       "      <td>64.160782</td>\n",
       "    </tr>\n",
       "  </tbody>\n",
       "</table>\n",
       "</div>"
      ],
      "text/plain": [
       "    Feature  Feature Impact  In-Dist Feature Impact  Native Feature Importance\n",
       "0      CRIM        4.505392                4.810632                  15.820139\n",
       "1        ZN        6.153358                6.243642                 -18.341220\n",
       "2     INDUS        0.450827                0.476626                  -2.018810\n",
       "3      CHAS        6.360804                1.648021                 -11.782956\n",
       "4       NOX        8.892217                9.406693                  34.895340\n",
       "5        RM       13.051228               13.943400                 -46.138560\n",
       "6       AGE        0.059778                0.063845                  -0.226302\n",
       "7       DIS       13.818777               14.750589                  52.924731\n",
       "8       RAD        9.120971                8.718831                 -44.569806\n",
       "9       TAX        5.263094                5.553272                  34.577995\n",
       "10  PTRATIO       10.123705               10.674807                  35.297339\n",
       "11        B        4.546434                4.859701                 -14.598672\n",
       "12    LSTAT       17.653416               18.849940                  64.160782"
      ]
     },
     "execution_count": 121,
     "metadata": {},
     "output_type": "execute_result"
    }
   ],
   "source": [
    "comparator.build_normalized_table()"
   ]
  }
 ],
 "metadata": {
  "colab": {
   "name": "ice_plot.ipynb",
   "provenance": [],
   "toc_visible": true
  },
  "kernelspec": {
   "display_name": "Python 3",
   "language": "python",
   "name": "python3"
  },
  "language_info": {
   "codemirror_mode": {
    "name": "ipython",
    "version": 3
   },
   "file_extension": ".py",
   "mimetype": "text/x-python",
   "name": "python",
   "nbconvert_exporter": "python",
   "pygments_lexer": "ipython3",
   "version": "3.8.5"
  },
  "toc": {
   "base_numbering": 1,
   "nav_menu": {},
   "number_sections": true,
   "sideBar": true,
   "skip_h1_title": false,
   "title_cell": "Table of Contents",
   "title_sidebar": "Contents",
   "toc_cell": false,
   "toc_position": {
    "height": "calc(100% - 180px)",
    "left": "10px",
    "top": "150px",
    "width": "230.4px"
   },
   "toc_section_display": true,
   "toc_window_display": true
  }
 },
 "nbformat": 4,
 "nbformat_minor": 1
}
