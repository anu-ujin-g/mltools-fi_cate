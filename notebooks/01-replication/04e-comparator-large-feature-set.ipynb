{
 "cells": [
  {
   "cell_type": "code",
   "execution_count": 17,
   "metadata": {
    "id": "BqkGR-LB_-Bf"
   },
   "outputs": [],
   "source": [
    "import pandas as pd\n",
    "import numpy as np\n",
    "import matplotlib.pyplot as plt\n",
    "%matplotlib inline\n",
    "import seaborn as sns\n",
    "sns.set_theme(style=\"darkgrid\")\n",
    "import scipy as sp\n",
    "from sklearn.ensemble import RandomForestClassifier\n",
    "from sklearn.impute import SimpleImputer\n",
    "from datetime import datetime\n",
    "import shap"
   ]
  },
  {
   "cell_type": "code",
   "execution_count": 18,
   "metadata": {},
   "outputs": [],
   "source": [
    "exec(open(\"../../header.py\").read())"
   ]
  },
  {
   "cell_type": "markdown",
   "metadata": {},
   "source": [
    "# Import data"
   ]
  },
  {
   "cell_type": "code",
   "execution_count": 19,
   "metadata": {},
   "outputs": [],
   "source": [
    "folder_name = 'large_feature_set'"
   ]
  },
  {
   "cell_type": "code",
   "execution_count": 20,
   "metadata": {
    "id": "vXpomyt6FMz2"
   },
   "outputs": [],
   "source": [
    "X = pd.read_csv(processed_root(f'{folder_name}/X.csv'))\n",
    "y = pd.read_csv(processed_root(f'{folder_name}/y.csv'))"
   ]
  },
  {
   "cell_type": "markdown",
   "metadata": {},
   "source": [
    "# Fit model"
   ]
  },
  {
   "cell_type": "code",
   "execution_count": 21,
   "metadata": {
    "colab": {
     "base_uri": "https://localhost:8080/"
    },
    "id": "xB4klszcFiEB",
    "outputId": "2985105a-80fe-44cd-9235-a7c09a7d7b0d"
   },
   "outputs": [
    {
     "data": {
      "text/plain": [
       "RandomForestClassifier(n_estimators=500)"
      ]
     },
     "execution_count": 21,
     "metadata": {},
     "output_type": "execute_result"
    }
   ],
   "source": [
    "model = RandomForestClassifier(n_estimators = 500)\n",
    "model.fit(X, y.iloc[:,0])"
   ]
  },
  {
   "cell_type": "markdown",
   "metadata": {},
   "source": [
    "# Shapley object"
   ]
  },
  {
   "cell_type": "code",
   "execution_count": 22,
   "metadata": {},
   "outputs": [],
   "source": [
    "shapley = SHAP_FI(\"tree\")\n",
    "native = Native_FI()\n",
    "ice = ICE(\"binary\", trace = False)\n",
    "pfi = PFI_FI(y)\n",
    "fi_metrics = [ice, native, shapley]"
   ]
  },
  {
   "cell_type": "code",
   "execution_count": 23,
   "metadata": {},
   "outputs": [],
   "source": [
    "comparator = Comparator(trace = True)"
   ]
  },
  {
   "cell_type": "code",
   "execution_count": 24,
   "metadata": {},
   "outputs": [
    {
     "name": "stdout",
     "output_type": "stream",
     "text": [
      "Fitting for <__main__.ICE object at 0x000001CC80491B80>\n",
      "Fitting for <__main__.Native_FI object at 0x000001CC80491BE0>\n",
      "Fitting for <__main__.SHAP_FI object at 0x000001CC80491C70>\n",
      "List of shap values. Taking 2nd element.\n"
     ]
    }
   ],
   "source": [
    "comparator.fit(X, model, fi_metrics)"
   ]
  },
  {
   "cell_type": "markdown",
   "metadata": {},
   "source": [
    "# Results"
   ]
  },
  {
   "cell_type": "code",
   "execution_count": 25,
   "metadata": {},
   "outputs": [
    {
     "data": {
      "text/html": [
       "<div>\n",
       "<style scoped>\n",
       "    .dataframe tbody tr th:only-of-type {\n",
       "        vertical-align: middle;\n",
       "    }\n",
       "\n",
       "    .dataframe tbody tr th {\n",
       "        vertical-align: top;\n",
       "    }\n",
       "\n",
       "    .dataframe thead th {\n",
       "        text-align: right;\n",
       "    }\n",
       "</style>\n",
       "<table border=\"1\" class=\"dataframe\">\n",
       "  <thead>\n",
       "    <tr style=\"text-align: right;\">\n",
       "      <th></th>\n",
       "      <th>Feature</th>\n",
       "      <th>Feature Impact</th>\n",
       "      <th>In-Dist Feature Impact</th>\n",
       "      <th>Native Feature Importance</th>\n",
       "      <th>Shapley Value</th>\n",
       "    </tr>\n",
       "  </thead>\n",
       "  <tbody>\n",
       "    <tr>\n",
       "      <th>4</th>\n",
       "      <td>feature_4</td>\n",
       "      <td>0.084306</td>\n",
       "      <td>0.086413</td>\n",
       "      <td>0.054602</td>\n",
       "      <td>0.000780</td>\n",
       "    </tr>\n",
       "    <tr>\n",
       "      <th>96</th>\n",
       "      <td>feature_96</td>\n",
       "      <td>0.247667</td>\n",
       "      <td>0.252326</td>\n",
       "      <td>0.039116</td>\n",
       "      <td>0.000497</td>\n",
       "    </tr>\n",
       "    <tr>\n",
       "      <th>57</th>\n",
       "      <td>feature_57</td>\n",
       "      <td>0.108377</td>\n",
       "      <td>0.108266</td>\n",
       "      <td>0.033975</td>\n",
       "      <td>0.000700</td>\n",
       "    </tr>\n",
       "    <tr>\n",
       "      <th>3</th>\n",
       "      <td>feature_3</td>\n",
       "      <td>0.092060</td>\n",
       "      <td>0.092513</td>\n",
       "      <td>0.033807</td>\n",
       "      <td>-0.000255</td>\n",
       "    </tr>\n",
       "    <tr>\n",
       "      <th>34</th>\n",
       "      <td>feature_34</td>\n",
       "      <td>0.088915</td>\n",
       "      <td>0.090320</td>\n",
       "      <td>0.020596</td>\n",
       "      <td>-0.000222</td>\n",
       "    </tr>\n",
       "    <tr>\n",
       "      <th>25</th>\n",
       "      <td>feature_25</td>\n",
       "      <td>0.283272</td>\n",
       "      <td>0.278223</td>\n",
       "      <td>0.017694</td>\n",
       "      <td>0.000090</td>\n",
       "    </tr>\n",
       "    <tr>\n",
       "      <th>50</th>\n",
       "      <td>feature_50</td>\n",
       "      <td>0.019978</td>\n",
       "      <td>0.020180</td>\n",
       "      <td>0.017527</td>\n",
       "      <td>-0.000691</td>\n",
       "    </tr>\n",
       "    <tr>\n",
       "      <th>52</th>\n",
       "      <td>feature_52</td>\n",
       "      <td>0.042211</td>\n",
       "      <td>0.041885</td>\n",
       "      <td>0.017125</td>\n",
       "      <td>-0.000093</td>\n",
       "    </tr>\n",
       "    <tr>\n",
       "      <th>98</th>\n",
       "      <td>feature_98</td>\n",
       "      <td>0.089741</td>\n",
       "      <td>0.092710</td>\n",
       "      <td>0.015124</td>\n",
       "      <td>-0.000050</td>\n",
       "    </tr>\n",
       "    <tr>\n",
       "      <th>71</th>\n",
       "      <td>feature_71</td>\n",
       "      <td>0.046801</td>\n",
       "      <td>0.047570</td>\n",
       "      <td>0.012388</td>\n",
       "      <td>0.000014</td>\n",
       "    </tr>\n",
       "    <tr>\n",
       "      <th>59</th>\n",
       "      <td>feature_59</td>\n",
       "      <td>0.021280</td>\n",
       "      <td>0.021142</td>\n",
       "      <td>0.011824</td>\n",
       "      <td>0.000393</td>\n",
       "    </tr>\n",
       "    <tr>\n",
       "      <th>65</th>\n",
       "      <td>feature_65</td>\n",
       "      <td>0.311298</td>\n",
       "      <td>0.301396</td>\n",
       "      <td>0.011774</td>\n",
       "      <td>-0.000021</td>\n",
       "    </tr>\n",
       "    <tr>\n",
       "      <th>40</th>\n",
       "      <td>feature_40</td>\n",
       "      <td>0.033274</td>\n",
       "      <td>0.033368</td>\n",
       "      <td>0.010769</td>\n",
       "      <td>0.000083</td>\n",
       "    </tr>\n",
       "    <tr>\n",
       "      <th>0</th>\n",
       "      <td>feature_0</td>\n",
       "      <td>0.021890</td>\n",
       "      <td>0.022450</td>\n",
       "      <td>0.010245</td>\n",
       "      <td>-0.000086</td>\n",
       "    </tr>\n",
       "    <tr>\n",
       "      <th>53</th>\n",
       "      <td>feature_53</td>\n",
       "      <td>0.019569</td>\n",
       "      <td>0.019614</td>\n",
       "      <td>0.010173</td>\n",
       "      <td>0.000143</td>\n",
       "    </tr>\n",
       "  </tbody>\n",
       "</table>\n",
       "</div>"
      ],
      "text/plain": [
       "       Feature  Feature Impact  In-Dist Feature Impact  \\\n",
       "4    feature_4        0.084306                0.086413   \n",
       "96  feature_96        0.247667                0.252326   \n",
       "57  feature_57        0.108377                0.108266   \n",
       "3    feature_3        0.092060                0.092513   \n",
       "34  feature_34        0.088915                0.090320   \n",
       "25  feature_25        0.283272                0.278223   \n",
       "50  feature_50        0.019978                0.020180   \n",
       "52  feature_52        0.042211                0.041885   \n",
       "98  feature_98        0.089741                0.092710   \n",
       "71  feature_71        0.046801                0.047570   \n",
       "59  feature_59        0.021280                0.021142   \n",
       "65  feature_65        0.311298                0.301396   \n",
       "40  feature_40        0.033274                0.033368   \n",
       "0    feature_0        0.021890                0.022450   \n",
       "53  feature_53        0.019569                0.019614   \n",
       "\n",
       "    Native Feature Importance  Shapley Value  \n",
       "4                    0.054602       0.000780  \n",
       "96                   0.039116       0.000497  \n",
       "57                   0.033975       0.000700  \n",
       "3                    0.033807      -0.000255  \n",
       "34                   0.020596      -0.000222  \n",
       "25                   0.017694       0.000090  \n",
       "50                   0.017527      -0.000691  \n",
       "52                   0.017125      -0.000093  \n",
       "98                   0.015124      -0.000050  \n",
       "71                   0.012388       0.000014  \n",
       "59                   0.011824       0.000393  \n",
       "65                   0.011774      -0.000021  \n",
       "40                   0.010769       0.000083  \n",
       "0                    0.010245      -0.000086  \n",
       "53                   0.010173       0.000143  "
      ]
     },
     "execution_count": 25,
     "metadata": {},
     "output_type": "execute_result"
    }
   ],
   "source": [
    "comparator.build_raw_table().sort_values('Native Feature Importance', ascending = False)\\\n",
    "    .iloc[0:15]"
   ]
  },
  {
   "cell_type": "code",
   "execution_count": 26,
   "metadata": {},
   "outputs": [
    {
     "data": {
      "text/html": [
       "<div>\n",
       "<style scoped>\n",
       "    .dataframe tbody tr th:only-of-type {\n",
       "        vertical-align: middle;\n",
       "    }\n",
       "\n",
       "    .dataframe tbody tr th {\n",
       "        vertical-align: top;\n",
       "    }\n",
       "\n",
       "    .dataframe thead th {\n",
       "        text-align: right;\n",
       "    }\n",
       "</style>\n",
       "<table border=\"1\" class=\"dataframe\">\n",
       "  <thead>\n",
       "    <tr style=\"text-align: right;\">\n",
       "      <th></th>\n",
       "      <th>Feature</th>\n",
       "      <th>Feature Impact</th>\n",
       "      <th>In-Dist Feature Impact</th>\n",
       "      <th>Native Feature Importance</th>\n",
       "      <th>Shapley Value</th>\n",
       "    </tr>\n",
       "  </thead>\n",
       "  <tbody>\n",
       "    <tr>\n",
       "      <th>0</th>\n",
       "      <td>feature_0</td>\n",
       "      <td>0.779418</td>\n",
       "      <td>0.795781</td>\n",
       "      <td>1.024471</td>\n",
       "      <td>-0.654245</td>\n",
       "    </tr>\n",
       "    <tr>\n",
       "      <th>1</th>\n",
       "      <td>feature_1</td>\n",
       "      <td>0.593595</td>\n",
       "      <td>0.583600</td>\n",
       "      <td>0.838716</td>\n",
       "      <td>1.384887</td>\n",
       "    </tr>\n",
       "    <tr>\n",
       "      <th>2</th>\n",
       "      <td>feature_2</td>\n",
       "      <td>0.356564</td>\n",
       "      <td>0.348170</td>\n",
       "      <td>0.685798</td>\n",
       "      <td>1.946776</td>\n",
       "    </tr>\n",
       "    <tr>\n",
       "      <th>3</th>\n",
       "      <td>feature_3</td>\n",
       "      <td>3.277865</td>\n",
       "      <td>3.279289</td>\n",
       "      <td>3.380709</td>\n",
       "      <td>-1.953573</td>\n",
       "    </tr>\n",
       "    <tr>\n",
       "      <th>4</th>\n",
       "      <td>feature_4</td>\n",
       "      <td>3.001759</td>\n",
       "      <td>3.063074</td>\n",
       "      <td>5.460245</td>\n",
       "      <td>5.962983</td>\n",
       "    </tr>\n",
       "    <tr>\n",
       "      <th>...</th>\n",
       "      <td>...</td>\n",
       "      <td>...</td>\n",
       "      <td>...</td>\n",
       "      <td>...</td>\n",
       "      <td>...</td>\n",
       "    </tr>\n",
       "    <tr>\n",
       "      <th>95</th>\n",
       "      <td>feature_95</td>\n",
       "      <td>0.665235</td>\n",
       "      <td>0.620243</td>\n",
       "      <td>0.744025</td>\n",
       "      <td>-0.347301</td>\n",
       "    </tr>\n",
       "    <tr>\n",
       "      <th>96</th>\n",
       "      <td>feature_96</td>\n",
       "      <td>8.818314</td>\n",
       "      <td>8.944167</td>\n",
       "      <td>3.911642</td>\n",
       "      <td>3.797635</td>\n",
       "    </tr>\n",
       "    <tr>\n",
       "      <th>97</th>\n",
       "      <td>feature_97</td>\n",
       "      <td>0.316197</td>\n",
       "      <td>0.313769</td>\n",
       "      <td>0.767423</td>\n",
       "      <td>-2.130778</td>\n",
       "    </tr>\n",
       "    <tr>\n",
       "      <th>98</th>\n",
       "      <td>feature_98</td>\n",
       "      <td>3.195292</td>\n",
       "      <td>3.286280</td>\n",
       "      <td>1.512392</td>\n",
       "      <td>-0.382942</td>\n",
       "    </tr>\n",
       "    <tr>\n",
       "      <th>99</th>\n",
       "      <td>feature_99</td>\n",
       "      <td>0.645350</td>\n",
       "      <td>0.658320</td>\n",
       "      <td>0.758699</td>\n",
       "      <td>0.534175</td>\n",
       "    </tr>\n",
       "  </tbody>\n",
       "</table>\n",
       "<p>100 rows × 5 columns</p>\n",
       "</div>"
      ],
      "text/plain": [
       "       Feature  Feature Impact  In-Dist Feature Impact  \\\n",
       "0    feature_0        0.779418                0.795781   \n",
       "1    feature_1        0.593595                0.583600   \n",
       "2    feature_2        0.356564                0.348170   \n",
       "3    feature_3        3.277865                3.279289   \n",
       "4    feature_4        3.001759                3.063074   \n",
       "..         ...             ...                     ...   \n",
       "95  feature_95        0.665235                0.620243   \n",
       "96  feature_96        8.818314                8.944167   \n",
       "97  feature_97        0.316197                0.313769   \n",
       "98  feature_98        3.195292                3.286280   \n",
       "99  feature_99        0.645350                0.658320   \n",
       "\n",
       "    Native Feature Importance  Shapley Value  \n",
       "0                    1.024471      -0.654245  \n",
       "1                    0.838716       1.384887  \n",
       "2                    0.685798       1.946776  \n",
       "3                    3.380709      -1.953573  \n",
       "4                    5.460245       5.962983  \n",
       "..                        ...            ...  \n",
       "95                   0.744025      -0.347301  \n",
       "96                   3.911642       3.797635  \n",
       "97                   0.767423      -2.130778  \n",
       "98                   1.512392      -0.382942  \n",
       "99                   0.758699       0.534175  \n",
       "\n",
       "[100 rows x 5 columns]"
      ]
     },
     "execution_count": 26,
     "metadata": {},
     "output_type": "execute_result"
    }
   ],
   "source": [
    "comparator.build_normalized_table()"
   ]
  }
 ],
 "metadata": {
  "colab": {
   "name": "ice_plot.ipynb",
   "provenance": [],
   "toc_visible": true
  },
  "kernelspec": {
   "display_name": "Python 3",
   "language": "python",
   "name": "python3"
  },
  "language_info": {
   "codemirror_mode": {
    "name": "ipython",
    "version": 3
   },
   "file_extension": ".py",
   "mimetype": "text/x-python",
   "name": "python",
   "nbconvert_exporter": "python",
   "pygments_lexer": "ipython3",
   "version": "3.8.5"
  },
  "toc": {
   "base_numbering": 1,
   "nav_menu": {},
   "number_sections": true,
   "sideBar": true,
   "skip_h1_title": false,
   "title_cell": "Table of Contents",
   "title_sidebar": "Contents",
   "toc_cell": false,
   "toc_position": {
    "height": "calc(100% - 180px)",
    "left": "10px",
    "top": "150px",
    "width": "230.4px"
   },
   "toc_section_display": true,
   "toc_window_display": true
  }
 },
 "nbformat": 4,
 "nbformat_minor": 1
}
