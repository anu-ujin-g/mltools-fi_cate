{
 "cells": [
  {
   "cell_type": "code",
   "execution_count": 1,
   "metadata": {
    "id": "BqkGR-LB_-Bf"
   },
   "outputs": [],
   "source": [
    "import pandas as pd\n",
    "import numpy as np\n",
    "import matplotlib.pyplot as plt\n",
    "%matplotlib inline\n",
    "import seaborn as sns\n",
    "sns.set_theme(style=\"darkgrid\")\n",
    "import scipy as sp\n",
    "from sklearn.ensemble import RandomForestClassifier\n",
    "from sklearn.impute import SimpleImputer\n",
    "from datetime import datetime\n",
    "import shap"
   ]
  },
  {
   "cell_type": "code",
   "execution_count": 2,
   "metadata": {},
   "outputs": [],
   "source": [
    "exec(open(\"../../header.py\").read())"
   ]
  },
  {
   "cell_type": "markdown",
   "metadata": {},
   "source": [
    "# Import data"
   ]
  },
  {
   "cell_type": "code",
   "execution_count": 3,
   "metadata": {},
   "outputs": [],
   "source": [
    "folder_name = 'large_feature_set'"
   ]
  },
  {
   "cell_type": "code",
   "execution_count": 4,
   "metadata": {
    "id": "vXpomyt6FMz2"
   },
   "outputs": [],
   "source": [
    "X = pd.read_csv(processed_root(f'{folder_name}/X.csv'))\n",
    "y = pd.read_csv(processed_root(f'{folder_name}/y.csv'))"
   ]
  },
  {
   "cell_type": "markdown",
   "metadata": {},
   "source": [
    "# Fit model"
   ]
  },
  {
   "cell_type": "code",
   "execution_count": 5,
   "metadata": {
    "colab": {
     "base_uri": "https://localhost:8080/"
    },
    "id": "xB4klszcFiEB",
    "outputId": "2985105a-80fe-44cd-9235-a7c09a7d7b0d"
   },
   "outputs": [
    {
     "data": {
      "text/plain": [
       "RandomForestClassifier(n_estimators=500)"
      ]
     },
     "execution_count": 5,
     "metadata": {},
     "output_type": "execute_result"
    }
   ],
   "source": [
    "model = RandomForestClassifier(n_estimators = 500)\n",
    "model.fit(X, y.iloc[:,0])"
   ]
  },
  {
   "cell_type": "markdown",
   "metadata": {},
   "source": [
    "# Shapley object"
   ]
  },
  {
   "cell_type": "code",
   "execution_count": 6,
   "metadata": {},
   "outputs": [],
   "source": [
    "shapley = SHAP_FI(\"tree\")\n",
    "native = Native_FI()\n",
    "ice = ICE(\"binary\", trace = False)\n",
    "fi_metrics = [ice, native, shapley]"
   ]
  },
  {
   "cell_type": "code",
   "execution_count": 7,
   "metadata": {},
   "outputs": [],
   "source": [
    "comparator = Comparator(trace = True)"
   ]
  },
  {
   "cell_type": "code",
   "execution_count": 8,
   "metadata": {},
   "outputs": [
    {
     "name": "stdout",
     "output_type": "stream",
     "text": [
      "Fitting for <__main__.ICE object at 0x000001CCF5E145E0>\n",
      "Fitting for <__main__.Native_FI object at 0x000001CCF5E146D0>\n",
      "Fitting for <__main__.SHAP_FI object at 0x000001CCF5E14670>\n",
      "List of shap values. Taking 2nd element.\n"
     ]
    }
   ],
   "source": [
    "comparator.fit(X, model, fi_metrics)"
   ]
  },
  {
   "cell_type": "markdown",
   "metadata": {},
   "source": [
    "# Results"
   ]
  },
  {
   "cell_type": "code",
   "execution_count": 16,
   "metadata": {},
   "outputs": [
    {
     "data": {
      "text/html": [
       "<div>\n",
       "<style scoped>\n",
       "    .dataframe tbody tr th:only-of-type {\n",
       "        vertical-align: middle;\n",
       "    }\n",
       "\n",
       "    .dataframe tbody tr th {\n",
       "        vertical-align: top;\n",
       "    }\n",
       "\n",
       "    .dataframe thead th {\n",
       "        text-align: right;\n",
       "    }\n",
       "</style>\n",
       "<table border=\"1\" class=\"dataframe\">\n",
       "  <thead>\n",
       "    <tr style=\"text-align: right;\">\n",
       "      <th></th>\n",
       "      <th>Feature</th>\n",
       "      <th>Feature Impact</th>\n",
       "      <th>In-Dist Feature Impact</th>\n",
       "      <th>Native Feature Importance</th>\n",
       "      <th>Shapley Value</th>\n",
       "    </tr>\n",
       "  </thead>\n",
       "  <tbody>\n",
       "    <tr>\n",
       "      <th>4</th>\n",
       "      <td>feature_4</td>\n",
       "      <td>0.077453</td>\n",
       "      <td>0.080261</td>\n",
       "      <td>0.050793</td>\n",
       "      <td>0.000907</td>\n",
       "    </tr>\n",
       "    <tr>\n",
       "      <th>96</th>\n",
       "      <td>feature_96</td>\n",
       "      <td>0.243248</td>\n",
       "      <td>0.247511</td>\n",
       "      <td>0.040150</td>\n",
       "      <td>0.000539</td>\n",
       "    </tr>\n",
       "    <tr>\n",
       "      <th>57</th>\n",
       "      <td>feature_57</td>\n",
       "      <td>0.163340</td>\n",
       "      <td>0.164450</td>\n",
       "      <td>0.035991</td>\n",
       "      <td>0.000563</td>\n",
       "    </tr>\n",
       "    <tr>\n",
       "      <th>3</th>\n",
       "      <td>feature_3</td>\n",
       "      <td>0.091011</td>\n",
       "      <td>0.090599</td>\n",
       "      <td>0.032070</td>\n",
       "      <td>-0.000113</td>\n",
       "    </tr>\n",
       "    <tr>\n",
       "      <th>25</th>\n",
       "      <td>feature_25</td>\n",
       "      <td>0.046041</td>\n",
       "      <td>0.046710</td>\n",
       "      <td>0.021193</td>\n",
       "      <td>0.000121</td>\n",
       "    </tr>\n",
       "    <tr>\n",
       "      <th>34</th>\n",
       "      <td>feature_34</td>\n",
       "      <td>0.104610</td>\n",
       "      <td>0.105814</td>\n",
       "      <td>0.020713</td>\n",
       "      <td>-0.000375</td>\n",
       "    </tr>\n",
       "    <tr>\n",
       "      <th>52</th>\n",
       "      <td>feature_52</td>\n",
       "      <td>0.070977</td>\n",
       "      <td>0.071779</td>\n",
       "      <td>0.018915</td>\n",
       "      <td>0.000014</td>\n",
       "    </tr>\n",
       "    <tr>\n",
       "      <th>50</th>\n",
       "      <td>feature_50</td>\n",
       "      <td>0.019441</td>\n",
       "      <td>0.019675</td>\n",
       "      <td>0.017293</td>\n",
       "      <td>-0.000318</td>\n",
       "    </tr>\n",
       "    <tr>\n",
       "      <th>98</th>\n",
       "      <td>feature_98</td>\n",
       "      <td>0.079255</td>\n",
       "      <td>0.082091</td>\n",
       "      <td>0.015224</td>\n",
       "      <td>0.000136</td>\n",
       "    </tr>\n",
       "    <tr>\n",
       "      <th>59</th>\n",
       "      <td>feature_59</td>\n",
       "      <td>0.032739</td>\n",
       "      <td>0.032555</td>\n",
       "      <td>0.013770</td>\n",
       "      <td>0.000033</td>\n",
       "    </tr>\n",
       "    <tr>\n",
       "      <th>40</th>\n",
       "      <td>feature_40</td>\n",
       "      <td>0.036980</td>\n",
       "      <td>0.037406</td>\n",
       "      <td>0.010989</td>\n",
       "      <td>0.000066</td>\n",
       "    </tr>\n",
       "    <tr>\n",
       "      <th>22</th>\n",
       "      <td>feature_22</td>\n",
       "      <td>0.026486</td>\n",
       "      <td>0.027298</td>\n",
       "      <td>0.010877</td>\n",
       "      <td>0.000100</td>\n",
       "    </tr>\n",
       "    <tr>\n",
       "      <th>56</th>\n",
       "      <td>feature_56</td>\n",
       "      <td>0.029542</td>\n",
       "      <td>0.030540</td>\n",
       "      <td>0.010823</td>\n",
       "      <td>0.000172</td>\n",
       "    </tr>\n",
       "    <tr>\n",
       "      <th>6</th>\n",
       "      <td>feature_6</td>\n",
       "      <td>0.013676</td>\n",
       "      <td>0.013794</td>\n",
       "      <td>0.010533</td>\n",
       "      <td>-0.000195</td>\n",
       "    </tr>\n",
       "    <tr>\n",
       "      <th>65</th>\n",
       "      <td>feature_65</td>\n",
       "      <td>0.205779</td>\n",
       "      <td>0.198590</td>\n",
       "      <td>0.010280</td>\n",
       "      <td>0.000127</td>\n",
       "    </tr>\n",
       "  </tbody>\n",
       "</table>\n",
       "</div>"
      ],
      "text/plain": [
       "       Feature  Feature Impact  In-Dist Feature Impact  \\\n",
       "4    feature_4        0.077453                0.080261   \n",
       "96  feature_96        0.243248                0.247511   \n",
       "57  feature_57        0.163340                0.164450   \n",
       "3    feature_3        0.091011                0.090599   \n",
       "25  feature_25        0.046041                0.046710   \n",
       "34  feature_34        0.104610                0.105814   \n",
       "52  feature_52        0.070977                0.071779   \n",
       "50  feature_50        0.019441                0.019675   \n",
       "98  feature_98        0.079255                0.082091   \n",
       "59  feature_59        0.032739                0.032555   \n",
       "40  feature_40        0.036980                0.037406   \n",
       "22  feature_22        0.026486                0.027298   \n",
       "56  feature_56        0.029542                0.030540   \n",
       "6    feature_6        0.013676                0.013794   \n",
       "65  feature_65        0.205779                0.198590   \n",
       "\n",
       "    Native Feature Importance  Shapley Value  \n",
       "4                    0.050793       0.000907  \n",
       "96                   0.040150       0.000539  \n",
       "57                   0.035991       0.000563  \n",
       "3                    0.032070      -0.000113  \n",
       "25                   0.021193       0.000121  \n",
       "34                   0.020713      -0.000375  \n",
       "52                   0.018915       0.000014  \n",
       "50                   0.017293      -0.000318  \n",
       "98                   0.015224       0.000136  \n",
       "59                   0.013770       0.000033  \n",
       "40                   0.010989       0.000066  \n",
       "22                   0.010877       0.000100  \n",
       "56                   0.010823       0.000172  \n",
       "6                    0.010533      -0.000195  \n",
       "65                   0.010280       0.000127  "
      ]
     },
     "execution_count": 16,
     "metadata": {},
     "output_type": "execute_result"
    }
   ],
   "source": [
    "comparator.build_raw_table().sort_values('Native Feature Importance', ascending = False)\\\n",
    "    .iloc[0:15]"
   ]
  },
  {
   "cell_type": "code",
   "execution_count": 12,
   "metadata": {},
   "outputs": [
    {
     "data": {
      "text/html": [
       "<div>\n",
       "<style scoped>\n",
       "    .dataframe tbody tr th:only-of-type {\n",
       "        vertical-align: middle;\n",
       "    }\n",
       "\n",
       "    .dataframe tbody tr th {\n",
       "        vertical-align: top;\n",
       "    }\n",
       "\n",
       "    .dataframe thead th {\n",
       "        text-align: right;\n",
       "    }\n",
       "</style>\n",
       "<table border=\"1\" class=\"dataframe\">\n",
       "  <thead>\n",
       "    <tr style=\"text-align: right;\">\n",
       "      <th></th>\n",
       "      <th>Feature</th>\n",
       "      <th>Feature Impact</th>\n",
       "      <th>In-Dist Feature Impact</th>\n",
       "      <th>Native Feature Importance</th>\n",
       "      <th>Shapley Value</th>\n",
       "    </tr>\n",
       "  </thead>\n",
       "  <tbody>\n",
       "    <tr>\n",
       "      <th>0</th>\n",
       "      <td>feature_0</td>\n",
       "      <td>0.526466</td>\n",
       "      <td>0.527525</td>\n",
       "      <td>0.881241</td>\n",
       "      <td>-0.437709</td>\n",
       "    </tr>\n",
       "    <tr>\n",
       "      <th>1</th>\n",
       "      <td>feature_1</td>\n",
       "      <td>1.038797</td>\n",
       "      <td>1.035108</td>\n",
       "      <td>0.961214</td>\n",
       "      <td>-0.589002</td>\n",
       "    </tr>\n",
       "    <tr>\n",
       "      <th>2</th>\n",
       "      <td>feature_2</td>\n",
       "      <td>0.386589</td>\n",
       "      <td>0.382179</td>\n",
       "      <td>0.769047</td>\n",
       "      <td>-0.117666</td>\n",
       "    </tr>\n",
       "    <tr>\n",
       "      <th>3</th>\n",
       "      <td>feature_3</td>\n",
       "      <td>3.801349</td>\n",
       "      <td>3.757133</td>\n",
       "      <td>3.206958</td>\n",
       "      <td>-1.002758</td>\n",
       "    </tr>\n",
       "    <tr>\n",
       "      <th>4</th>\n",
       "      <td>feature_4</td>\n",
       "      <td>3.235060</td>\n",
       "      <td>3.328436</td>\n",
       "      <td>5.079325</td>\n",
       "      <td>8.013483</td>\n",
       "    </tr>\n",
       "    <tr>\n",
       "      <th>...</th>\n",
       "      <td>...</td>\n",
       "      <td>...</td>\n",
       "      <td>...</td>\n",
       "      <td>...</td>\n",
       "      <td>...</td>\n",
       "    </tr>\n",
       "    <tr>\n",
       "      <th>95</th>\n",
       "      <td>feature_95</td>\n",
       "      <td>0.356151</td>\n",
       "      <td>0.356857</td>\n",
       "      <td>0.726541</td>\n",
       "      <td>-1.129916</td>\n",
       "    </tr>\n",
       "    <tr>\n",
       "      <th>96</th>\n",
       "      <td>feature_96</td>\n",
       "      <td>10.159943</td>\n",
       "      <td>10.264276</td>\n",
       "      <td>4.014976</td>\n",
       "      <td>4.760170</td>\n",
       "    </tr>\n",
       "    <tr>\n",
       "      <th>97</th>\n",
       "      <td>feature_97</td>\n",
       "      <td>0.401396</td>\n",
       "      <td>0.396092</td>\n",
       "      <td>0.914690</td>\n",
       "      <td>-0.779795</td>\n",
       "    </tr>\n",
       "    <tr>\n",
       "      <th>98</th>\n",
       "      <td>feature_98</td>\n",
       "      <td>3.310322</td>\n",
       "      <td>3.404323</td>\n",
       "      <td>1.522375</td>\n",
       "      <td>1.205297</td>\n",
       "    </tr>\n",
       "    <tr>\n",
       "      <th>99</th>\n",
       "      <td>feature_99</td>\n",
       "      <td>1.735309</td>\n",
       "      <td>1.769635</td>\n",
       "      <td>0.798474</td>\n",
       "      <td>-0.972762</td>\n",
       "    </tr>\n",
       "  </tbody>\n",
       "</table>\n",
       "<p>100 rows × 5 columns</p>\n",
       "</div>"
      ],
      "text/plain": [
       "       Feature  Feature Impact  In-Dist Feature Impact  \\\n",
       "0    feature_0        0.526466                0.527525   \n",
       "1    feature_1        1.038797                1.035108   \n",
       "2    feature_2        0.386589                0.382179   \n",
       "3    feature_3        3.801349                3.757133   \n",
       "4    feature_4        3.235060                3.328436   \n",
       "..         ...             ...                     ...   \n",
       "95  feature_95        0.356151                0.356857   \n",
       "96  feature_96       10.159943               10.264276   \n",
       "97  feature_97        0.401396                0.396092   \n",
       "98  feature_98        3.310322                3.404323   \n",
       "99  feature_99        1.735309                1.769635   \n",
       "\n",
       "    Native Feature Importance  Shapley Value  \n",
       "0                    0.881241      -0.437709  \n",
       "1                    0.961214      -0.589002  \n",
       "2                    0.769047      -0.117666  \n",
       "3                    3.206958      -1.002758  \n",
       "4                    5.079325       8.013483  \n",
       "..                        ...            ...  \n",
       "95                   0.726541      -1.129916  \n",
       "96                   4.014976       4.760170  \n",
       "97                   0.914690      -0.779795  \n",
       "98                   1.522375       1.205297  \n",
       "99                   0.798474      -0.972762  \n",
       "\n",
       "[100 rows x 5 columns]"
      ]
     },
     "execution_count": 12,
     "metadata": {},
     "output_type": "execute_result"
    }
   ],
   "source": [
    "comparator.build_normalized_table()"
   ]
  }
 ],
 "metadata": {
  "colab": {
   "name": "ice_plot.ipynb",
   "provenance": [],
   "toc_visible": true
  },
  "kernelspec": {
   "display_name": "Python 3",
   "language": "python",
   "name": "python3"
  },
  "language_info": {
   "codemirror_mode": {
    "name": "ipython",
    "version": 3
   },
   "file_extension": ".py",
   "mimetype": "text/x-python",
   "name": "python",
   "nbconvert_exporter": "python",
   "pygments_lexer": "ipython3",
   "version": "3.8.5"
  },
  "toc": {
   "base_numbering": 1,
   "nav_menu": {},
   "number_sections": true,
   "sideBar": true,
   "skip_h1_title": false,
   "title_cell": "Table of Contents",
   "title_sidebar": "Contents",
   "toc_cell": false,
   "toc_position": {
    "height": "calc(100% - 180px)",
    "left": "10px",
    "top": "150px",
    "width": "230.4px"
   },
   "toc_section_display": true,
   "toc_window_display": true
  }
 },
 "nbformat": 4,
 "nbformat_minor": 1
}
